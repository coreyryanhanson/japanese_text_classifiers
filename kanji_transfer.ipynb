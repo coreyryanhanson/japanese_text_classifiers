{
 "cells": [
  {
   "cell_type": "markdown",
   "metadata": {},
   "source": [
    "## Imports"
   ]
  },
  {
   "cell_type": "code",
   "execution_count": 116,
   "metadata": {},
   "outputs": [],
   "source": [
    "#Library imports\n",
    "import re\n",
    "import os\n",
    "import shutil\n",
    "import time\n",
    "import math\n",
    "import random\n",
    "import warnings\n",
    "import numpy as np\n",
    "import pandas as pd\n",
    "import seaborn as sns\n",
    "import matplotlib.pyplot as plt\n",
    "#import matplotlib.font_manager as fm\n",
    "\n",
    "from IPython.display import Image, display\n",
    "from sklearn.dummy import DummyClassifier\n",
    "from sklearn.model_selection import train_test_split\n",
    "from sklearn.utils import class_weight\n",
    "\n",
    "from tensorflow.keras import models, Input\n",
    "from tensorflow.keras.preprocessing.image import ImageDataGenerator, array_to_img, img_to_array, load_img\n",
    "from tensorflow.keras.utils import to_categorical\n",
    "from tensorflow.keras.models import Sequential\n",
    "from tensorflow.keras import initializers\n",
    "from tensorflow.keras.optimizers import Adam\n",
    "from tensorflow.keras.layers import Dense, LSTM, Dropout, Conv2D, MaxPooling2D, Flatten\n",
    "from tensorflow.keras.callbacks import EarlyStopping, ModelCheckpoint\n",
    "from tensorflow.keras.regularizers import l1, l2\n",
    "\n",
    "\n",
    "#User Created functions\n",
    "\n",
    "from cleaning_functions import *\n",
    "from eda_functions import *\n",
    "from modeling_functions import *\n",
    "from setup_functions import *\n",
    "\n",
    "from random_lumberjacks.src.random_lumberjacks.model.model_classes import *\n",
    "from random_lumberjacks.src.random_lumberjacks.visualization.visualization_functions import *\n",
    "\n",
    "#Notebook arguments\n",
    "%matplotlib inline"
   ]
  },
  {
   "cell_type": "code",
   "execution_count": 2,
   "metadata": {},
   "outputs": [
    {
     "name": "stderr",
     "output_type": "stream",
     "text": [
      "/home/anacuda/work/nyc-mhtn-ds-021720/japanese_text_classifiers/setup_functions.py:22: MatplotlibDeprecationWarning: \n",
      "The createFontList function was deprecated in Matplotlib 3.2 and will be removed two minor releases later. Use FontManager.addfont instead.\n",
      "  font_list = fm.createFontList(font_files)\n"
     ]
    }
   ],
   "source": [
    "#Without this block the Japanese font's won't display properly in Matplotlib.Set to your font directory.\n",
    "extend_matplotlib_fonts(\"/usr/share/fonts/\")"
   ]
  },
  {
   "cell_type": "code",
   "execution_count": 3,
   "metadata": {},
   "outputs": [],
   "source": [
    "#Device specific gpu deterministic arguments\n",
    "from tensorflow import config as tfconfig\n",
    "physical_devices = tfconfig.list_physical_devices('GPU')\n",
    "tfconfig.experimental.set_memory_growth(physical_devices[0], enable=True)\n",
    "os.environ['TF_DETERMINISTIC_OPS'] = '1'"
   ]
  },
  {
   "cell_type": "code",
   "execution_count": 4,
   "metadata": {},
   "outputs": [],
   "source": [
    "#Sets random seeds to allow for reproducable results.\n",
    "from tensorflow import random as tfrandom\n",
    "SEED=127\n",
    "os.environ['PYTHONHASHSEED']=str(SEED)\n",
    "random.seed(SEED)\n",
    "np.random.seed(SEED)\n",
    "tfrandom.set_seed(SEED)"
   ]
  },
  {
   "cell_type": "markdown",
   "metadata": {},
   "source": [
    "## Organizing and splitting the data"
   ]
  },
  {
   "cell_type": "markdown",
   "metadata": {},
   "source": [
    "### Kuzushiji Kanji"
   ]
  },
  {
   "cell_type": "code",
   "execution_count": 166,
   "metadata": {},
   "outputs": [],
   "source": [
    "orig_kuzushiji_kanji_dir = 'data/kuzushiji49/kkanji2'\n",
    "split_kanji_dir = \"data/kuzushiji49/kanji_transfer\""
   ]
  },
  {
   "cell_type": "code",
   "execution_count": 216,
   "metadata": {},
   "outputs": [
    {
     "data": {
      "text/html": [
       "<div>\n",
       "<style scoped>\n",
       "    .dataframe tbody tr th:only-of-type {\n",
       "        vertical-align: middle;\n",
       "    }\n",
       "\n",
       "    .dataframe tbody tr th {\n",
       "        vertical-align: top;\n",
       "    }\n",
       "\n",
       "    .dataframe thead th {\n",
       "        text-align: right;\n",
       "    }\n",
       "</style>\n",
       "<table border=\"1\" class=\"dataframe\">\n",
       "  <thead>\n",
       "    <tr style=\"text-align: right;\">\n",
       "      <th></th>\n",
       "      <th>folder</th>\n",
       "      <th>count</th>\n",
       "      <th>char</th>\n",
       "    </tr>\n",
       "  </thead>\n",
       "  <tbody>\n",
       "    <tr>\n",
       "      <th>0</th>\n",
       "      <td>U+5375</td>\n",
       "      <td>197</td>\n",
       "      <td>卵</td>\n",
       "    </tr>\n",
       "    <tr>\n",
       "      <th>1</th>\n",
       "      <td>U+5BC6</td>\n",
       "      <td>30</td>\n",
       "      <td>密</td>\n",
       "    </tr>\n",
       "    <tr>\n",
       "      <th>2</th>\n",
       "      <td>U+85A6</td>\n",
       "      <td>6</td>\n",
       "      <td>薦</td>\n",
       "    </tr>\n",
       "    <tr>\n",
       "      <th>3</th>\n",
       "      <td>U+8DE1</td>\n",
       "      <td>109</td>\n",
       "      <td>跡</td>\n",
       "    </tr>\n",
       "    <tr>\n",
       "      <th>4</th>\n",
       "      <td>U+7409</td>\n",
       "      <td>2</td>\n",
       "      <td>琉</td>\n",
       "    </tr>\n",
       "    <tr>\n",
       "      <th>...</th>\n",
       "      <td>...</td>\n",
       "      <td>...</td>\n",
       "      <td>...</td>\n",
       "    </tr>\n",
       "    <tr>\n",
       "      <th>3827</th>\n",
       "      <td>U+5B63</td>\n",
       "      <td>37</td>\n",
       "      <td>季</td>\n",
       "    </tr>\n",
       "    <tr>\n",
       "      <th>3828</th>\n",
       "      <td>U+75B3</td>\n",
       "      <td>2</td>\n",
       "      <td>疳</td>\n",
       "    </tr>\n",
       "    <tr>\n",
       "      <th>3829</th>\n",
       "      <td>U+9322</td>\n",
       "      <td>9</td>\n",
       "      <td>錢</td>\n",
       "    </tr>\n",
       "    <tr>\n",
       "      <th>3830</th>\n",
       "      <td>U+675C</td>\n",
       "      <td>12</td>\n",
       "      <td>杜</td>\n",
       "    </tr>\n",
       "    <tr>\n",
       "      <th>3831</th>\n",
       "      <td>U+5EFC</td>\n",
       "      <td>3</td>\n",
       "      <td>廼</td>\n",
       "    </tr>\n",
       "  </tbody>\n",
       "</table>\n",
       "<p>3832 rows × 3 columns</p>\n",
       "</div>"
      ],
      "text/plain": [
       "      folder  count char\n",
       "0     U+5375    197    卵\n",
       "1     U+5BC6     30    密\n",
       "2     U+85A6      6    薦\n",
       "3     U+8DE1    109    跡\n",
       "4     U+7409      2    琉\n",
       "...      ...    ...  ...\n",
       "3827  U+5B63     37    季\n",
       "3828  U+75B3      2    疳\n",
       "3829  U+9322      9    錢\n",
       "3830  U+675C     12    杜\n",
       "3831  U+5EFC      3    廼\n",
       "\n",
       "[3832 rows x 3 columns]"
      ]
     },
     "execution_count": 216,
     "metadata": {},
     "output_type": "execute_result"
    }
   ],
   "source": [
    "directory_sizes = [[directory, len(os.listdir(f\"{orig_kuzushiji_kanji_dir}/{directory}\"))] for directory in os.listdir(orig_kuzushiji_kanji_dir)]\n",
    "directory_counts = pd.DataFrame(directory_sizes, columns=[\"folder\", \"count\"])\n",
    "directory_counts[\"char\"] = directory_counts[\"folder\"].map(lambda x: chr(int(x[2:], 16)))\n",
    "directory_counts"
   ]
  },
  {
   "cell_type": "code",
   "execution_count": 205,
   "metadata": {},
   "outputs": [],
   "source": [
    "sizes = [[i, directory_counts[directory_counts[\"count\"] >= i][\"count\"].size, directory_counts[directory_counts[\"count\"] >= i][\"count\"].sum()] for i in np.arange(1, 1769)]\n",
    "sizes = pd.DataFrame(sizes, columns = [\"min\", \"classes\", \"total_chars\"]).set_index(\"min\")"
   ]
  },
  {
   "cell_type": "code",
   "execution_count": 206,
   "metadata": {},
   "outputs": [
    {
     "data": {
      "text/plain": [
       "<matplotlib.axes._subplots.AxesSubplot at 0x7f9d99aebf90>"
      ]
     },
     "execution_count": 206,
     "metadata": {},
     "output_type": "execute_result"
    },
    {
     "data": {
      "image/png": "[encoded data removed]",
      "text/plain": [
       "<Figure size 1080x720 with 1 Axes>"
      ]
     },
     "metadata": {
      "needs_background": "light"
     },
     "output_type": "display_data"
    }
   ],
   "source": [
    "sizes.plot(figsize=(15,10))"
   ]
  },
  {
   "cell_type": "markdown",
   "metadata": {},
   "source": [
    "By filtering out the categories with less than 10 observations, 1566 classes remain."
   ]
  },
  {
   "cell_type": "code",
   "execution_count": 208,
   "metadata": {},
   "outputs": [
    {
     "data": {
      "text/plain": [
       "classes          1566\n",
       "total_chars    133480\n",
       "Name: 10, dtype: int64"
      ]
     },
     "execution_count": 208,
     "metadata": {},
     "output_type": "execute_result"
    }
   ],
   "source": [
    "sizes.loc[10]"
   ]
  },
  {
   "cell_type": "code",
   "execution_count": 167,
   "metadata": {},
   "outputs": [],
   "source": [
    "kanji_train = os.path.join(split_kanji_dir, \"train\")\n",
    "kanji_val = os.path.join(split_kanji_dir, \"val\")\n",
    "kanji_test = os.path.join(split_kanji_dir, \"test\")"
   ]
  },
  {
   "cell_type": "code",
   "execution_count": 330,
   "metadata": {},
   "outputs": [],
   "source": [
    "os.makedirs(kanji_train)\n",
    "os.makedirs(kanji_val)\n",
    "os.makedirs(kanji_test)"
   ]
  },
  {
   "cell_type": "code",
   "execution_count": 331,
   "metadata": {},
   "outputs": [],
   "source": [
    "kanji_dir_list = directory_counts[directory_counts[\"count\"] >= 10][\"folder\"].to_numpy().tolist()"
   ]
  },
  {
   "cell_type": "code",
   "execution_count": null,
   "metadata": {},
   "outputs": [],
   "source": [
    "for directory in kanji_dir_list:\n",
    "    paths = image_path_extractor(directory, orig_kuzushiji_kanji_dir, random_seed=SEED)\n",
    "    train, val, test = image_path_list_train_test_split(paths, .7, .1)\n",
    "    \n",
    "    image_path_copier(train, orig_kuzushiji_kanji_dir, kanji_train, directory)\n",
    "    image_path_copier(val, orig_kuzushiji_kanji_dir, kanji_val, directory)\n",
    "    image_path_copier(test, orig_kuzushiji_kanji_dir, kanji_test, directory)"
   ]
  },
  {
   "cell_type": "markdown",
   "metadata": {},
   "source": [
    "The remaining kanji characters with less than 10 observations might be useful in their aggregate form as a class of their own."
   ]
  },
  {
   "cell_type": "code",
   "execution_count": 333,
   "metadata": {},
   "outputs": [
    {
     "data": {
      "text/plain": [
       "6944"
      ]
     },
     "execution_count": 333,
     "metadata": {},
     "output_type": "execute_result"
    }
   ],
   "source": [
    "sizes.loc[1][\"total_chars\"]-sizes.loc[10][\"total_chars\"]"
   ]
  },
  {
   "cell_type": "code",
   "execution_count": 334,
   "metadata": {},
   "outputs": [
    {
     "name": "stdout",
     "output_type": "stream",
     "text": [
      "4860 files copied to data/kuzushiji49/kanji_transfer/train/other\n",
      "1389 files copied to data/kuzushiji49/kanji_transfer/val/other\n",
      "695 files copied to data/kuzushiji49/kanji_transfer/test/other\n"
     ]
    }
   ],
   "source": [
    "other_dirs = directory_counts[directory_counts[\"count\"] < 10][\"folder\"].to_numpy().tolist()\n",
    "other_paths = image_path_extractor(other_dirs, orig_kuzushiji_kanji_dir, random_seed=SEED)\n",
    "\n",
    "train, val, test = image_path_list_train_test_split(other_paths, .7, .1)\n",
    "\n",
    "#Copies the files to their new subdirectories.\n",
    "image_path_copier(train, orig_kuzushiji_kanji_dir, kanji_train, \"other\")\n",
    "image_path_copier(val, orig_kuzushiji_kanji_dir, kanji_val, \"other\")\n",
    "image_path_copier(test, orig_kuzushiji_kanji_dir, kanji_test, \"other\")"
   ]
  },
  {
   "cell_type": "markdown",
   "metadata": {},
   "source": [
    "### EMNIST"
   ]
  },
  {
   "cell_type": "code",
   "execution_count": 162,
   "metadata": {},
   "outputs": [],
   "source": [
    "emnist_train_data = parse_emnist(\"data/emnist/emnist-bymerge-train-images-idx3-ubyte.gz\")\n",
    "emnist_train_labels = parse_emnist(\"data/emnist/emnist-bymerge-train-labels-idx1-ubyte.gz\", offset=8, isimg=False)\n",
    "emnist_test_data = parse_emnist(\"data/emnist/emnist-bymerge-test-images-idx3-ubyte.gz\")\n",
    "emnist_test_labels = parse_emnist(\"data/emnist/emnist-bymerge-test-labels-idx1-ubyte.gz\", offset=8, isimg=False)"
   ]
  },
  {
   "cell_type": "code",
   "execution_count": 163,
   "metadata": {},
   "outputs": [],
   "source": [
    "emnist_train_data = pad_raster_edges(emnist_train_data, 2, 2)\n",
    "emnist_test_data = pad_raster_edges(emnist_test_data, 2, 2)"
   ]
  },
  {
   "cell_type": "code",
   "execution_count": 164,
   "metadata": {},
   "outputs": [
    {
     "name": "stdout",
     "output_type": "stream",
     "text": [
      "There are 47 unique values with 0 nan values making up 0.0%\n",
      "38304-1 --5.49%\n",
      "36020-7 --5.16%\n",
      "35285-3 --5.06%\n",
      "34618-0 --4.96%\n",
      "34307-2 --4.92%\n",
      "34150-6 --4.89%\n",
      "33924-8 --4.86%\n",
      "33882-9 --4.85%\n",
      "33656-4 --4.82%\n",
      "31280-5 --4.48%\n",
      "27664-24 --3.96%\n",
      "24657-39 --3.53%\n",
      "23509-28 --3.37%\n",
      "20381-21 --2.92%\n",
      "18248-46 --2.61%\n",
      "15388-30 --2.20%\n",
      "14733-18 --2.11%\n",
      "14060-45 --2.01%\n",
      "12963-12 --1.86%\n",
      "11612-22 --1.66%\n",
      "11444-43 --1.64%\n",
      "10748-25 --1.54%\n",
      "10152-38 --1.45%\n",
      "10009-36 --1.43%\n",
      "9766-29 --1.40%\n",
      "9098-15 --1.30%\n",
      "8682-42 --1.24%\n",
      "8237-23 --1.18%\n",
      "7588-31 --1.09%\n",
      "7403-32 --1.06%\n",
      "7092-34 --1.02%\n",
      "6411-10 --0.92%\n",
      "5689-19 --0.82%\n",
      "5598-33 --0.80%\n",
      "5416-35 --0.78%\n",
      "5080-37 --0.73%\n",
      "5047-27 --0.72%\n",
      "4998-20 --0.72%\n",
      "4925-14 --0.71%\n",
      "4606-13 --0.66%\n",
      "3874-11 --0.56%\n",
      "3693-41 --0.53%\n",
      "3097-17 --0.44%\n",
      "2966-44 --0.42%\n",
      "2603-26 --0.37%\n",
      "2535-40 --0.36%\n",
      "2534-16 --0.36%\n"
     ]
    }
   ],
   "source": [
    "full_value_counts(pd.DataFrame(emnist_train_labels), 0)"
   ]
  },
  {
   "cell_type": "markdown",
   "metadata": {},
   "source": [
    "The amount of observations in this dataset vastly exceed the observations in the kanji set. To prevent these observations from overwhelming the rest of the data, I've downsampled to the lowest value since, 2534 observations is still significant in comparison."
   ]
  },
  {
   "cell_type": "code",
   "execution_count": 165,
   "metadata": {},
   "outputs": [
    {
     "name": "stdout",
     "output_type": "stream",
     "text": [
      "performing downsample\n",
      "performing downsample\n"
     ]
    }
   ],
   "source": [
    "#My resample function requires each observation to be a vector, so the images are reshaped before resampling\n",
    "emnist_train_data, emnist_train_labels = preprocess_raster_resampling(images_to_1d(emnist_train_data), emnist_train_labels, \"downsample\", random_state=SEED)\n",
    "emnist_test_data, emnist_test_labels = preprocess_raster_resampling(images_to_1d(emnist_test_data), emnist_test_labels, \"downsample\", random_state=SEED)\n",
    "\n",
    "#Creates a validation set\n",
    "emnist_train_X, emnist_val_X, emnist_train_y, emnist_val_y = train_test_split(emnist_train_data, emnist_train_labels, test_size=.2, random_state=SEED)\n",
    "\n",
    "# Restoring the original shape while explicitly adding it's color channel.\n",
    "emnist_train_X = images_to_1d(emnist_train_X, 32, 32, 1, inverse=True)\n",
    "emnist_val_X = images_to_1d(emnist_val_X, 32, 32, 1, inverse=True)\n",
    "emnist_test_data = images_to_1d(emnist_test_data, 32, 32, 1, inverse=True)"
   ]
  },
  {
   "cell_type": "code",
   "execution_count": 180,
   "metadata": {},
   "outputs": [],
   "source": [
    "emist_pref = \"emnist_\"\n",
    "export_numpy_array_to_images(emnist_train_X, emnist_train_y, kanji_train, emist_pref)\n",
    "export_numpy_array_to_images(emnist_val_X, emnist_val_y, kanji_val, emist_pref)\n",
    "export_numpy_array_to_images(emnist_test_data, emnist_test_labels, kanji_test, emist_pref)"
   ]
  },
  {
   "cell_type": "markdown",
   "metadata": {},
   "source": [
    "### Obsolete Kana\n"
   ]
  },
  {
   "cell_type": "markdown",
   "metadata": {},
   "source": [
    "Finally, it might help to add in those obsolete observations from the hiragana set to build a more robust base for transfer learning. The proprocessing at this stage will be with a lighter touch since it will be heppening after the image sets are exported and reimported with the rest of the images."
   ]
  },
  {
   "cell_type": "code",
   "execution_count": 200,
   "metadata": {},
   "outputs": [],
   "source": [
    "# Importing the datasets\n",
    "obs_kana_train_data = np.load(\"data/kuzushiji49/train/k49-train-imgs.npz\")['arr_0']\n",
    "obs_kana_train_labels = np.load(\"data/kuzushiji49/train/k49-train-labels.npz\")['arr_0']\n",
    "obs_kana_test_data = np.load(\"data/kuzushiji49/test/k49-test-imgs.npz\")['arr_0']\n",
    "obs_kana_test_labels = np.load(\"data/kuzushiji49/test/k49-test-labels.npz\")['arr_0']\n",
    "\n",
    "# Eliminating the classes that are already used in the main model.\n",
    "obsolete_mask_train = (obs_kana_train_labels == 44) | (obs_kana_train_labels == 45) | (obs_kana_train_labels == 48)\n",
    "obsolete_mask_test = (obs_kana_test_labels == 44) | (obs_kana_test_labels == 45) | (obs_kana_test_labels == 48)\n",
    "obs_kana_train_data, obs_kana_train_labels = obs_kana_train_data[obsolete_mask_train], obs_kana_train_labels[obsolete_mask_train]\n",
    "obs_kana_test_data, obs_kana_test_labels = obs_kana_test_data[obsolete_mask_test], obs_kana_test_labels[obsolete_mask_test]\n",
    "\n",
    "# Match kanji folder structure by replacing the key with the unicode value.\n",
    "to_replace, unicode_sym = 44, \"U+3090\"\n",
    "obs_kana_train_labels, obs_kana_test_labels = np.where(obs_kana_train_labels == to_replace, unicode_sym, obs_kana_train_labels), np.where(obs_kana_test_labels == to_replace, unicode_sym, obs_kana_test_labels)\n",
    "\n",
    "to_replace, unicode_sym = \"45\", \"U+3091\"\n",
    "obs_kana_train_labels, obs_kana_test_labels = np.where(obs_kana_train_labels == to_replace, unicode_sym, obs_kana_train_labels), np.where(obs_kana_test_labels == to_replace, unicode_sym, obs_kana_test_labels)\n",
    "\n",
    "to_replace, unicode_sym = \"48\", \"U+309E\"\n",
    "obs_kana_train_labels, obs_kana_test_labels = np.where(obs_kana_train_labels == to_replace, unicode_sym, obs_kana_train_labels), np.where(obs_kana_test_labels == to_replace, unicode_sym, obs_kana_test_labels)\n",
    "\n",
    "#Adding the padding to make all images 32x32 and allow for edge buffer during transformations.\n",
    "obs_kana_train_data = pad_raster_edges(obs_kana_train_data, 2, 2)\n",
    "obs_kana_test_data = pad_raster_edges(obs_kana_test_data, 2, 2)\n",
    "\n",
    "#Creates a validation set\n",
    "obs_kana_train_X, obs_kana_val_X, obs_kana_train_y, obs_kana_val_y = train_test_split(obs_kana_train_data, obs_kana_train_labels, test_size=.2, random_state=SEED)\n",
    "\n",
    "# Restoring the original shape while explicitly adding it's color channel.\n",
    "obs_kana_train_X = images_to_1d(obs_kana_train_X, 32, 32, 1, inverse=True)\n",
    "obs_kana_val_X = images_to_1d(obs_kana_val_X, 32, 32, 1, inverse=True)\n",
    "obs_kana_test_data = images_to_1d(obs_kana_test_data, 32, 32, 1, inverse=True)"
   ]
  },
  {
   "cell_type": "code",
   "execution_count": 203,
   "metadata": {},
   "outputs": [],
   "source": [
    "export_numpy_array_to_images(obs_kana_train_X, obs_kana_train_y, kanji_train)\n",
    "export_numpy_array_to_images(obs_kana_val_X, obs_kana_val_y, kanji_val)\n",
    "export_numpy_array_to_images(obs_kana_test_data, obs_kana_test_labels, kanji_test)"
   ]
  },
  {
   "cell_type": "markdown",
   "metadata": {},
   "source": [
    "## Preprossess"
   ]
  },
  {
   "cell_type": "code",
   "execution_count": 204,
   "metadata": {},
   "outputs": [],
   "source": [
    "train_generator = ImageDataGenerator(rescale=1./255,\n",
    "                                     rotation_range=4,\n",
    "                                   width_shift_range=0.1, \n",
    "                                   height_shift_range=0.1, \n",
    "                                   shear_range=0.3, \n",
    "                                   zoom_range=0.1, \n",
    "                                   horizontal_flip=False)\n",
    "test_generator = ImageDataGenerator(rescale=1./255)"
   ]
  },
  {
   "cell_type": "code",
   "execution_count": 205,
   "metadata": {},
   "outputs": [
    {
     "name": "stdout",
     "output_type": "stream",
     "text": [
      "Found 196357 images belonging to 1617 classes.\n",
      "Found 52741 images belonging to 1617 classes.\n",
      "Found 34967 images belonging to 1617 classes.\n"
     ]
    }
   ],
   "source": [
    "X_train_generator = train_generator.flow_from_directory(kanji_train, target_size=(64, 64), color_mode='grayscale', seed=SEED, batch_size = 32)\n",
    "X_val_generator = test_generator.flow_from_directory(kanji_val, target_size=(64, 64), color_mode='grayscale', seed=SEED, batch_size = 32)\n",
    "X_test_generator = test_generator.flow_from_directory(kanji_test, target_size=(64, 64), color_mode='grayscale', seed=SEED, batch_size = 14756)"
   ]
  },
  {
   "cell_type": "code",
   "execution_count": null,
   "metadata": {},
   "outputs": [],
   "source": []
  },
  {
   "cell_type": "code",
   "execution_count": 377,
   "metadata": {},
   "outputs": [
    {
     "name": "stdout",
     "output_type": "stream",
     "text": [
      "Found 97614 images belonging to 1567 classes.\n",
      "Found 14756 images belonging to 1567 classes.\n",
      "Accuracy: 0.004467134652201659\n",
      "Balanced Accuracy: 0.0005860734827007006\n"
     ]
    },
    {
     "data": {
      "text/plain": [
       "(0.004467134652201659, 0.0005860734827007006)"
      ]
     },
     "execution_count": 377,
     "metadata": {},
     "output_type": "execute_result"
    }
   ],
   "source": [
    "X_dummy_train_generator = train_generator.flow_from_directory(kanji_train, target_size=(64, 64), color_mode='grayscale', seed=SEED, batch_size = 1567)\n",
    "X_dummy_test_generator = test_generator.flow_from_directory(kanji_test, target_size=(64, 64), color_mode='grayscale', seed=SEED, batch_size = 1567)\n",
    "\n",
    "dummmy_train, dummy_test = next(X_dummy_train_generator), next(X_dummy_test_generator)\n",
    "\n",
    "dummy_X_train, dummy_y_train = dummmy_train[0], np.argmax(dummmy_train[1], axis=1)\n",
    "dummy_X_test, dummy_y_test = dummy_test[0], np.argmax(dummy_test[1], axis=1)\n",
    "\n",
    "baseline_predictor = DummyClassifier(strategy=\"stratified\", random_state=SEED)\n",
    "baseline_predictor.fit(dummy_X_train, dummy_y_train)\n",
    "y_hat = baseline_predictor.predict(dummy_X_test)\n",
    "image_class_accuracy_scores(dummy_y_test, y_hat)"
   ]
  },
  {
   "cell_type": "markdown",
   "metadata": {},
   "source": [
    "## Model1"
   ]
  },
  {
   "cell_type": "code",
   "execution_count": 209,
   "metadata": {},
   "outputs": [],
   "source": [
    "class_weights = class_weight.compute_class_weight(\n",
    "           'balanced',\n",
    "            np.unique(X_train_generator.classes), \n",
    "            X_train_generator.classes)"
   ]
  },
  {
   "cell_type": "code",
   "execution_count": 379,
   "metadata": {},
   "outputs": [
    {
     "name": "stdout",
     "output_type": "stream",
     "text": [
      "Model: \"sequential_3\"\n",
      "_________________________________________________________________\n",
      "Layer (type)                 Output Shape              Param #   \n",
      "=================================================================\n",
      "conv2d_18 (Conv2D)           (None, 64, 64, 32)        320       \n",
      "_________________________________________________________________\n",
      "conv2d_19 (Conv2D)           (None, 64, 64, 32)        9248      \n",
      "_________________________________________________________________\n",
      "max_pooling2d_9 (MaxPooling2 (None, 32, 32, 32)        0         \n",
      "_________________________________________________________________\n",
      "conv2d_20 (Conv2D)           (None, 32, 32, 64)        18496     \n",
      "_________________________________________________________________\n",
      "conv2d_21 (Conv2D)           (None, 32, 32, 64)        36928     \n",
      "_________________________________________________________________\n",
      "max_pooling2d_10 (MaxPooling (None, 16, 16, 64)        0         \n",
      "_________________________________________________________________\n",
      "conv2d_22 (Conv2D)           (None, 16, 16, 128)       73856     \n",
      "_________________________________________________________________\n",
      "conv2d_23 (Conv2D)           (None, 16, 16, 128)       147584    \n",
      "_________________________________________________________________\n",
      "max_pooling2d_11 (MaxPooling (None, 8, 8, 128)         0         \n",
      "_________________________________________________________________\n",
      "flatten_3 (Flatten)          (None, 8192)              0         \n",
      "_________________________________________________________________\n",
      "dense_6 (Dense)              (None, 1000)              8193000   \n",
      "_________________________________________________________________\n",
      "dense_7 (Dense)              (None, 1567)              1568567   \n",
      "=================================================================\n",
      "Total params: 10,047,999\n",
      "Trainable params: 10,047,999\n",
      "Non-trainable params: 0\n",
      "_________________________________________________________________\n"
     ]
    }
   ],
   "source": [
    "layers = [Conv2D(32, (3, 3), activation='relu', padding=\"same\", input_shape=(64 ,64,  1)),\n",
    "          Conv2D(32, (3, 3), activation='relu', padding=\"same\"),\n",
    "          MaxPooling2D((2, 2)),\n",
    "          Conv2D(64, (3, 3), activation='relu', padding=\"same\"),\n",
    "          Conv2D(64, (3, 3), activation='relu', padding=\"same\"),\n",
    "          MaxPooling2D((2, 2)),\n",
    "          Conv2D(128, (3, 3), activation='relu', padding=\"same\"),\n",
    "          Conv2D(128, (3, 3), activation='relu', padding=\"same\"),\n",
    "          MaxPooling2D((2, 2)),\n",
    "          Flatten(),\n",
    "          Dense(1000, \"relu\"),\n",
    "          Dense(1567, activation='softmax')\n",
    "         ]\n",
    "compile_kwargs = {\"loss\":\"categorical_crossentropy\", \"optimizer\":Adam(learning_rate=0.0001), \"metrics\":['accuracy']}\n",
    "modelk1 = generate_keras_model(Sequential(), layers, compile_kwargs)"
   ]
  },
  {
   "cell_type": "code",
   "execution_count": 380,
   "metadata": {},
   "outputs": [
    {
     "name": "stdout",
     "output_type": "stream",
     "text": [
      "WARNING:tensorflow:sample_weight modes were coerced from\n",
      "  ...\n",
      "    to  \n",
      "  ['...']\n",
      "WARNING:tensorflow:sample_weight modes were coerced from\n",
      "  ...\n",
      "    to  \n",
      "  ['...']\n",
      "Train for 3050 steps, validate for 876 steps\n",
      "Epoch 1/200\n",
      "3049/3050 [============================>.] - ETA: 0s - loss: 4.0043 - accuracy: 0.3522INFO:tensorflow:Assets written to: model_backups/modelk1-01/assets\n",
      "3050/3050 [==============================] - 58s 19ms/step - loss: 4.0039 - accuracy: 0.3522 - val_loss: 2.0887 - val_accuracy: 0.6140\n",
      "Epoch 2/200\n",
      "3049/3050 [============================>.] - ETA: 0s - loss: 1.8978 - accuracy: 0.6118INFO:tensorflow:Assets written to: model_backups/modelk1-02/assets\n",
      "3050/3050 [==============================] - 58s 19ms/step - loss: 1.8978 - accuracy: 0.6119 - val_loss: 1.1777 - val_accuracy: 0.7444\n",
      "Epoch 3/200\n",
      "3049/3050 [============================>.] - ETA: 0s - loss: 1.1891 - accuracy: 0.7251INFO:tensorflow:Assets written to: model_backups/modelk1-03/assets\n",
      "3050/3050 [==============================] - 58s 19ms/step - loss: 1.1889 - accuracy: 0.7251 - val_loss: 0.8559 - val_accuracy: 0.8012\n",
      "Epoch 4/200\n",
      "3048/3050 [============================>.] - ETA: 0s - loss: 0.8605 - accuracy: 0.7876INFO:tensorflow:Assets written to: model_backups/modelk1-04/assets\n",
      "3050/3050 [==============================] - 58s 19ms/step - loss: 0.8604 - accuracy: 0.7876 - val_loss: 0.7286 - val_accuracy: 0.8283\n",
      "Epoch 5/200\n",
      "3046/3050 [============================>.] - ETA: 0s - loss: 0.6664 - accuracy: 0.8306INFO:tensorflow:Assets written to: model_backups/modelk1-05/assets\n",
      "3050/3050 [==============================] - 58s 19ms/step - loss: 0.6664 - accuracy: 0.8306 - val_loss: 0.6376 - val_accuracy: 0.8526\n",
      "Epoch 6/200\n",
      "3048/3050 [============================>.] - ETA: 0s - loss: 0.5308 - accuracy: 0.8596INFO:tensorflow:Assets written to: model_backups/modelk1-06/assets\n",
      "3050/3050 [==============================] - 58s 19ms/step - loss: 0.5309 - accuracy: 0.8596 - val_loss: 0.6397 - val_accuracy: 0.8571\n",
      "Epoch 7/200\n",
      "3048/3050 [============================>.] - ETA: 0s - loss: 0.4391 - accuracy: 0.8803INFO:tensorflow:Assets written to: model_backups/modelk1-07/assets\n",
      "3050/3050 [==============================] - 58s 19ms/step - loss: 0.4389 - accuracy: 0.8803 - val_loss: 0.5674 - val_accuracy: 0.8698\n",
      "Epoch 8/200\n",
      "3049/3050 [============================>.] - ETA: 0s - loss: 0.3668 - accuracy: 0.8989INFO:tensorflow:Assets written to: model_backups/modelk1-08/assets\n",
      "3050/3050 [==============================] - 58s 19ms/step - loss: 0.3668 - accuracy: 0.8989 - val_loss: 0.5479 - val_accuracy: 0.8741\n",
      "Epoch 9/200\n",
      "3048/3050 [============================>.] - ETA: 0s - loss: 0.3075 - accuracy: 0.9121INFO:tensorflow:Assets written to: model_backups/modelk1-09/assets\n",
      "3050/3050 [==============================] - 58s 19ms/step - loss: 0.3075 - accuracy: 0.9121 - val_loss: 0.5513 - val_accuracy: 0.8800\n",
      "Epoch 10/200\n",
      "3047/3050 [============================>.] - ETA: 0s - loss: 0.2665 - accuracy: 0.9243INFO:tensorflow:Assets written to: model_backups/modelk1-10/assets\n",
      "3050/3050 [==============================] - 58s 19ms/step - loss: 0.2666 - accuracy: 0.9243 - val_loss: 0.5647 - val_accuracy: 0.8820\n",
      "Epoch 11/200\n",
      "3046/3050 [============================>.] - ETA: 0s - loss: 0.2328 - accuracy: 0.9321INFO:tensorflow:Assets written to: model_backups/modelk1-11/assets\n",
      "3050/3050 [==============================] - 58s 19ms/step - loss: 0.2328 - accuracy: 0.9321 - val_loss: 0.5448 - val_accuracy: 0.8844\n",
      "Epoch 12/200\n",
      "3047/3050 [============================>.] - ETA: 0s - loss: 0.2022 - accuracy: 0.9403INFO:tensorflow:Assets written to: model_backups/modelk1-12/assets\n",
      "3050/3050 [==============================] - 58s 19ms/step - loss: 0.2021 - accuracy: 0.9403 - val_loss: 0.5369 - val_accuracy: 0.8893\n",
      "Epoch 13/200\n",
      "3048/3050 [============================>.] - ETA: 0s - loss: 0.1806 - accuracy: 0.9465INFO:tensorflow:Assets written to: model_backups/modelk1-13/assets\n",
      "3050/3050 [==============================] - 58s 19ms/step - loss: 0.1806 - accuracy: 0.9465 - val_loss: 0.5463 - val_accuracy: 0.8920\n",
      "Epoch 14/200\n",
      "3047/3050 [============================>.] - ETA: 0s - loss: 0.1636 - accuracy: 0.9509INFO:tensorflow:Assets written to: model_backups/modelk1-14/assets\n",
      "3050/3050 [==============================] - 58s 19ms/step - loss: 0.1635 - accuracy: 0.9510 - val_loss: 0.5126 - val_accuracy: 0.8942\n",
      "Epoch 15/200\n",
      "3049/3050 [============================>.] - ETA: 0s - loss: 0.1434 - accuracy: 0.9566INFO:tensorflow:Assets written to: model_backups/modelk1-15/assets\n",
      "3050/3050 [==============================] - 58s 19ms/step - loss: 0.1434 - accuracy: 0.9566 - val_loss: 0.5596 - val_accuracy: 0.8945\n",
      "Epoch 16/200\n",
      "3047/3050 [============================>.] - ETA: 0s - loss: 0.1312 - accuracy: 0.9605INFO:tensorflow:Assets written to: model_backups/modelk1-16/assets\n",
      "3050/3050 [==============================] - 58s 19ms/step - loss: 0.1313 - accuracy: 0.9605 - val_loss: 0.5830 - val_accuracy: 0.8948\n",
      "Epoch 17/200\n",
      "3049/3050 [============================>.] - ETA: 0s - loss: 0.1215 - accuracy: 0.9627INFO:tensorflow:Assets written to: model_backups/modelk1-17/assets\n",
      "3050/3050 [==============================] - 58s 19ms/step - loss: 0.1215 - accuracy: 0.9627 - val_loss: 0.5645 - val_accuracy: 0.8903\n",
      "Epoch 18/200\n",
      "3049/3050 [============================>.] - ETA: 0s - loss: 0.1133 - accuracy: 0.9652INFO:tensorflow:Assets written to: model_backups/modelk1-18/assets\n",
      "3050/3050 [==============================] - 58s 19ms/step - loss: 0.1132 - accuracy: 0.9652 - val_loss: 0.5394 - val_accuracy: 0.8950\n",
      "Epoch 19/200\n",
      "3047/3050 [============================>.] - ETA: 0s - loss: 0.1006 - accuracy: 0.9691INFO:tensorflow:Assets written to: model_backups/modelk1-19/assets\n",
      "3050/3050 [==============================] - 58s 19ms/step - loss: 0.1007 - accuracy: 0.9691 - val_loss: 0.5839 - val_accuracy: 0.8974\n"
     ]
    }
   ],
   "source": [
    "backupsk1 = ModelCheckpoint(\"model_backups/modelk1-{epoch:02d}\", monitor=\"val_loss\")\n",
    "stopping = EarlyStopping(monitor=\"val_loss\", min_delta=0, patience=5, restore_best_weights=True)\n",
    "\n",
    "resultsk1 = modelk1.fit(X_train_generator, epochs=200, steps_per_epoch=3050, validation_data=X_val_generator, validation_steps=876, class_weight=class_weights, callbacks=[backupsk1, stopping])"
   ]
  },
  {
   "cell_type": "code",
   "execution_count": 381,
   "metadata": {},
   "outputs": [
    {
     "name": "stdout",
     "output_type": "stream",
     "text": [
      "Accuracy: 0.8896719978313906\n",
      "Balanced Accuracy: 0.7921170669058342\n"
     ]
    },
    {
     "data": {
      "text/plain": [
       "(0.8896719978313906, 0.7921170669058342)"
      ]
     },
     "execution_count": 381,
     "metadata": {},
     "output_type": "execute_result"
    }
   ],
   "source": [
    "test_batch = next(X_test_generator)\n",
    "image_class_evaluation(modelk1, test_batch[0], test_batch[1])"
   ]
  },
  {
   "cell_type": "markdown",
   "metadata": {},
   "source": [
    "## Model2"
   ]
  },
  {
   "cell_type": "code",
   "execution_count": 206,
   "metadata": {},
   "outputs": [
    {
     "name": "stdout",
     "output_type": "stream",
     "text": [
      "Found 196357 images belonging to 1617 classes.\n",
      "Found 52741 images belonging to 1617 classes.\n",
      "Found 34967 images belonging to 1617 classes.\n"
     ]
    }
   ],
   "source": [
    "X_train_generator_sm = train_generator.flow_from_directory(kanji_train, target_size=(32, 32), color_mode='grayscale', seed=SEED, batch_size = 32)\n",
    "X_val_generator_sm = test_generator.flow_from_directory(kanji_val, target_size=(32, 32), color_mode='grayscale', seed=SEED, batch_size = 32)\n",
    "X_test_generator_sm = test_generator.flow_from_directory(kanji_test, target_size=(32, 32), color_mode='grayscale', seed=SEED, batch_size = 32)"
   ]
  },
  {
   "cell_type": "code",
   "execution_count": 383,
   "metadata": {},
   "outputs": [
    {
     "name": "stdout",
     "output_type": "stream",
     "text": [
      "Model: \"sequential_4\"\n",
      "_________________________________________________________________\n",
      "Layer (type)                 Output Shape              Param #   \n",
      "=================================================================\n",
      "conv2d_24 (Conv2D)           (None, 32, 32, 32)        320       \n",
      "_________________________________________________________________\n",
      "conv2d_25 (Conv2D)           (None, 32, 32, 32)        9248      \n",
      "_________________________________________________________________\n",
      "max_pooling2d_12 (MaxPooling (None, 16, 16, 32)        0         \n",
      "_________________________________________________________________\n",
      "conv2d_26 (Conv2D)           (None, 16, 16, 64)        18496     \n",
      "_________________________________________________________________\n",
      "conv2d_27 (Conv2D)           (None, 16, 16, 64)        36928     \n",
      "_________________________________________________________________\n",
      "max_pooling2d_13 (MaxPooling (None, 8, 8, 64)          0         \n",
      "_________________________________________________________________\n",
      "conv2d_28 (Conv2D)           (None, 8, 8, 128)         73856     \n",
      "_________________________________________________________________\n",
      "conv2d_29 (Conv2D)           (None, 8, 8, 128)         147584    \n",
      "_________________________________________________________________\n",
      "max_pooling2d_14 (MaxPooling (None, 4, 4, 128)         0         \n",
      "_________________________________________________________________\n",
      "flatten_4 (Flatten)          (None, 2048)              0         \n",
      "_________________________________________________________________\n",
      "dense_8 (Dense)              (None, 1000)              2049000   \n",
      "_________________________________________________________________\n",
      "dense_9 (Dense)              (None, 1567)              1568567   \n",
      "=================================================================\n",
      "Total params: 3,903,999\n",
      "Trainable params: 3,903,999\n",
      "Non-trainable params: 0\n",
      "_________________________________________________________________\n"
     ]
    }
   ],
   "source": [
    "layers = [Conv2D(32, (3, 3), activation='relu', padding=\"same\", input_shape=(32 ,32,  1)),\n",
    "          Conv2D(32, (3, 3), activation='relu', padding=\"same\"),\n",
    "          MaxPooling2D((2, 2)),\n",
    "          Conv2D(64, (3, 3), activation='relu', padding=\"same\"),\n",
    "          Conv2D(64, (3, 3), activation='relu', padding=\"same\"),\n",
    "          MaxPooling2D((2, 2)),\n",
    "          Conv2D(128, (3, 3), activation='relu', padding=\"same\"),\n",
    "          Conv2D(128, (3, 3), activation='relu', padding=\"same\"),\n",
    "          MaxPooling2D((2, 2)),\n",
    "          Flatten(),\n",
    "          Dense(1000, \"relu\"),\n",
    "          Dense(1567, activation='softmax')\n",
    "         ]\n",
    "compile_kwargs = {\"loss\":\"categorical_crossentropy\", \"optimizer\":Adam(learning_rate=0.0001), \"metrics\":['accuracy']}\n",
    "modelk2 = generate_keras_model(Sequential(), layers, compile_kwargs)"
   ]
  },
  {
   "cell_type": "code",
   "execution_count": 384,
   "metadata": {},
   "outputs": [
    {
     "name": "stdout",
     "output_type": "stream",
     "text": [
      "WARNING:tensorflow:sample_weight modes were coerced from\n",
      "  ...\n",
      "    to  \n",
      "  ['...']\n",
      "WARNING:tensorflow:sample_weight modes were coerced from\n",
      "  ...\n",
      "    to  \n",
      "  ['...']\n",
      "Train for 3050 steps, validate for 876 steps\n",
      "Epoch 1/200\n",
      "3047/3050 [============================>.] - ETA: 0s - loss: 4.4988 - accuracy: 0.2745INFO:tensorflow:Assets written to: model_backups/kanji/modelk2-01/assets\n",
      "3050/3050 [==============================] - 47s 15ms/step - loss: 4.4977 - accuracy: 0.2746 - val_loss: 2.6937 - val_accuracy: 0.5017\n",
      "Epoch 2/200\n",
      "3049/3050 [============================>.] - ETA: 0s - loss: 2.4055 - accuracy: 0.5219INFO:tensorflow:Assets written to: model_backups/kanji/modelk2-02/assets\n",
      "3050/3050 [==============================] - 47s 15ms/step - loss: 2.4054 - accuracy: 0.5219 - val_loss: 1.6018 - val_accuracy: 0.6564\n",
      "Epoch 3/200\n",
      "3046/3050 [============================>.] - ETA: 0s - loss: 1.6066 - accuracy: 0.6384INFO:tensorflow:Assets written to: model_backups/kanji/modelk2-03/assets\n",
      "3050/3050 [==============================] - 47s 15ms/step - loss: 1.6068 - accuracy: 0.6384 - val_loss: 1.2375 - val_accuracy: 0.7182\n",
      "Epoch 4/200\n",
      "3046/3050 [============================>.] - ETA: 0s - loss: 1.2123 - accuracy: 0.7142INFO:tensorflow:Assets written to: model_backups/kanji/modelk2-04/assets\n",
      "3050/3050 [==============================] - 46s 15ms/step - loss: 1.2122 - accuracy: 0.7142 - val_loss: 0.9789 - val_accuracy: 0.7751\n",
      "Epoch 5/200\n",
      "3046/3050 [============================>.] - ETA: 0s - loss: 0.9629 - accuracy: 0.7599INFO:tensorflow:Assets written to: model_backups/kanji/modelk2-05/assets\n",
      "3050/3050 [==============================] - 47s 15ms/step - loss: 0.9626 - accuracy: 0.7600 - val_loss: 0.8578 - val_accuracy: 0.8037\n",
      "Epoch 6/200\n",
      "3046/3050 [============================>.] - ETA: 0s - loss: 0.7946 - accuracy: 0.7969INFO:tensorflow:Assets written to: model_backups/kanji/modelk2-06/assets\n",
      "3050/3050 [==============================] - 47s 15ms/step - loss: 0.7943 - accuracy: 0.7969 - val_loss: 0.7851 - val_accuracy: 0.8166\n",
      "Epoch 7/200\n",
      "3049/3050 [============================>.] - ETA: 0s - loss: 0.6671 - accuracy: 0.8242INFO:tensorflow:Assets written to: model_backups/kanji/modelk2-07/assets\n",
      "3050/3050 [==============================] - 47s 15ms/step - loss: 0.6670 - accuracy: 0.8242 - val_loss: 0.7378 - val_accuracy: 0.8282\n",
      "Epoch 8/200\n",
      "3049/3050 [============================>.] - ETA: 0s - loss: 0.5703 - accuracy: 0.8472INFO:tensorflow:Assets written to: model_backups/kanji/modelk2-08/assets\n",
      "3050/3050 [==============================] - 47s 15ms/step - loss: 0.5704 - accuracy: 0.8472 - val_loss: 0.6963 - val_accuracy: 0.8425\n",
      "Epoch 9/200\n",
      "3046/3050 [============================>.] - ETA: 0s - loss: 0.4859 - accuracy: 0.8663INFO:tensorflow:Assets written to: model_backups/kanji/modelk2-09/assets\n",
      "3050/3050 [==============================] - 47s 15ms/step - loss: 0.4860 - accuracy: 0.8662 - val_loss: 0.6489 - val_accuracy: 0.8543\n",
      "Epoch 10/200\n",
      "3047/3050 [============================>.] - ETA: 0s - loss: 0.4227 - accuracy: 0.8811INFO:tensorflow:Assets written to: model_backups/kanji/modelk2-10/assets\n",
      "3050/3050 [==============================] - 46s 15ms/step - loss: 0.4227 - accuracy: 0.8811 - val_loss: 0.6373 - val_accuracy: 0.8582\n",
      "Epoch 11/200\n",
      "3048/3050 [============================>.] - ETA: 0s - loss: 0.3689 - accuracy: 0.8946INFO:tensorflow:Assets written to: model_backups/kanji/modelk2-11/assets\n",
      "3050/3050 [==============================] - 46s 15ms/step - loss: 0.3688 - accuracy: 0.8947 - val_loss: 0.6133 - val_accuracy: 0.8649\n",
      "Epoch 12/200\n",
      "3047/3050 [============================>.] - ETA: 0s - loss: 0.3235 - accuracy: 0.9054INFO:tensorflow:Assets written to: model_backups/kanji/modelk2-12/assets\n",
      "3050/3050 [==============================] - 46s 15ms/step - loss: 0.3236 - accuracy: 0.9054 - val_loss: 0.6278 - val_accuracy: 0.8620\n",
      "Epoch 13/200\n",
      "3047/3050 [============================>.] - ETA: 0s - loss: 0.2872 - accuracy: 0.9144INFO:tensorflow:Assets written to: model_backups/kanji/modelk2-13/assets\n",
      "3050/3050 [==============================] - 46s 15ms/step - loss: 0.2871 - accuracy: 0.9145 - val_loss: 0.6010 - val_accuracy: 0.8707\n",
      "Epoch 14/200\n",
      "3048/3050 [============================>.] - ETA: 0s - loss: 0.2548 - accuracy: 0.9232INFO:tensorflow:Assets written to: model_backups/kanji/modelk2-14/assets\n",
      "3050/3050 [==============================] - 46s 15ms/step - loss: 0.2547 - accuracy: 0.9233 - val_loss: 0.6026 - val_accuracy: 0.8734\n",
      "Epoch 15/200\n",
      "3046/3050 [============================>.] - ETA: 0s - loss: 0.2295 - accuracy: 0.9310INFO:tensorflow:Assets written to: model_backups/kanji/modelk2-15/assets\n",
      "3050/3050 [==============================] - 46s 15ms/step - loss: 0.2296 - accuracy: 0.9309 - val_loss: 0.6154 - val_accuracy: 0.8701\n",
      "Epoch 16/200\n",
      "3046/3050 [============================>.] - ETA: 0s - loss: 0.2048 - accuracy: 0.9372INFO:tensorflow:Assets written to: model_backups/kanji/modelk2-16/assets\n",
      "3050/3050 [==============================] - 46s 15ms/step - loss: 0.2049 - accuracy: 0.9372 - val_loss: 0.6834 - val_accuracy: 0.8633\n",
      "Epoch 17/200\n",
      "3046/3050 [============================>.] - ETA: 0s - loss: 0.1857 - accuracy: 0.9427INFO:tensorflow:Assets written to: model_backups/kanji/modelk2-17/assets\n",
      "3050/3050 [==============================] - 46s 15ms/step - loss: 0.1857 - accuracy: 0.9426 - val_loss: 0.6168 - val_accuracy: 0.8767\n",
      "Epoch 18/200\n",
      "3046/3050 [============================>.] - ETA: 0s - loss: 0.1673 - accuracy: 0.9479INFO:tensorflow:Assets written to: model_backups/kanji/modelk2-18/assets\n",
      "3050/3050 [==============================] - 46s 15ms/step - loss: 0.1673 - accuracy: 0.9479 - val_loss: 0.6313 - val_accuracy: 0.8779\n"
     ]
    }
   ],
   "source": [
    "backupsk2 = ModelCheckpoint(\"model_backups/kanji/modelk2-{epoch:02d}\", monitor=\"val_loss\")\n",
    "stopping = EarlyStopping(monitor=\"val_loss\", min_delta=0, patience=5, restore_best_weights=True)\n",
    "\n",
    "resultsk2 = modelk2.fit(X_train_generator_sm, epochs=200, steps_per_epoch=3050, validation_data=X_val_generator_sm, validation_steps=876, class_weight=class_weights, callbacks=[backupsk2, stopping])"
   ]
  },
  {
   "cell_type": "code",
   "execution_count": 386,
   "metadata": {},
   "outputs": [
    {
     "name": "stdout",
     "output_type": "stream",
     "text": [
      "Accuracy: 0.84375\n",
      "Balanced Accuracy: 0.8981481481481481\n"
     ]
    },
    {
     "name": "stderr",
     "output_type": "stream",
     "text": [
      "/opt/conda/lib/python3.7/site-packages/sklearn/metrics/_classification.py:1859: UserWarning: y_pred contains classes not in y_true\n",
      "  warnings.warn('y_pred contains classes not in y_true')\n"
     ]
    },
    {
     "data": {
      "text/plain": [
       "(0.84375, 0.8981481481481481)"
      ]
     },
     "execution_count": 386,
     "metadata": {},
     "output_type": "execute_result"
    }
   ],
   "source": [
    "test_batch = next(X_test_generator_sm)\n",
    "image_class_evaluation(modelk2, test_batch[0], test_batch[1])"
   ]
  },
  {
   "cell_type": "code",
   "execution_count": 210,
   "metadata": {},
   "outputs": [
    {
     "name": "stdout",
     "output_type": "stream",
     "text": [
      "Found 196357 images belonging to 1617 classes.\n",
      "Found 34967 images belonging to 1617 classes.\n",
      "Accuracy: 0.012125079770261647\n",
      "Balanced Accuracy: 0.0031651784908406804\n"
     ]
    },
    {
     "name": "stderr",
     "output_type": "stream",
     "text": [
      "/opt/conda/lib/python3.7/site-packages/sklearn/metrics/_classification.py:1859: UserWarning: y_pred contains classes not in y_true\n",
      "  warnings.warn('y_pred contains classes not in y_true')\n"
     ]
    },
    {
     "data": {
      "text/plain": [
       "(0.012125079770261647, 0.0031651784908406804)"
      ]
     },
     "execution_count": 210,
     "metadata": {},
     "output_type": "execute_result"
    }
   ],
   "source": [
    "X_dummy_train_generator = train_generator.flow_from_directory(kanji_train, target_size=(64, 64), color_mode='grayscale', seed=SEED, batch_size = 1567)\n",
    "X_dummy_test_generator = test_generator.flow_from_directory(kanji_test, target_size=(64, 64), color_mode='grayscale', seed=SEED, batch_size = 1567)\n",
    "\n",
    "dummmy_train, dummy_test = next(X_dummy_train_generator), next(X_dummy_test_generator)\n",
    "\n",
    "dummy_X_train, dummy_y_train = dummmy_train[0], np.argmax(dummmy_train[1], axis=1)\n",
    "dummy_X_test, dummy_y_test = dummy_test[0], np.argmax(dummy_test[1], axis=1)\n",
    "\n",
    "baseline_predictor = DummyClassifier(strategy=\"stratified\", random_state=SEED)\n",
    "baseline_predictor.fit(dummy_X_train, dummy_y_train)\n",
    "y_hat = baseline_predictor.predict(dummy_X_test)\n",
    "image_class_accuracy_scores(dummy_y_test, y_hat)"
   ]
  },
  {
   "cell_type": "code",
   "execution_count": 211,
   "metadata": {},
   "outputs": [
    {
     "name": "stdout",
     "output_type": "stream",
     "text": [
      "Model: \"sequential_2\"\n",
      "_________________________________________________________________\n",
      "Layer (type)                 Output Shape              Param #   \n",
      "=================================================================\n",
      "conv2d_12 (Conv2D)           (None, 32, 32, 32)        320       \n",
      "_________________________________________________________________\n",
      "conv2d_13 (Conv2D)           (None, 32, 32, 32)        9248      \n",
      "_________________________________________________________________\n",
      "max_pooling2d_6 (MaxPooling2 (None, 16, 16, 32)        0         \n",
      "_________________________________________________________________\n",
      "conv2d_14 (Conv2D)           (None, 16, 16, 64)        18496     \n",
      "_________________________________________________________________\n",
      "conv2d_15 (Conv2D)           (None, 16, 16, 64)        36928     \n",
      "_________________________________________________________________\n",
      "max_pooling2d_7 (MaxPooling2 (None, 8, 8, 64)          0         \n",
      "_________________________________________________________________\n",
      "conv2d_16 (Conv2D)           (None, 8, 8, 128)         73856     \n",
      "_________________________________________________________________\n",
      "conv2d_17 (Conv2D)           (None, 8, 8, 128)         147584    \n",
      "_________________________________________________________________\n",
      "max_pooling2d_8 (MaxPooling2 (None, 4, 4, 128)         0         \n",
      "_________________________________________________________________\n",
      "flatten_2 (Flatten)          (None, 2048)              0         \n",
      "_________________________________________________________________\n",
      "dense_4 (Dense)              (None, 1000)              2049000   \n",
      "_________________________________________________________________\n",
      "dense_5 (Dense)              (None, 1617)              1618617   \n",
      "=================================================================\n",
      "Total params: 3,954,049\n",
      "Trainable params: 3,954,049\n",
      "Non-trainable params: 0\n",
      "_________________________________________________________________\n"
     ]
    }
   ],
   "source": [
    "layers = [Conv2D(32, (3, 3), activation='relu', padding=\"same\", input_shape=(32 ,32,  1)),\n",
    "          Conv2D(32, (3, 3), activation='relu', padding=\"same\"),\n",
    "          MaxPooling2D((2, 2)),\n",
    "          Conv2D(64, (3, 3), activation='relu', padding=\"same\"),\n",
    "          Conv2D(64, (3, 3), activation='relu', padding=\"same\"),\n",
    "          MaxPooling2D((2, 2)),\n",
    "          Conv2D(128, (3, 3), activation='relu', padding=\"same\"),\n",
    "          Conv2D(128, (3, 3), activation='relu', padding=\"same\"),\n",
    "          MaxPooling2D((2, 2)),\n",
    "          Flatten(),\n",
    "          Dense(1000, \"relu\"),\n",
    "          Dense(1617, activation='softmax')\n",
    "         ]\n",
    "compile_kwargs = {\"loss\":\"categorical_crossentropy\", \"optimizer\":Adam(learning_rate=0.0001), \"metrics\":['accuracy']}\n",
    "modelk3 = generate_keras_model(Sequential(), layers, compile_kwargs)"
   ]
  },
  {
   "cell_type": "code",
   "execution_count": 212,
   "metadata": {},
   "outputs": [
    {
     "name": "stdout",
     "output_type": "stream",
     "text": [
      "WARNING:tensorflow:sample_weight modes were coerced from\n",
      "  ...\n",
      "    to  \n",
      "  ['...']\n",
      "WARNING:tensorflow:sample_weight modes were coerced from\n",
      "  ...\n",
      "    to  \n",
      "  ['...']\n",
      "Train for 6136 steps, validate for 1648 steps\n",
      "Epoch 1/200\n",
      "6133/6136 [============================>.] - ETA: 0s - loss: 2.8273 - accuracy: 0.4815WARNING:tensorflow:From /opt/conda/lib/python3.7/site-packages/tensorflow_core/python/ops/resource_variable_ops.py:1786: calling BaseResourceVariable.__init__ (from tensorflow.python.ops.resource_variable_ops) with constraint is deprecated and will be removed in a future version.\n",
      "Instructions for updating:\n",
      "If using Keras pass *_constraint arguments to layers.\n",
      "INFO:tensorflow:Assets written to: model_backups/kanji/modelk3-01/assets\n",
      "6136/6136 [==============================] - 99s 16ms/step - loss: 2.8270 - accuracy: 0.4815 - val_loss: 1.8406 - val_accuracy: 0.6243\n",
      "Epoch 2/200\n",
      "6135/6136 [============================>.] - ETA: 0s - loss: 1.5113 - accuracy: 0.6703INFO:tensorflow:Assets written to: model_backups/kanji/modelk3-02/assets\n",
      "6136/6136 [==============================] - 88s 14ms/step - loss: 1.5112 - accuracy: 0.6703 - val_loss: 1.1645 - val_accuracy: 0.7308\n",
      "Epoch 3/200\n",
      "6132/6136 [============================>.] - ETA: 0s - loss: 1.0453 - accuracy: 0.7438INFO:tensorflow:Assets written to: model_backups/kanji/modelk3-03/assets\n",
      "6136/6136 [==============================] - 89s 14ms/step - loss: 1.0453 - accuracy: 0.7438 - val_loss: 0.8758 - val_accuracy: 0.7838\n",
      "Epoch 4/200\n",
      "6133/6136 [============================>.] - ETA: 0s - loss: 0.8069 - accuracy: 0.7874INFO:tensorflow:Assets written to: model_backups/kanji/modelk3-04/assets\n",
      "6136/6136 [==============================] - 88s 14ms/step - loss: 0.8069 - accuracy: 0.7874 - val_loss: 0.7196 - val_accuracy: 0.8109\n",
      "Epoch 5/200\n",
      "6132/6136 [============================>.] - ETA: 0s - loss: 0.6619 - accuracy: 0.8163INFO:tensorflow:Assets written to: model_backups/kanji/modelk3-05/assets\n",
      "6136/6136 [==============================] - 87s 14ms/step - loss: 0.6618 - accuracy: 0.8163 - val_loss: 0.6173 - val_accuracy: 0.8333\n",
      "Epoch 6/200\n",
      "6132/6136 [============================>.] - ETA: 0s - loss: 0.5584 - accuracy: 0.8388INFO:tensorflow:Assets written to: model_backups/kanji/modelk3-06/assets\n",
      "6136/6136 [==============================] - 87s 14ms/step - loss: 0.5584 - accuracy: 0.8388 - val_loss: 0.6594 - val_accuracy: 0.8270\n",
      "Epoch 7/200\n",
      "6132/6136 [============================>.] - ETA: 0s - loss: 0.4859 - accuracy: 0.8560INFO:tensorflow:Assets written to: model_backups/kanji/modelk3-07/assets\n",
      "6136/6136 [==============================] - 87s 14ms/step - loss: 0.4859 - accuracy: 0.8560 - val_loss: 0.5263 - val_accuracy: 0.8578\n",
      "Epoch 8/200\n",
      "6134/6136 [============================>.] - ETA: 0s - loss: 0.4268 - accuracy: 0.8697INFO:tensorflow:Assets written to: model_backups/kanji/modelk3-08/assets\n",
      "6136/6136 [==============================] - 87s 14ms/step - loss: 0.4268 - accuracy: 0.8696 - val_loss: 0.5190 - val_accuracy: 0.8592\n",
      "Epoch 9/200\n",
      "6135/6136 [============================>.] - ETA: 0s - loss: 0.3819 - accuracy: 0.8802INFO:tensorflow:Assets written to: model_backups/kanji/modelk3-09/assets\n",
      "6136/6136 [==============================] - 87s 14ms/step - loss: 0.3819 - accuracy: 0.8802 - val_loss: 0.5092 - val_accuracy: 0.8638\n",
      "Epoch 10/200\n",
      "6134/6136 [============================>.] - ETA: 0s - loss: 0.3432 - accuracy: 0.8893INFO:tensorflow:Assets written to: model_backups/kanji/modelk3-10/assets\n",
      "6136/6136 [==============================] - 87s 14ms/step - loss: 0.3432 - accuracy: 0.8893 - val_loss: 0.5259 - val_accuracy: 0.8625\n",
      "Epoch 11/200\n",
      "6133/6136 [============================>.] - ETA: 0s - loss: 0.3130 - accuracy: 0.8961INFO:tensorflow:Assets written to: model_backups/kanji/modelk3-11/assets\n",
      "6136/6136 [==============================] - 87s 14ms/step - loss: 0.3130 - accuracy: 0.8961 - val_loss: 0.4600 - val_accuracy: 0.8781\n",
      "Epoch 12/200\n",
      "6132/6136 [============================>.] - ETA: 0s - loss: 0.2878 - accuracy: 0.9045INFO:tensorflow:Assets written to: model_backups/kanji/modelk3-12/assets\n",
      "6136/6136 [==============================] - 87s 14ms/step - loss: 0.2877 - accuracy: 0.9045 - val_loss: 0.4924 - val_accuracy: 0.8760\n",
      "Epoch 13/200\n",
      "6133/6136 [============================>.] - ETA: 0s - loss: 0.2684 - accuracy: 0.9083INFO:tensorflow:Assets written to: model_backups/kanji/modelk3-13/assets\n",
      "6136/6136 [==============================] - 89s 15ms/step - loss: 0.2683 - accuracy: 0.9083 - val_loss: 0.4624 - val_accuracy: 0.8819\n",
      "Epoch 14/200\n",
      "6132/6136 [============================>.] - ETA: 0s - loss: 0.2469 - accuracy: 0.9146INFO:tensorflow:Assets written to: model_backups/kanji/modelk3-14/assets\n",
      "6136/6136 [==============================] - 88s 14ms/step - loss: 0.2469 - accuracy: 0.9146 - val_loss: 0.5154 - val_accuracy: 0.8740\n",
      "Epoch 15/200\n",
      "6135/6136 [============================>.] - ETA: 0s - loss: 0.2330 - accuracy: 0.9182INFO:tensorflow:Assets written to: model_backups/kanji/modelk3-15/assets\n",
      "6136/6136 [==============================] - 88s 14ms/step - loss: 0.2330 - accuracy: 0.9182 - val_loss: 0.4482 - val_accuracy: 0.8879\n",
      "Epoch 16/200\n",
      "6132/6136 [============================>.] - ETA: 0s - loss: 0.2181 - accuracy: 0.9225INFO:tensorflow:Assets written to: model_backups/kanji/modelk3-16/assets\n",
      "6136/6136 [==============================] - 88s 14ms/step - loss: 0.2181 - accuracy: 0.9225 - val_loss: 0.4773 - val_accuracy: 0.8842\n",
      "Epoch 17/200\n",
      "6133/6136 [============================>.] - ETA: 0s - loss: 0.2053 - accuracy: 0.9262INFO:tensorflow:Assets written to: model_backups/kanji/modelk3-17/assets\n",
      "6136/6136 [==============================] - 87s 14ms/step - loss: 0.2053 - accuracy: 0.9262 - val_loss: 0.4732 - val_accuracy: 0.8836\n",
      "Epoch 18/200\n",
      "6134/6136 [============================>.] - ETA: 0s - loss: 0.1964 - accuracy: 0.9289INFO:tensorflow:Assets written to: model_backups/kanji/modelk3-18/assets\n",
      "6136/6136 [==============================] - 88s 14ms/step - loss: 0.1964 - accuracy: 0.9289 - val_loss: 0.4696 - val_accuracy: 0.8874\n",
      "Epoch 19/200\n",
      "6135/6136 [============================>.] - ETA: 0s - loss: 0.1878 - accuracy: 0.9319INFO:tensorflow:Assets written to: model_backups/kanji/modelk3-19/assets\n",
      "6136/6136 [==============================] - 88s 14ms/step - loss: 0.1878 - accuracy: 0.9319 - val_loss: 0.4812 - val_accuracy: 0.8846\n",
      "Epoch 20/200\n",
      "6135/6136 [============================>.] - ETA: 0s - loss: 0.1791 - accuracy: 0.9335INFO:tensorflow:Assets written to: model_backups/kanji/modelk3-20/assets\n",
      "6136/6136 [==============================] - 87s 14ms/step - loss: 0.1791 - accuracy: 0.9335 - val_loss: 0.4646 - val_accuracy: 0.8909\n"
     ]
    }
   ],
   "source": [
    "backupsk3 = ModelCheckpoint(\"model_backups/kanji/modelk3-{epoch:02d}\", monitor=\"val_loss\")\n",
    "stopping = EarlyStopping(monitor=\"val_loss\", min_delta=0, patience=5, restore_best_weights=True)\n",
    "\n",
    "resultsk3 = modelk3.fit(X_train_generator_sm, epochs=200, steps_per_epoch=6136, validation_data=X_val_generator_sm, validation_steps=1648, class_weight=class_weights, callbacks=[backupsk3, stopping])"
   ]
  },
  {
   "cell_type": "code",
   "execution_count": 214,
   "metadata": {},
   "outputs": [
    {
     "name": "stdout",
     "output_type": "stream",
     "text": [
      "Accuracy: 0.84375\n",
      "Balanced Accuracy: 0.8392857142857143\n"
     ]
    },
    {
     "data": {
      "text/plain": [
       "(0.84375, 0.8392857142857143)"
      ]
     },
     "execution_count": 214,
     "metadata": {},
     "output_type": "execute_result"
    }
   ],
   "source": [
    "test_batch = next(X_test_generator_sm)\n",
    "image_class_evaluation(modelk3, test_batch[0], test_batch[1])"
   ]
  },
  {
   "cell_type": "code",
   "execution_count": null,
   "metadata": {},
   "outputs": [],
   "source": []
  }
 ],
 "metadata": {
  "kernelspec": {
   "display_name": "Python 3",
   "language": "python",
   "name": "python3"
  },
  "language_info": {
   "codemirror_mode": {
    "name": "ipython",
    "version": 3
   },
   "file_extension": ".py",
   "mimetype": "text/x-python",
   "name": "python",
   "nbconvert_exporter": "python",
   "pygments_lexer": "ipython3",
   "version": "3.7.6"
  }
 },
 "nbformat": 4,
 "nbformat_minor": 4
}
