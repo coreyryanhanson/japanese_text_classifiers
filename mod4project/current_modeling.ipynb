{
 "cells": [
  {
   "cell_type": "markdown",
   "metadata": {},
   "source": [
    "# Current modeling"
   ]
  },
  {
   "cell_type": "markdown",
   "metadata": {},
   "source": [
    "This notebook adapts the best strategies found in the preliminary notebooks to the extended set of modern hiragana characters. For more details on the datapreprocessing workflow/transfer learning model, please refer to the contents of the [preliminary notebook](initial_findings) directory."
   ]
  },
  {
   "cell_type": "markdown",
   "metadata": {},
   "source": [
    "## Imports"
   ]
  },
  {
   "cell_type": "code",
   "execution_count": 1,
   "metadata": {},
   "outputs": [],
   "source": [
    "#Library imports\n",
    "import re\n",
    "import os\n",
    "import sys\n",
    "import shutil\n",
    "import time\n",
    "import math\n",
    "import fnmatch\n",
    "import random\n",
    "import warnings\n",
    "import numpy as np\n",
    "import pandas as pd\n",
    "import seaborn as sns\n",
    "import matplotlib.pyplot as plt\n",
    "#import matplotlib.font_manager as fm\n",
    "\n",
    "from IPython.display import Image, display\n",
    "from sklearn.dummy import DummyClassifier\n",
    "from sklearn.utils import class_weight\n",
    "\n",
    "\n",
    "from tensorflow.keras import models, Input\n",
    "from tensorflow.keras.preprocessing.image import ImageDataGenerator, array_to_img, img_to_array, load_img\n",
    "from tensorflow.keras.models import Sequential\n",
    "from tensorflow.keras import initializers\n",
    "from tensorflow.keras.optimizers import Adam\n",
    "from tensorflow.keras.layers import Dense, LSTM, Dropout, Conv2D, MaxPooling2D, Flatten\n",
    "from tensorflow.keras.callbacks import EarlyStopping, ModelCheckpoint\n",
    "from tensorflow.keras.regularizers import l1, l2\n",
    "\n",
    "# Allows access to scripts and modules relative to the parent directory.\n",
    "parent = os.getcwd()\n",
    "sys.path.append(os.path.join(parent, \"functions\"))\n",
    "\n",
    "#User Created functions\n",
    "\n",
    "from cleaning_functions import *\n",
    "from eda_functions import *\n",
    "from modeling_functions import *\n",
    "from setup_functions import *\n",
    "\n",
    "from random_lumberjacks.src.random_lumberjacks.model.model_classes import *\n",
    "from random_lumberjacks.src.random_lumberjacks.visualization.visualization_functions import *\n",
    "\n",
    "#Notebook arguments\n",
    "%matplotlib inline"
   ]
  },
  {
   "cell_type": "code",
   "execution_count": 2,
   "metadata": {},
   "outputs": [
    {
     "name": "stderr",
     "output_type": "stream",
     "text": [
      "/home/anacuda/work/nyc-mhtn-ds-021720/japanese_text_classifiers/functions/setup_functions.py:23: MatplotlibDeprecationWarning: \n",
      "The createFontList function was deprecated in Matplotlib 3.2 and will be removed two minor releases later. Use FontManager.addfont instead.\n",
      "  font_list = fm.createFontList(font_files)\n"
     ]
    }
   ],
   "source": [
    "#Without this block the Japanese font's won't display properly in Matplotlib.Set to your font directory.\n",
    "extend_matplotlib_fonts(\"/usr/share/fonts/\")"
   ]
  },
  {
   "cell_type": "code",
   "execution_count": 3,
   "metadata": {},
   "outputs": [],
   "source": [
    "#Device specific gpu deterministic arguments\n",
    "from tensorflow import config as tfconfig\n",
    "physical_devices = tfconfig.list_physical_devices('GPU')\n",
    "tfconfig.experimental.set_memory_growth(physical_devices[0], enable=True)\n",
    "os.environ['TF_DETERMINISTIC_OPS'] = '1'"
   ]
  },
  {
   "cell_type": "code",
   "execution_count": 4,
   "metadata": {},
   "outputs": [],
   "source": [
    "#Sets random seeds to allow for reproducable results.\n",
    "from tensorflow import random as tfrandom\n",
    "SEED=127\n",
    "os.environ['PYTHONHASHSEED']=str(SEED)\n",
    "random.seed(SEED)\n",
    "np.random.seed(SEED)\n",
    "tfrandom.set_seed(SEED)"
   ]
  },
  {
   "cell_type": "markdown",
   "metadata": {},
   "source": [
    "Since there are many classes, I've imported a json that contains useful information about the characters and stored it into a DataFrame."
   ]
  },
  {
   "cell_type": "code",
   "execution_count": 5,
   "metadata": {},
   "outputs": [],
   "source": [
    "hiragana_classes = pd.read_json(\"choubenkyo_kivy_app/app/draw_screen/characters/hiragana.json\")\n",
    "\n",
    "# By converting the recorded stroke count to a list of integers, it will be easier to iterate through the data and remove obvious mistakes from the start.\n",
    "hiragana_classes[\"stroke_count\"] = hiragana_classes[\"stroke_count\"].map(lambda x: [int(item[0]) for item in re.finditer(\"\\d+\", x)])\n",
    "\n",
    "# It will be useful to have seperate dataframes to account for dropped classes whether they are the obsolete kana or the compound characters.\n",
    "current_hiragana_classes = hiragana_classes[(hiragana_classes[\"char_id\"]!= \"wi\") & (hiragana_classes[\"char_id\"]!= \"we\")].reset_index(drop=True)\n",
    "reduced_hiragana_classes = current_hiragana_classes.iloc[0:46]\n",
    "compound_hiragana_classes = current_hiragana_classes.iloc[46:]"
   ]
  },
  {
   "cell_type": "markdown",
   "metadata": {},
   "source": [
    "## The Data Preprocessing Workflow"
   ]
  },
  {
   "cell_type": "markdown",
   "metadata": {},
   "source": [
    "In order to minimize computation time, the following code simultaneously constructs the saved images for the CNN and the converted observations for the LSTM"
   ]
  },
  {
   "cell_type": "code",
   "execution_count": 6,
   "metadata": {},
   "outputs": [],
   "source": [
    "# Stroring the common paths in variables\n",
    "raw_path = \"data/choubenkyo_data/raw\"\n",
    "rendered_path = \"data/choubenkyo_data/rasterized\"\n",
    "rendered_split_paths = {\"train\": os.path.join(rendered_path, \"train\"),\n",
    "                        \"val\": os.path.join(rendered_path, \"val\"),\n",
    "                        \"test\": os.path.join(rendered_path, \"test\")}"
   ]
  },
  {
   "cell_type": "code",
   "execution_count": 7,
   "metadata": {},
   "outputs": [
    {
     "name": "stderr",
     "output_type": "stream",
     "text": [
      "/home/anacuda/work/nyc-mhtn-ds-021720/japanese_text_classifiers/functions/cleaning_functions.py:132: RuntimeWarning: invalid value encountered in true_divide\n",
      "  angle_group = fill_np_array_nan_neighbors((distance.T / hypot).T, True)\n"
     ]
    }
   ],
   "source": [
    "# Reproducible results\n",
    "np.random.seed(SEED)\n",
    "\n",
    "# This will control the last dimension of the LSTM layer.\n",
    "max_strokes=40\n",
    "max_features = max_strokes * 4\n",
    "\n",
    "#There are several variations of classes to test on so storing the variable here will make it easier to switch between them.\n",
    "class_list = current_hiragana_classes\n",
    "\n",
    "#Creating the inital train, val, test directories. Function located in \"cleaning_functions.\"\n",
    "create_classification_dirs(rendered_split_paths.values(), class_list[\"char_id\"])\n",
    "\n",
    "# This is the list which will become the lstm input and labels\n",
    "choubenkyo_data = []\n",
    "choubenkyo_raw_labels = []\n",
    "\n",
    "#This list will reference the directory of origin, and the files that are generated/renamed through the train, test, split\n",
    "#to external image file functions.\n",
    "pathmap = []\n",
    "\n",
    "for source in os.listdir(raw_path):\n",
    "    old_dir = os.path.join(raw_path, source)\n",
    "    contents = os.listdir(old_dir)\n",
    "    for label in class_list[\"char_id\"]:\n",
    "        matches = fnmatch.filter(contents, f\"{label}*\")\n",
    "        np.random.shuffle(matches)\n",
    "        match_splits = (image_path_list_train_test_split(matches, .7, .1))\n",
    "        new_file_counters = [len(os.listdir(os.path.join(split_dir, label))) for split_dir in rendered_split_paths.values()]\n",
    "        for i,(key, value) in enumerate(rendered_split_paths.items()):\n",
    "            new_dir = os.path.join(value, label)\n",
    "            for match in match_splits[i]:\n",
    "                match_raw_path = os.path.join(old_dir, match)\n",
    "                raw_strokes = load_pickle(match_raw_path)\n",
    "                smoothed_strokes = parse_to_points_list(raw_strokes)\n",
    "                if len(raw_strokes) not in hiragana_classes[hiragana_classes[\"char_id\"]==label][\"stroke_count\"].reset_index(drop=True)[0]:\n",
    "                    pathmap.append([match_raw_path, np.nan])\n",
    "                    continue\n",
    "                new_path = os.path.join(new_dir, f\"{label}{key}{new_file_counters[i]:05}.png\")\n",
    "                \n",
    "                #Exports images for the CNN.\n",
    "                img = render_coordinates_file_to_img(smoothed_strokes, stroke_width=1)\n",
    "                img = ImageOps.expand(img, 2)\n",
    "                img.save(new_path)\n",
    "                \n",
    "                #Saves observations for the lstm\n",
    "                choubenkyo_data.append(strokes_to_array(smoothed_strokes, max_strokes=max_strokes))\n",
    "                choubenkyo_raw_labels.append(label)\n",
    "                \n",
    "                #Saves information to the document that preserves the link to the source images.\n",
    "                pathmap.append([match_raw_path, new_path])\n",
    "                \n",
    "                #Tracks changes to image iterator so some searches for existing directories can be avoided.\n",
    "                new_file_counters[i] += 1\n",
    "\n",
    "pathmap = pd.DataFrame(pathmap, columns=[\"orig_file\", \"new_file\"])\n",
    "choubenkyo_data = np.vstack(choubenkyo_data)\n",
    "choubenkyo_raw_labels = pd.Series(choubenkyo_raw_labels)"
   ]
  },
  {
   "cell_type": "markdown",
   "metadata": {},
   "source": [
    "### LSTM Specific Adjustments"
   ]
  },
  {
   "cell_type": "markdown",
   "metadata": {},
   "source": [
    "The labels are taken care of automatically when Keras's image generator reads from a directory, but the LSTM data will need their labels adjusted to support one-hot encoding."
   ]
  },
  {
   "cell_type": "code",
   "execution_count": 8,
   "metadata": {},
   "outputs": [],
   "source": [
    "#Creating a dictionary that will be used to map the character id to an index.\n",
    "class_list_label_dict = {key:value for key, value in class_list.reset_index()[[\"char_id\",\"index\"]].to_numpy()}\n",
    "\n",
    "#Mapping to the index so that each label is an integer.\n",
    "choubenkyo_labels = choubenkyo_raw_labels.map(class_list_label_dict)"
   ]
  },
  {
   "cell_type": "markdown",
   "metadata": {},
   "source": [
    "It also requires it's own train. test, split. And the following function does that along with standardizing the data."
   ]
  },
  {
   "cell_type": "code",
   "execution_count": 9,
   "metadata": {},
   "outputs": [
    {
     "name": "stdout",
     "output_type": "stream",
     "text": [
      "Performing a train, test, validation split.\n"
     ]
    }
   ],
   "source": [
    "X_train, X_val, X_test, y_train, y_val, y_test = preprocess_lstm_pipeline(choubenkyo_data, choubenkyo_labels, .2, .1, random_seed=SEED)"
   ]
  },
  {
   "cell_type": "markdown",
   "metadata": {},
   "source": [
    "Instead of running an upsample or downsample function, in this instance I handled any possible class imbalances by assigning class weights."
   ]
  },
  {
   "cell_type": "code",
   "execution_count": 10,
   "metadata": {},
   "outputs": [],
   "source": [
    "class_weights = class_weight.compute_class_weight(\n",
    "           'balanced',\n",
    "            classes = np.unique(np.argmax(y_train, axis = 1)), \n",
    "            y = np.argmax(y_train, axis = 1))"
   ]
  },
  {
   "cell_type": "markdown",
   "metadata": {},
   "source": [
    "### CNN Specific Adjustments"
   ]
  },
  {
   "cell_type": "markdown",
   "metadata": {},
   "source": [
    "Since the splits are already in place in the filesystem, the CNN just requires the instantiation of it's generators. The train parameters once gain are a light degree of transformations without reflecting the character."
   ]
  },
  {
   "cell_type": "code",
   "execution_count": 11,
   "metadata": {},
   "outputs": [],
   "source": [
    "train_generator = ImageDataGenerator(rescale=1./255,\n",
    "                                     rotation_range=4,\n",
    "                                   width_shift_range=0.1, \n",
    "                                   height_shift_range=0.1, \n",
    "                                   shear_range=0.3, \n",
    "                                   zoom_range=0.1, \n",
    "                                   horizontal_flip=False)\n",
    "test_generator = ImageDataGenerator(rescale=1./255)"
   ]
  },
  {
   "cell_type": "code",
   "execution_count": null,
   "metadata": {},
   "outputs": [],
   "source": []
  },
  {
   "cell_type": "code",
   "execution_count": 14,
   "metadata": {},
   "outputs": [
    {
     "name": "stdout",
     "output_type": "stream",
     "text": [
      "Found 4418 images belonging to 108 classes.\n",
      "Found 1345 images belonging to 108 classes.\n",
      "Found 936 images belonging to 108 classes.\n",
      "Found 4418 images belonging to 108 classes.\n"
     ]
    }
   ],
   "source": [
    "X_train_generator = train_generator.flow_from_directory(rendered_split_paths[\"train\"], target_size=(32, 32), color_mode='grayscale', seed=SEED, batch_size = 32)\n",
    "X_val_generator = test_generator.flow_from_directory(rendered_split_paths[\"val\"], target_size=(32, 32), color_mode='grayscale', seed=SEED, batch_size = 32)\n",
    "X_test_generator = test_generator.flow_from_directory(rendered_split_paths[\"test\"], target_size=(32, 32), color_mode='grayscale', seed=SEED, batch_size = 349)\n",
    "\n",
    "# I've also created a quick version on the larger training set with no transformations to be tested against the kujishiji model\n",
    "# wtugut any training.\n",
    "untransformed_train = test_generator.flow_from_directory(rendered_split_paths[\"train\"], target_size=(32, 32), color_mode='grayscale', seed=SEED, batch_size = 4418)"
   ]
  },
  {
   "cell_type": "markdown",
   "metadata": {},
   "source": [
    "## Modeling"
   ]
  },
  {
   "cell_type": "markdown",
   "metadata": {},
   "source": [
    "### CNN With Transfer Learning"
   ]
  },
  {
   "cell_type": "code",
   "execution_count": 21,
   "metadata": {},
   "outputs": [],
   "source": [
    "modelkanji = models.load_model('model_backups/tf_gen_kanji')"
   ]
  },
  {
   "cell_type": "code",
   "execution_count": 22,
   "metadata": {},
   "outputs": [
    {
     "name": "stdout",
     "output_type": "stream",
     "text": [
      "Model: \"sequential_2\"\n",
      "_________________________________________________________________\n",
      "Layer (type)                 Output Shape              Param #   \n",
      "=================================================================\n",
      "conv2d_12 (Conv2D)           (None, 32, 32, 32)        320       \n",
      "_________________________________________________________________\n",
      "conv2d_13 (Conv2D)           (None, 32, 32, 32)        9248      \n",
      "_________________________________________________________________\n",
      "max_pooling2d_6 (MaxPooling2 (None, 16, 16, 32)        0         \n",
      "_________________________________________________________________\n",
      "conv2d_14 (Conv2D)           (None, 16, 16, 64)        18496     \n",
      "_________________________________________________________________\n",
      "conv2d_15 (Conv2D)           (None, 16, 16, 64)        36928     \n",
      "_________________________________________________________________\n",
      "max_pooling2d_7 (MaxPooling2 (None, 8, 8, 64)          0         \n",
      "_________________________________________________________________\n",
      "conv2d_16 (Conv2D)           (None, 8, 8, 128)         73856     \n",
      "_________________________________________________________________\n",
      "conv2d_17 (Conv2D)           (None, 8, 8, 128)         147584    \n",
      "_________________________________________________________________\n",
      "max_pooling2d_8 (MaxPooling2 (None, 4, 4, 128)         0         \n",
      "_________________________________________________________________\n",
      "flatten_2 (Flatten)          (None, 2048)              0         \n",
      "_________________________________________________________________\n",
      "dense_4 (Dense)              (None, 46)                94254     \n",
      "_________________________________________________________________\n",
      "dense_5 (Dense)              (None, 108)               5076      \n",
      "=================================================================\n",
      "Total params: 385,762\n",
      "Trainable params: 385,762\n",
      "Non-trainable params: 0\n",
      "_________________________________________________________________\n"
     ]
    }
   ],
   "source": [
    "layers = modelkanji.layers[:-2] + [Dense(46, \"relu\"), Dense(108, activation='softmax')]\n",
    "compile_kwargs = {\"loss\":\"categorical_crossentropy\", \"optimizer\":Adam(learning_rate=0.00005), \"metrics\":['accuracy']}\n",
    "modelc3 = generate_keras_model(Sequential(), layers, compile_kwargs)"
   ]
  },
  {
   "cell_type": "code",
   "execution_count": 23,
   "metadata": {},
   "outputs": [],
   "source": [
    "for layer in modelc3.layers[0:3]:\n",
    "    layer.trainable = False"
   ]
  },
  {
   "cell_type": "code",
   "execution_count": 24,
   "metadata": {},
   "outputs": [
    {
     "name": "stdout",
     "output_type": "stream",
     "text": [
      "WARNING:tensorflow:sample_weight modes were coerced from\n",
      "  ...\n",
      "    to  \n",
      "  ['...']\n",
      "WARNING:tensorflow:sample_weight modes were coerced from\n",
      "  ...\n",
      "    to  \n",
      "  ['...']\n",
      "Train for 138 steps, validate for 42 steps\n",
      "Epoch 1/200\n",
      "135/138 [============================>.] - ETA: 0s - loss: 4.6284 - accuracy: 0.0252INFO:tensorflow:Assets written to: model_backups/current/modelc3-01/assets\n",
      "138/138 [==============================] - 3s 22ms/step - loss: 4.6225 - accuracy: 0.0253 - val_loss: 4.3083 - val_accuracy: 0.0595\n",
      "Epoch 2/200\n",
      "137/138 [============================>.] - ETA: 0s - loss: 3.9511 - accuracy: 0.1362INFO:tensorflow:Assets written to: model_backups/current/modelc3-02/assets\n",
      "138/138 [==============================] - 2s 17ms/step - loss: 3.9491 - accuracy: 0.1366 - val_loss: 3.0841 - val_accuracy: 0.3132\n",
      "Epoch 3/200\n",
      "134/138 [============================>.] - ETA: 0s - loss: 2.7800 - accuracy: 0.3466INFO:tensorflow:Assets written to: model_backups/current/modelc3-03/assets\n",
      "138/138 [==============================] - 2s 17ms/step - loss: 2.7654 - accuracy: 0.3488 - val_loss: 1.8616 - val_accuracy: 0.5365\n",
      "Epoch 4/200\n",
      "134/138 [============================>.] - ETA: 0s - loss: 1.8680 - accuracy: 0.5352INFO:tensorflow:Assets written to: model_backups/current/modelc3-04/assets\n",
      "138/138 [==============================] - 2s 17ms/step - loss: 1.8550 - accuracy: 0.5381 - val_loss: 1.1561 - val_accuracy: 0.6845\n",
      "Epoch 5/200\n",
      "134/138 [============================>.] - ETA: 0s - loss: 1.2600 - accuracy: 0.6682INFO:tensorflow:Assets written to: model_backups/current/modelc3-05/assets\n",
      "138/138 [==============================] - 2s 17ms/step - loss: 1.2532 - accuracy: 0.6687 - val_loss: 0.7655 - val_accuracy: 0.7753\n",
      "Epoch 6/200\n",
      "137/138 [============================>.] - ETA: 0s - loss: 0.9060 - accuracy: 0.7402INFO:tensorflow:Assets written to: model_backups/current/modelc3-06/assets\n",
      "138/138 [==============================] - 2s 17ms/step - loss: 0.9073 - accuracy: 0.7405 - val_loss: 0.5197 - val_accuracy: 0.8445\n",
      "Epoch 7/200\n",
      "134/138 [============================>.] - ETA: 0s - loss: 0.6706 - accuracy: 0.8048INFO:tensorflow:Assets written to: model_backups/current/modelc3-07/assets\n",
      "138/138 [==============================] - 2s 18ms/step - loss: 0.6701 - accuracy: 0.8044 - val_loss: 0.3824 - val_accuracy: 0.8832\n",
      "Epoch 8/200\n",
      "137/138 [============================>.] - ETA: 0s - loss: 0.4943 - accuracy: 0.8493INFO:tensorflow:Assets written to: model_backups/current/modelc3-08/assets\n",
      "138/138 [==============================] - 2s 18ms/step - loss: 0.4941 - accuracy: 0.8495 - val_loss: 0.2869 - val_accuracy: 0.9144\n",
      "Epoch 9/200\n",
      "137/138 [============================>.] - ETA: 0s - loss: 0.4060 - accuracy: 0.8714INFO:tensorflow:Assets written to: model_backups/current/modelc3-09/assets\n",
      "138/138 [==============================] - 2s 18ms/step - loss: 0.4049 - accuracy: 0.8719 - val_loss: 0.2498 - val_accuracy: 0.9234\n",
      "Epoch 10/200\n",
      "135/138 [============================>.] - ETA: 0s - loss: 0.3296 - accuracy: 0.8977INFO:tensorflow:Assets written to: model_backups/current/modelc3-10/assets\n",
      "138/138 [==============================] - 2s 17ms/step - loss: 0.3302 - accuracy: 0.8972 - val_loss: 0.2250 - val_accuracy: 0.9353\n",
      "Epoch 11/200\n",
      "136/138 [============================>.] - ETA: 0s - loss: 0.2816 - accuracy: 0.9134INFO:tensorflow:Assets written to: model_backups/current/modelc3-11/assets\n",
      "138/138 [==============================] - 2s 17ms/step - loss: 0.2808 - accuracy: 0.9133 - val_loss: 0.2205 - val_accuracy: 0.9368\n",
      "Epoch 12/200\n",
      "137/138 [============================>.] - ETA: 0s - loss: 0.2581 - accuracy: 0.9194INFO:tensorflow:Assets written to: model_backups/current/modelc3-12/assets\n",
      "138/138 [==============================] - 2s 17ms/step - loss: 0.2603 - accuracy: 0.9188 - val_loss: 0.1859 - val_accuracy: 0.9457\n",
      "Epoch 13/200\n",
      "134/138 [============================>.] - ETA: 0s - loss: 0.2368 - accuracy: 0.9232INFO:tensorflow:Assets written to: model_backups/current/modelc3-13/assets\n",
      "138/138 [==============================] - 2s 17ms/step - loss: 0.2357 - accuracy: 0.9236 - val_loss: 0.1726 - val_accuracy: 0.9524\n",
      "Epoch 14/200\n",
      "135/138 [============================>.] - ETA: 0s - loss: 0.1962 - accuracy: 0.9366INFO:tensorflow:Assets written to: model_backups/current/modelc3-14/assets\n",
      "138/138 [==============================] - 2s 17ms/step - loss: 0.1965 - accuracy: 0.9366 - val_loss: 0.1631 - val_accuracy: 0.9524\n",
      "Epoch 15/200\n",
      "133/138 [===========================>..] - ETA: 0s - loss: 0.1697 - accuracy: 0.9442INFO:tensorflow:Assets written to: model_backups/current/modelc3-15/assets\n",
      "138/138 [==============================] - 2s 18ms/step - loss: 0.1705 - accuracy: 0.9437 - val_loss: 0.1510 - val_accuracy: 0.9598\n",
      "Epoch 16/200\n",
      "135/138 [============================>.] - ETA: 0s - loss: 0.1708 - accuracy: 0.9434INFO:tensorflow:Assets written to: model_backups/current/modelc3-16/assets\n",
      "138/138 [==============================] - 2s 17ms/step - loss: 0.1704 - accuracy: 0.9439 - val_loss: 0.1359 - val_accuracy: 0.9576\n",
      "Epoch 17/200\n",
      "134/138 [============================>.] - ETA: 0s - loss: 0.1602 - accuracy: 0.9448INFO:tensorflow:Assets written to: model_backups/current/modelc3-17/assets\n",
      "138/138 [==============================] - 2s 17ms/step - loss: 0.1617 - accuracy: 0.9451 - val_loss: 0.1333 - val_accuracy: 0.9628\n",
      "Epoch 18/200\n",
      "137/138 [============================>.] - ETA: 0s - loss: 0.1234 - accuracy: 0.9610INFO:tensorflow:Assets written to: model_backups/current/modelc3-18/assets\n",
      "138/138 [==============================] - 2s 17ms/step - loss: 0.1240 - accuracy: 0.9603 - val_loss: 0.1186 - val_accuracy: 0.9702\n",
      "Epoch 19/200\n",
      "133/138 [===========================>..] - ETA: 0s - loss: 0.1202 - accuracy: 0.9614INFO:tensorflow:Assets written to: model_backups/current/modelc3-19/assets\n",
      "138/138 [==============================] - 2s 17ms/step - loss: 0.1199 - accuracy: 0.9610 - val_loss: 0.1146 - val_accuracy: 0.9702\n",
      "Epoch 20/200\n",
      "135/138 [============================>.] - ETA: 0s - loss: 0.1068 - accuracy: 0.9662INFO:tensorflow:Assets written to: model_backups/current/modelc3-20/assets\n",
      "138/138 [==============================] - 2s 17ms/step - loss: 0.1059 - accuracy: 0.9663 - val_loss: 0.1169 - val_accuracy: 0.9702\n",
      "Epoch 21/200\n",
      "135/138 [============================>.] - ETA: 0s - loss: 0.1063 - accuracy: 0.9650INFO:tensorflow:Assets written to: model_backups/current/modelc3-21/assets\n",
      "138/138 [==============================] - 2s 17ms/step - loss: 0.1052 - accuracy: 0.9656 - val_loss: 0.1250 - val_accuracy: 0.9643\n",
      "Epoch 22/200\n",
      "137/138 [============================>.] - ETA: 0s - loss: 0.0941 - accuracy: 0.9708INFO:tensorflow:Assets written to: model_backups/current/modelc3-22/assets\n",
      "138/138 [==============================] - 2s 18ms/step - loss: 0.0938 - accuracy: 0.9710 - val_loss: 0.1096 - val_accuracy: 0.9747\n",
      "Epoch 23/200\n",
      "136/138 [============================>.] - ETA: 0s - loss: 0.0915 - accuracy: 0.9706INFO:tensorflow:Assets written to: model_backups/current/modelc3-23/assets\n",
      "138/138 [==============================] - 2s 17ms/step - loss: 0.0911 - accuracy: 0.9708 - val_loss: 0.1170 - val_accuracy: 0.9695\n",
      "Epoch 24/200\n",
      "134/138 [============================>.] - ETA: 0s - loss: 0.0754 - accuracy: 0.9763INFO:tensorflow:Assets written to: model_backups/current/modelc3-24/assets\n",
      "138/138 [==============================] - 2s 17ms/step - loss: 0.0749 - accuracy: 0.9765 - val_loss: 0.1335 - val_accuracy: 0.9650\n",
      "Epoch 25/200\n",
      "136/138 [============================>.] - ETA: 0s - loss: 0.0777 - accuracy: 0.9739INFO:tensorflow:Assets written to: model_backups/current/modelc3-25/assets\n",
      "138/138 [==============================] - 2s 18ms/step - loss: 0.0770 - accuracy: 0.9742 - val_loss: 0.1308 - val_accuracy: 0.9658\n",
      "Epoch 26/200\n",
      "133/138 [===========================>..] - ETA: 0s - loss: 0.0782 - accuracy: 0.9735INFO:tensorflow:Assets written to: model_backups/current/modelc3-26/assets\n",
      "138/138 [==============================] - 2s 18ms/step - loss: 0.0777 - accuracy: 0.9738 - val_loss: 0.1064 - val_accuracy: 0.9740\n",
      "Epoch 27/200\n",
      "137/138 [============================>.] - ETA: 0s - loss: 0.0706 - accuracy: 0.9784INFO:tensorflow:Assets written to: model_backups/current/modelc3-27/assets\n",
      "138/138 [==============================] - 2s 18ms/step - loss: 0.0701 - accuracy: 0.9786 - val_loss: 0.1064 - val_accuracy: 0.9769\n",
      "Epoch 28/200\n",
      "137/138 [============================>.] - ETA: 0s - loss: 0.0699 - accuracy: 0.9770INFO:tensorflow:Assets written to: model_backups/current/modelc3-28/assets\n",
      "138/138 [==============================] - 2s 17ms/step - loss: 0.0708 - accuracy: 0.9767 - val_loss: 0.1209 - val_accuracy: 0.9740\n",
      "Epoch 29/200\n",
      "137/138 [============================>.] - ETA: 0s - loss: 0.0651 - accuracy: 0.9768INFO:tensorflow:Assets written to: model_backups/current/modelc3-29/assets\n",
      "138/138 [==============================] - 2s 17ms/step - loss: 0.0647 - accuracy: 0.9770 - val_loss: 0.1026 - val_accuracy: 0.9799\n",
      "Epoch 30/200\n",
      "137/138 [============================>.] - ETA: 0s - loss: 0.0596 - accuracy: 0.9768INFO:tensorflow:Assets written to: model_backups/current/modelc3-30/assets\n",
      "138/138 [==============================] - 2s 17ms/step - loss: 0.0592 - accuracy: 0.9770 - val_loss: 0.0974 - val_accuracy: 0.9836\n",
      "Epoch 31/200\n",
      "134/138 [============================>.] - ETA: 0s - loss: 0.0583 - accuracy: 0.9810INFO:tensorflow:Assets written to: model_backups/current/modelc3-31/assets\n",
      "138/138 [==============================] - 2s 17ms/step - loss: 0.0582 - accuracy: 0.9811 - val_loss: 0.0978 - val_accuracy: 0.9821\n",
      "Epoch 32/200\n",
      "135/138 [============================>.] - ETA: 0s - loss: 0.0433 - accuracy: 0.9865INFO:tensorflow:Assets written to: model_backups/current/modelc3-32/assets\n",
      "138/138 [==============================] - 2s 17ms/step - loss: 0.0442 - accuracy: 0.9861 - val_loss: 0.0972 - val_accuracy: 0.9814\n",
      "Epoch 33/200\n",
      "133/138 [===========================>..] - ETA: 0s - loss: 0.0553 - accuracy: 0.9811INFO:tensorflow:Assets written to: model_backups/current/modelc3-33/assets\n",
      "138/138 [==============================] - 2s 17ms/step - loss: 0.0541 - accuracy: 0.9815 - val_loss: 0.0998 - val_accuracy: 0.9807\n",
      "Epoch 34/200\n",
      "134/138 [============================>.] - ETA: 0s - loss: 0.0522 - accuracy: 0.9796INFO:tensorflow:Assets written to: model_backups/current/modelc3-34/assets\n",
      "138/138 [==============================] - 2s 17ms/step - loss: 0.0535 - accuracy: 0.9793 - val_loss: 0.1019 - val_accuracy: 0.9784\n",
      "Epoch 35/200\n",
      "134/138 [============================>.] - ETA: 0s - loss: 0.0470 - accuracy: 0.9845INFO:tensorflow:Assets written to: model_backups/current/modelc3-35/assets\n",
      "138/138 [==============================] - 2s 17ms/step - loss: 0.0484 - accuracy: 0.9838 - val_loss: 0.0991 - val_accuracy: 0.9829\n"
     ]
    }
   ],
   "source": [
    "backups = ModelCheckpoint(\"model_backups/current/modelc3-{epoch:02d}\", monitor=\"val_loss\")\n",
    "stopping = EarlyStopping(monitor=\"val_accuracy\", min_delta=0, patience=5, restore_best_weights=True)\n",
    "\n",
    "resultsc3 = modelc3.fit(X_train_generator, epochs=200, steps_per_epoch=138, validation_data=X_val_generator, validation_steps=42, callbacks=[backups, stopping])"
   ]
  },
  {
   "cell_type": "code",
   "execution_count": 25,
   "metadata": {},
   "outputs": [
    {
     "data": {
      "image/png": "[encoded data removed]",
      "text/plain": [
       "<Figure size 1080x720 with 1 Axes>"
      ]
     },
     "metadata": {},
     "output_type": "display_data"
    },
    {
     "data": {
      "text/html": [
       "<div>\n",
       "<style scoped>\n",
       "    .dataframe tbody tr th:only-of-type {\n",
       "        vertical-align: middle;\n",
       "    }\n",
       "\n",
       "    .dataframe tbody tr th {\n",
       "        vertical-align: top;\n",
       "    }\n",
       "\n",
       "    .dataframe thead th {\n",
       "        text-align: right;\n",
       "    }\n",
       "</style>\n",
       "<table border=\"1\" class=\"dataframe\">\n",
       "  <thead>\n",
       "    <tr style=\"text-align: right;\">\n",
       "      <th></th>\n",
       "      <th>loss</th>\n",
       "      <th>accuracy</th>\n",
       "      <th>val_loss</th>\n",
       "      <th>val_accuracy</th>\n",
       "    </tr>\n",
       "  </thead>\n",
       "  <tbody>\n",
       "    <tr>\n",
       "      <th>30</th>\n",
       "      <td>0.058591</td>\n",
       "      <td>0.981076</td>\n",
       "      <td>0.097819</td>\n",
       "      <td>0.982143</td>\n",
       "    </tr>\n",
       "    <tr>\n",
       "      <th>31</th>\n",
       "      <td>0.044504</td>\n",
       "      <td>0.986092</td>\n",
       "      <td>0.097160</td>\n",
       "      <td>0.981399</td>\n",
       "    </tr>\n",
       "    <tr>\n",
       "      <th>32</th>\n",
       "      <td>0.054469</td>\n",
       "      <td>0.981532</td>\n",
       "      <td>0.099837</td>\n",
       "      <td>0.980655</td>\n",
       "    </tr>\n",
       "    <tr>\n",
       "      <th>33</th>\n",
       "      <td>0.053857</td>\n",
       "      <td>0.979252</td>\n",
       "      <td>0.101932</td>\n",
       "      <td>0.978423</td>\n",
       "    </tr>\n",
       "    <tr>\n",
       "      <th>34</th>\n",
       "      <td>0.048777</td>\n",
       "      <td>0.983812</td>\n",
       "      <td>0.099056</td>\n",
       "      <td>0.982887</td>\n",
       "    </tr>\n",
       "  </tbody>\n",
       "</table>\n",
       "</div>"
      ],
      "text/plain": [
       "        loss  accuracy  val_loss  val_accuracy\n",
       "30  0.058591  0.981076  0.097819      0.982143\n",
       "31  0.044504  0.986092  0.097160      0.981399\n",
       "32  0.054469  0.981532  0.099837      0.980655\n",
       "33  0.053857  0.979252  0.101932      0.978423\n",
       "34  0.048777  0.983812  0.099056      0.982887"
      ]
     },
     "execution_count": 25,
     "metadata": {},
     "output_type": "execute_result"
    }
   ],
   "source": [
    "plot_keras_fit_history(resultsc3, 0, common_plot_kwargs={\"style\": \"fivethirtyeight\"}).tail()"
   ]
  },
  {
   "cell_type": "code",
   "execution_count": 26,
   "metadata": {},
   "outputs": [
    {
     "name": "stdout",
     "output_type": "stream",
     "text": [
      "Accuracy: 0.9627507163323782\n",
      "Balanced Accuracy: 0.9685096153846153\n",
      "CPU times: user 126 ms, sys: 17.7 ms, total: 144 ms\n",
      "Wall time: 135 ms\n"
     ]
    },
    {
     "data": {
      "text/plain": [
       "(0.9627507163323782, 0.9685096153846153)"
      ]
     },
     "execution_count": 26,
     "metadata": {},
     "output_type": "execute_result"
    }
   ],
   "source": [
    "%%time\n",
    "test_batch = next(X_test_generator)\n",
    "image_class_evaluation(modelc3, test_batch[0], test_batch[1])"
   ]
  },
  {
   "cell_type": "markdown",
   "metadata": {},
   "source": [
    "### The LSTM"
   ]
  },
  {
   "cell_type": "markdown",
   "metadata": {},
   "source": [
    "Using an LSTM on the coordinate data holds a lot of promise in being the model of choice because of several factors.\n",
    "* It makes of the captured stroke order and stroke directions that are lost in the bitmap conversion.\n",
    "* The recorded points offer much more precision that what is available when the images are rendered to a 32 x 32 pixel grid.\n",
    "\n",
    "Both of these will grow more important with increases in the complexity of the character sets."
   ]
  },
  {
   "cell_type": "code",
   "execution_count": 27,
   "metadata": {},
   "outputs": [
    {
     "name": "stdout",
     "output_type": "stream",
     "text": [
      "Model: \"sequential_3\"\n",
      "_________________________________________________________________\n",
      "Layer (type)                 Output Shape              Param #   \n",
      "=================================================================\n",
      "lstm (LSTM)                  (None, 400)               897600    \n",
      "_________________________________________________________________\n",
      "dropout (Dropout)            (None, 400)               0         \n",
      "_________________________________________________________________\n",
      "dense_6 (Dense)              (None, 46)                18446     \n",
      "_________________________________________________________________\n",
      "dense_7 (Dense)              (None, 108)               5076      \n",
      "=================================================================\n",
      "Total params: 921,122\n",
      "Trainable params: 921,122\n",
      "Non-trainable params: 0\n",
      "_________________________________________________________________\n"
     ]
    }
   ],
   "source": [
    "layers = [LSTM(400, input_shape=(120,max_features)),\n",
    "          Dropout(0.1),\n",
    "          Dense(46, activation='relu'),\n",
    "          Dense(108, activation='softmax'),\n",
    "         ]\n",
    "compile_kwargs = {\"loss\":\"categorical_crossentropy\", \"optimizer\":Adam(learning_rate=0.00003), \"metrics\":['accuracy']}\n",
    "modelc4 = generate_keras_model(Sequential(), layers, compile_kwargs)"
   ]
  },
  {
   "cell_type": "code",
   "execution_count": 28,
   "metadata": {},
   "outputs": [
    {
     "name": "stdout",
     "output_type": "stream",
     "text": [
      "Train on 4823 samples, validate on 536 samples\n",
      "Epoch 1/200\n",
      "4820/4823 [============================>.] - ETA: 0s - loss: 4.6559 - accuracy: 0.0145INFO:tensorflow:Assets written to: model_backups/current/modelc4-01/assets\n",
      "4823/4823 [==============================] - 8s 2ms/sample - loss: 4.6559 - accuracy: 0.0145 - val_loss: 4.5649 - val_accuracy: 0.0448\n",
      "Epoch 2/200\n",
      "4820/4823 [============================>.] - ETA: 0s - loss: 4.3291 - accuracy: 0.0635INFO:tensorflow:Assets written to: model_backups/current/modelc4-02/assets\n",
      "4823/4823 [==============================] - 7s 1ms/sample - loss: 4.3289 - accuracy: 0.0634 - val_loss: 4.0679 - val_accuracy: 0.1138\n",
      "Epoch 3/200\n",
      "4820/4823 [============================>.] - ETA: 0s - loss: 3.7326 - accuracy: 0.1527INFO:tensorflow:Assets written to: model_backups/current/modelc4-03/assets\n",
      "4823/4823 [==============================] - 7s 1ms/sample - loss: 3.7323 - accuracy: 0.1528 - val_loss: 3.3709 - val_accuracy: 0.2481\n",
      "Epoch 4/200\n",
      "4820/4823 [============================>.] - ETA: 0s - loss: 3.0799 - accuracy: 0.3085INFO:tensorflow:Assets written to: model_backups/current/modelc4-04/assets\n",
      "4823/4823 [==============================] - 7s 1ms/sample - loss: 3.0798 - accuracy: 0.3085 - val_loss: 3.3397 - val_accuracy: 0.2201\n",
      "Epoch 5/200\n",
      "4820/4823 [============================>.] - ETA: 0s - loss: 2.4805 - accuracy: 0.4743INFO:tensorflow:Assets written to: model_backups/current/modelc4-05/assets\n",
      "4823/4823 [==============================] - 7s 1ms/sample - loss: 2.4805 - accuracy: 0.4742 - val_loss: 2.1287 - val_accuracy: 0.5914\n",
      "Epoch 6/200\n",
      "4810/4823 [============================>.] - ETA: 0s - loss: 2.0428 - accuracy: 0.5933INFO:tensorflow:Assets written to: model_backups/current/modelc4-06/assets\n",
      "4823/4823 [==============================] - 7s 1ms/sample - loss: 2.0431 - accuracy: 0.5930 - val_loss: 1.8905 - val_accuracy: 0.6119\n",
      "Epoch 7/200\n",
      "4790/4823 [============================>.] - ETA: 0s - loss: 1.5139 - accuracy: 0.7576INFO:tensorflow:Assets written to: model_backups/current/modelc4-07/assets\n",
      "4823/4823 [==============================] - 7s 1ms/sample - loss: 1.5117 - accuracy: 0.7584 - val_loss: 1.2623 - val_accuracy: 0.8284\n",
      "Epoch 8/200\n",
      "4800/4823 [============================>.] - ETA: 0s - loss: 1.1733 - accuracy: 0.8135INFO:tensorflow:Assets written to: model_backups/current/modelc4-08/assets\n",
      "4823/4823 [==============================] - 7s 1ms/sample - loss: 1.1735 - accuracy: 0.8134 - val_loss: 1.0257 - val_accuracy: 0.8619\n",
      "Epoch 9/200\n",
      "4790/4823 [============================>.] - ETA: 0s - loss: 1.2654 - accuracy: 0.7603INFO:tensorflow:Assets written to: model_backups/current/modelc4-09/assets\n",
      "4823/4823 [==============================] - 7s 1ms/sample - loss: 1.2631 - accuracy: 0.7614 - val_loss: 0.9815 - val_accuracy: 0.8470\n",
      "Epoch 10/200\n",
      "4820/4823 [============================>.] - ETA: 0s - loss: 0.7915 - accuracy: 0.8871INFO:tensorflow:Assets written to: model_backups/current/modelc4-10/assets\n",
      "4823/4823 [==============================] - 7s 1ms/sample - loss: 0.7911 - accuracy: 0.8872 - val_loss: 0.6689 - val_accuracy: 0.9160\n",
      "Epoch 11/200\n",
      "4810/4823 [============================>.] - ETA: 0s - loss: 0.5653 - accuracy: 0.9245INFO:tensorflow:Assets written to: model_backups/current/modelc4-11/assets\n",
      "4823/4823 [==============================] - 7s 1ms/sample - loss: 0.5658 - accuracy: 0.9245 - val_loss: 0.6889 - val_accuracy: 0.8806\n",
      "Epoch 12/200\n",
      "4810/4823 [============================>.] - ETA: 0s - loss: 0.6248 - accuracy: 0.8998INFO:tensorflow:Assets written to: model_backups/current/modelc4-12/assets\n",
      "4823/4823 [==============================] - 7s 1ms/sample - loss: 0.6248 - accuracy: 0.8999 - val_loss: 0.5210 - val_accuracy: 0.9254\n",
      "Epoch 13/200\n",
      "4780/4823 [============================>.] - ETA: 0s - loss: 0.4956 - accuracy: 0.9245INFO:tensorflow:Assets written to: model_backups/current/modelc4-13/assets\n",
      "4823/4823 [==============================] - 7s 1ms/sample - loss: 0.4964 - accuracy: 0.9245 - val_loss: 0.5507 - val_accuracy: 0.8993\n",
      "Epoch 14/200\n",
      "4810/4823 [============================>.] - ETA: 0s - loss: 0.3495 - accuracy: 0.9541INFO:tensorflow:Assets written to: model_backups/current/modelc4-14/assets\n",
      "4823/4823 [==============================] - 7s 1ms/sample - loss: 0.3503 - accuracy: 0.9538 - val_loss: 0.7411 - val_accuracy: 0.8414\n",
      "Epoch 15/200\n",
      "4780/4823 [============================>.] - ETA: 0s - loss: 0.3117 - accuracy: 0.9579INFO:tensorflow:Assets written to: model_backups/current/modelc4-15/assets\n",
      "4823/4823 [==============================] - 7s 1ms/sample - loss: 0.3127 - accuracy: 0.9579 - val_loss: 0.2508 - val_accuracy: 0.9739\n",
      "Epoch 16/200\n",
      "4820/4823 [============================>.] - ETA: 0s - loss: 0.2766 - accuracy: 0.9560INFO:tensorflow:Assets written to: model_backups/current/modelc4-16/assets\n",
      "4823/4823 [==============================] - 7s 1ms/sample - loss: 0.2764 - accuracy: 0.9560 - val_loss: 0.3650 - val_accuracy: 0.9235\n",
      "Epoch 17/200\n",
      "4810/4823 [============================>.] - ETA: 0s - loss: 0.3351 - accuracy: 0.9397INFO:tensorflow:Assets written to: model_backups/current/modelc4-17/assets\n",
      "4823/4823 [==============================] - 7s 1ms/sample - loss: 0.3351 - accuracy: 0.9395 - val_loss: 0.2933 - val_accuracy: 0.9459\n",
      "Epoch 18/200\n",
      "4770/4823 [============================>.] - ETA: 0s - loss: 0.2913 - accuracy: 0.9449INFO:tensorflow:Assets written to: model_backups/current/modelc4-18/assets\n",
      "4823/4823 [==============================] - 7s 1ms/sample - loss: 0.2898 - accuracy: 0.9453 - val_loss: 0.2858 - val_accuracy: 0.9459\n",
      "Epoch 19/200\n",
      "4810/4823 [============================>.] - ETA: 0s - loss: 0.2255 - accuracy: 0.9590INFO:tensorflow:Assets written to: model_backups/current/modelc4-19/assets\n",
      "4823/4823 [==============================] - 7s 1ms/sample - loss: 0.2255 - accuracy: 0.9592 - val_loss: 0.2213 - val_accuracy: 0.9739\n",
      "Epoch 20/200\n",
      "4800/4823 [============================>.] - ETA: 0s - loss: 0.2657 - accuracy: 0.9456INFO:tensorflow:Assets written to: model_backups/current/modelc4-20/assets\n",
      "4823/4823 [==============================] - 7s 1ms/sample - loss: 0.2672 - accuracy: 0.9451 - val_loss: 0.5046 - val_accuracy: 0.8918\n",
      "Epoch 21/200\n",
      "4820/4823 [============================>.] - ETA: 0s - loss: 0.1547 - accuracy: 0.9766INFO:tensorflow:Assets written to: model_backups/current/modelc4-21/assets\n",
      "4823/4823 [==============================] - 7s 1ms/sample - loss: 0.1547 - accuracy: 0.9766 - val_loss: 0.1873 - val_accuracy: 0.9627\n",
      "Epoch 22/200\n",
      "4820/4823 [============================>.] - ETA: 0s - loss: 0.2432 - accuracy: 0.9539INFO:tensorflow:Assets written to: model_backups/current/modelc4-22/assets\n",
      "4823/4823 [==============================] - 7s 1ms/sample - loss: 0.2431 - accuracy: 0.9540 - val_loss: 1.0107 - val_accuracy: 0.7631\n",
      "Epoch 23/200\n",
      "4810/4823 [============================>.] - ETA: 0s - loss: 0.1812 - accuracy: 0.9624INFO:tensorflow:Assets written to: model_backups/current/modelc4-23/assets\n",
      "4823/4823 [==============================] - 7s 1ms/sample - loss: 0.1812 - accuracy: 0.9623 - val_loss: 0.2496 - val_accuracy: 0.9403\n"
     ]
    }
   ],
   "source": [
    "backups = ModelCheckpoint(\"model_backups/current/modelc4-{epoch:02d}\", monitor=\"val_loss\")\n",
    "stopping = EarlyStopping(monitor=\"val_accuracy\", min_delta=0, patience=8, restore_best_weights=True)\n",
    "\n",
    "resultsc4 = modelc4.fit(X_train, y_train, epochs=200, batch_size=10, validation_data=(X_val, y_val), class_weight=class_weights, callbacks=[backups, stopping])"
   ]
  },
  {
   "cell_type": "markdown",
   "metadata": {},
   "source": [
    "Graphing the results of the LSTM over the epochs reveals much more volitility. I would like to add on more observations before refining further."
   ]
  },
  {
   "cell_type": "code",
   "execution_count": 29,
   "metadata": {},
   "outputs": [
    {
     "data": {
      "image/png": "[encoded data removed]",
      "text/plain": [
       "<Figure size 1080x720 with 1 Axes>"
      ]
     },
     "metadata": {},
     "output_type": "display_data"
    },
    {
     "data": {
      "text/html": [
       "<div>\n",
       "<style scoped>\n",
       "    .dataframe tbody tr th:only-of-type {\n",
       "        vertical-align: middle;\n",
       "    }\n",
       "\n",
       "    .dataframe tbody tr th {\n",
       "        vertical-align: top;\n",
       "    }\n",
       "\n",
       "    .dataframe thead th {\n",
       "        text-align: right;\n",
       "    }\n",
       "</style>\n",
       "<table border=\"1\" class=\"dataframe\">\n",
       "  <thead>\n",
       "    <tr style=\"text-align: right;\">\n",
       "      <th></th>\n",
       "      <th>loss</th>\n",
       "      <th>accuracy</th>\n",
       "      <th>val_loss</th>\n",
       "      <th>val_accuracy</th>\n",
       "    </tr>\n",
       "  </thead>\n",
       "  <tbody>\n",
       "    <tr>\n",
       "      <th>18</th>\n",
       "      <td>0.225459</td>\n",
       "      <td>0.959154</td>\n",
       "      <td>0.221288</td>\n",
       "      <td>0.973881</td>\n",
       "    </tr>\n",
       "    <tr>\n",
       "      <th>19</th>\n",
       "      <td>0.267184</td>\n",
       "      <td>0.945055</td>\n",
       "      <td>0.504588</td>\n",
       "      <td>0.891791</td>\n",
       "    </tr>\n",
       "    <tr>\n",
       "      <th>20</th>\n",
       "      <td>0.154685</td>\n",
       "      <td>0.976571</td>\n",
       "      <td>0.187264</td>\n",
       "      <td>0.962687</td>\n",
       "    </tr>\n",
       "    <tr>\n",
       "      <th>21</th>\n",
       "      <td>0.243075</td>\n",
       "      <td>0.953971</td>\n",
       "      <td>1.010715</td>\n",
       "      <td>0.763060</td>\n",
       "    </tr>\n",
       "    <tr>\n",
       "      <th>22</th>\n",
       "      <td>0.181175</td>\n",
       "      <td>0.962264</td>\n",
       "      <td>0.249637</td>\n",
       "      <td>0.940298</td>\n",
       "    </tr>\n",
       "  </tbody>\n",
       "</table>\n",
       "</div>"
      ],
      "text/plain": [
       "        loss  accuracy  val_loss  val_accuracy\n",
       "18  0.225459  0.959154  0.221288      0.973881\n",
       "19  0.267184  0.945055  0.504588      0.891791\n",
       "20  0.154685  0.976571  0.187264      0.962687\n",
       "21  0.243075  0.953971  1.010715      0.763060\n",
       "22  0.181175  0.962264  0.249637      0.940298"
      ]
     },
     "execution_count": 29,
     "metadata": {},
     "output_type": "execute_result"
    }
   ],
   "source": [
    "plot_keras_fit_history(resultsc4, 0, common_plot_kwargs={\"style\": \"fivethirtyeight\"}).tail()"
   ]
  },
  {
   "cell_type": "code",
   "execution_count": 30,
   "metadata": {},
   "outputs": [
    {
     "name": "stdout",
     "output_type": "stream",
     "text": [
      "Accuracy: 0.9783582089552239\n",
      "Balanced Accuracy: 0.9800659617857329\n",
      "CPU times: user 669 ms, sys: 223 ms, total: 892 ms\n",
      "Wall time: 469 ms\n"
     ]
    },
    {
     "data": {
      "text/plain": [
       "(0.9783582089552239, 0.9800659617857329)"
      ]
     },
     "execution_count": 30,
     "metadata": {},
     "output_type": "execute_result"
    }
   ],
   "source": [
    "%%time\n",
    "image_class_evaluation(modelc4, X_test, y_test)"
   ]
  },
  {
   "cell_type": "code",
   "execution_count": null,
   "metadata": {},
   "outputs": [],
   "source": []
  }
 ],
 "metadata": {
  "kernelspec": {
   "display_name": "Python 3",
   "language": "python",
   "name": "python3"
  },
  "language_info": {
   "codemirror_mode": {
    "name": "ipython",
    "version": 3
   },
   "file_extension": ".py",
   "mimetype": "text/x-python",
   "name": "python",
   "nbconvert_exporter": "python",
   "pygments_lexer": "ipython3",
   "version": "3.7.6"
  }
 },
 "nbformat": 4,
 "nbformat_minor": 4
}
