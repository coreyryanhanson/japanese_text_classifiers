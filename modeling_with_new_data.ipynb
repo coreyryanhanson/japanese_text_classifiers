{
 "cells": [
  {
   "cell_type": "code",
   "execution_count": 1,
   "metadata": {},
   "outputs": [],
   "source": [
    "#Library imports\n",
    "import re\n",
    "import os\n",
    "import shutil\n",
    "import time\n",
    "import math\n",
    "import fnmatch\n",
    "import random\n",
    "import warnings\n",
    "import numpy as np\n",
    "import pandas as pd\n",
    "import seaborn as sns\n",
    "import matplotlib.pyplot as plt\n",
    "#import matplotlib.font_manager as fm\n",
    "\n",
    "from IPython.display import Image, display\n",
    "from sklearn.dummy import DummyClassifier\n",
    "from sklearn.model_selection import train_test_split\n",
    "from sklearn.utils import class_weight\n",
    "from PIL import Image, ImageDraw, ImageOps\n",
    "\n",
    "from tensorflow.keras import models, Input\n",
    "from tensorflow.keras.preprocessing.image import ImageDataGenerator, array_to_img, img_to_array, load_img\n",
    "from tensorflow.keras.utils import to_categorical\n",
    "from tensorflow.keras.models import Sequential\n",
    "from tensorflow.keras import initializers\n",
    "from tensorflow.keras.optimizers import Adam\n",
    "from tensorflow.keras.layers import Dense, LSTM, Dropout, Conv2D, MaxPooling2D, Flatten\n",
    "from tensorflow.keras.callbacks import EarlyStopping, ModelCheckpoint\n",
    "from tensorflow.keras.regularizers import l1, l2\n",
    "\n",
    "\n",
    "#User Created functions\n",
    "\n",
    "from cleaning_functions import *\n",
    "from eda_functions import *\n",
    "from modeling_functions import *\n",
    "from setup_functions import *\n",
    "\n",
    "from random_lumberjacks.src.random_lumberjacks.model.model_classes import *\n",
    "from random_lumberjacks.src.random_lumberjacks.visualization.visualization_functions import *\n",
    "\n",
    "#Notebook arguments\n",
    "%matplotlib inline"
   ]
  },
  {
   "cell_type": "code",
   "execution_count": 2,
   "metadata": {},
   "outputs": [
    {
     "name": "stderr",
     "output_type": "stream",
     "text": [
      "/home/anacuda/work/nyc-mhtn-ds-021720/japanese_text_classifiers/setup_functions.py:23: MatplotlibDeprecationWarning: \n",
      "The createFontList function was deprecated in Matplotlib 3.2 and will be removed two minor releases later. Use FontManager.addfont instead.\n",
      "  font_list = fm.createFontList(font_files)\n"
     ]
    }
   ],
   "source": [
    "#Without this block the Japanese font's won't display properly in Matplotlib.Set to your font directory.\n",
    "extend_matplotlib_fonts(\"/usr/share/fonts/\")"
   ]
  },
  {
   "cell_type": "code",
   "execution_count": 3,
   "metadata": {},
   "outputs": [],
   "source": [
    "#Device specific gpu deterministic arguments\n",
    "from tensorflow import config as tfconfig\n",
    "physical_devices = tfconfig.list_physical_devices('GPU')\n",
    "tfconfig.experimental.set_memory_growth(physical_devices[0], enable=True)\n",
    "os.environ['TF_DETERMINISTIC_OPS'] = '1'"
   ]
  },
  {
   "cell_type": "code",
   "execution_count": 4,
   "metadata": {},
   "outputs": [],
   "source": [
    "#Sets random seeds to allow for reproducable results.\n",
    "from tensorflow import random as tfrandom\n",
    "SEED=127\n",
    "os.environ['PYTHONHASHSEED']=str(SEED)\n",
    "random.seed(SEED)\n",
    "np.random.seed(SEED)\n",
    "tfrandom.set_seed(SEED)"
   ]
  },
  {
   "cell_type": "markdown",
   "metadata": {},
   "source": [
    "Since there are many classes, I've imported a json that contains useful information about the characters and stored it into a DataFrame."
   ]
  },
  {
   "cell_type": "code",
   "execution_count": 5,
   "metadata": {},
   "outputs": [],
   "source": [
    "hiragana_classes = pd.read_json(\"choubenkyo_kivy_app/app/draw_screen/characters/hiragana.json\")\n",
    "\n",
    "# By converting the recorded stroke count to a list of integers, it will be easier to iterate through the data and remove obvious mistakes from the start.\n",
    "hiragana_classes[\"stroke_count\"] = hiragana_classes[\"stroke_count\"].map(lambda x: [int(item[0]) for item in re.finditer(\"\\d+\", x)])\n",
    "\n",
    "# It will be useful to have seperate dataframes to account for dropped classes whether they are the obsolete kana or the compound characters.\n",
    "current_hiragana_classes = hiragana_classes[(hiragana_classes[\"char_id\"]!= \"wi\") & (hiragana_classes[\"char_id\"]!= \"we\")].reset_index(drop=True)\n",
    "reduced_hiragana_classes = current_hiragana_classes.iloc[0:46]\n",
    "compound_hiragana_classes = current_hiragana_classes.iloc[46:]"
   ]
  },
  {
   "cell_type": "markdown",
   "metadata": {},
   "source": [
    "## Creating Bitmaps"
   ]
  },
  {
   "cell_type": "markdown",
   "metadata": {},
   "source": [
    "The first goal is to convert all the raw coordinate data collected from the phone app into 28 x 28 greyscale images to match the other datasets. The Pillow library has a function that can render these points to a bitmap image. I've created several functions that ensure that the images are rendered to be centered/filled to the image space."
   ]
  },
  {
   "cell_type": "code",
   "execution_count": 6,
   "metadata": {},
   "outputs": [],
   "source": [
    "def render_coordinates_file_to_img(coord_list, resolution=(28, 28), stroke_width=2):\n",
    "    scaled = scale_points_for_pixels(coord_list, resolution, stroke_width)\n",
    "    img = Image.new('L', resolution, color=0)\n",
    "    draw = ImageDraw.Draw(img)\n",
    "    for coords in scaled:\n",
    "        line_from_array(draw, coords, width=stroke_width)\n",
    "    return img\n",
    "\n",
    "def create_classification_dirs(path_list, labels):\n",
    "    for path in path_list:\n",
    "        for label in labels:\n",
    "            os.makedirs(os.path.join(path, label))"
   ]
  },
  {
   "cell_type": "markdown",
   "metadata": {},
   "source": [
    "Then in order to loop through and QC/arrange the data in an efficient manner a few paths need to be stored as variables."
   ]
  },
  {
   "cell_type": "code",
   "execution_count": 7,
   "metadata": {},
   "outputs": [],
   "source": [
    "raw_path = \"data/choubenkyo_data/raw\"\n",
    "rendered_path = \"data/choubenkyo_data/rasterized\"\n",
    "rendered_split_paths = {\"train\": os.path.join(rendered_path, \"train\"),\n",
    "                        \"val\": os.path.join(rendered_path, \"val\"),\n",
    "                        \"test\": os.path.join(rendered_path, \"test\")}"
   ]
  },
  {
   "cell_type": "markdown",
   "metadata": {},
   "source": [
    "One major change that I made to the raw coordinate data to enhance both the lstm and the bitmap files was to standardize it to a consistent number of points along a b-spline (done using the [NURBS-Python library](https://nurbs-python.readthedocs.io)). Having a consistent shape for all of the parameters is essential for the lstm and if I were to accomplish this through downsampling the points, it would outright ruin the data in many scenarios. The B-spline made the intermediate transitions natural along a curve and while typically use of a b-spline would smooth out corner points in an obtrusive way, the real time capture of the app essentially captures more points during moments where the flow of writing is slowed down (ie. a sharp direction change). With a surplus of control points towards the corners, the smoothing is minimized in places where it wouldn't be desired."
   ]
  },
  {
   "cell_type": "code",
   "execution_count": 9,
   "metadata": {},
   "outputs": [],
   "source": [
    "# Reproducible results\n",
    "np.random.seed(SEED)\n",
    "\n",
    "max_features=80\n",
    "class_list = reduced_hiragana_classes\n",
    "\n",
    "#Creating the inital train, val, test directories\n",
    "create_classification_dirs(rendered_split_paths.values(), class_list[\"char_id\"])\n",
    "\n",
    "# This is the list which will become the lstm input and labels\n",
    "choubenkyo_data = []\n",
    "choubenkyo_raw_labels = []\n",
    "\n",
    "#This list will reference the directory of origin, and the files that are generated/renamed through the train, test, split\n",
    "#to external image file functions.\n",
    "pathmap = []\n",
    "\n",
    "for source in os.listdir(raw_path):\n",
    "    old_dir = os.path.join(raw_path, source)\n",
    "    contents = os.listdir(old_dir)\n",
    "    for label in class_list[\"char_id\"]:\n",
    "        matches = fnmatch.filter(contents, f\"{label}*\")\n",
    "        np.random.shuffle(matches)\n",
    "        match_splits = (image_path_list_train_test_split(matches, .7, .1))\n",
    "        new_file_counters = [len(os.listdir(os.path.join(split_dir, label))) for split_dir in rendered_split_paths.values()]\n",
    "        for i,(key, value) in enumerate(rendered_split_paths.items()):\n",
    "            new_dir = os.path.join(value, label)\n",
    "            for match in match_splits[i]:\n",
    "                match_raw_path = os.path.join(old_dir, match)\n",
    "                raw_strokes = load_pickle(match_raw_path)\n",
    "                smoothed_strokes = parse_to_points_list(raw_strokes)\n",
    "                if len(raw_strokes) not in hiragana_classes[hiragana_classes[\"char_id\"]==label][\"stroke_count\"].reset_index(drop=True)[0]:\n",
    "                    pathmap.append([match_raw_path, np.nan])\n",
    "                    continue\n",
    "                new_path = os.path.join(new_dir, f\"{label}{key}{new_file_counters[i]:05}.png\")\n",
    "                \n",
    "                #Exports images for the CNN.\n",
    "                img = render_coordinates_file_to_img(smoothed_strokes, stroke_width=1)\n",
    "                img = ImageOps.expand(img, 2)\n",
    "                img.save(new_path)\n",
    "                \n",
    "                #Saves observations for the lstm\n",
    "                choubenkyo_data.append(strokes_to_array(smoothed_strokes, max_features=max_features))\n",
    "                choubenkyo_raw_labels.append(label)\n",
    "                \n",
    "                #Saves information to the document that preserves the link to the source images.\n",
    "                pathmap.append([match_raw_path, new_path])\n",
    "                \n",
    "                #Tracks changes to image iterator so some searches for existing directories can be avoided.\n",
    "                new_file_counters[i] += 1\n",
    "\n",
    "pathmap = pd.DataFrame(pathmap, columns=[\"orig_file\", \"new_file\"])\n",
    "choubenkyo_data = np.vstack(choubenkyo_data)\n",
    "choubenkyo_raw_labels = pd.Series(choubenkyo_raw_labels)"
   ]
  },
  {
   "cell_type": "markdown",
   "metadata": {},
   "source": [
    "## Modeling"
   ]
  },
  {
   "cell_type": "markdown",
   "metadata": {},
   "source": [
    "### The CNN"
   ]
  },
  {
   "cell_type": "code",
   "execution_count": 14,
   "metadata": {},
   "outputs": [],
   "source": [
    "train_generator = ImageDataGenerator(rescale=1./255,\n",
    "                                     rotation_range=4,\n",
    "                                   width_shift_range=0.1, \n",
    "                                   height_shift_range=0.1, \n",
    "                                   shear_range=0.3, \n",
    "                                   zoom_range=0.1, \n",
    "                                   horizontal_flip=False)\n",
    "test_generator = ImageDataGenerator(rescale=1./255)"
   ]
  },
  {
   "cell_type": "code",
   "execution_count": 15,
   "metadata": {},
   "outputs": [
    {
     "name": "stdout",
     "output_type": "stream",
     "text": [
      "Found 827 images belonging to 46 classes.\n",
      "Found 248 images belonging to 46 classes.\n",
      "Found 184 images belonging to 46 classes.\n"
     ]
    }
   ],
   "source": [
    "X_train_generator = train_generator.flow_from_directory(rendered_split_paths[\"train\"], target_size=(32, 32), color_mode='grayscale', seed=SEED, batch_size = 32)\n",
    "X_val_generator = test_generator.flow_from_directory(rendered_split_paths[\"val\"], target_size=(32, 32), color_mode='grayscale', seed=SEED, batch_size = 32)\n",
    "X_test_generator = test_generator.flow_from_directory(rendered_split_paths[\"test\"], target_size=(32, 32), color_mode='grayscale', seed=SEED, batch_size = 32)"
   ]
  },
  {
   "cell_type": "code",
   "execution_count": 16,
   "metadata": {},
   "outputs": [
    {
     "name": "stdout",
     "output_type": "stream",
     "text": [
      "Model: \"sequential_1\"\n",
      "_________________________________________________________________\n",
      "Layer (type)                 Output Shape              Param #   \n",
      "=================================================================\n",
      "conv2d_6 (Conv2D)            (None, 32, 32, 32)        320       \n",
      "_________________________________________________________________\n",
      "conv2d_7 (Conv2D)            (None, 32, 32, 32)        9248      \n",
      "_________________________________________________________________\n",
      "max_pooling2d_3 (MaxPooling2 (None, 16, 16, 32)        0         \n",
      "_________________________________________________________________\n",
      "conv2d_8 (Conv2D)            (None, 16, 16, 64)        18496     \n",
      "_________________________________________________________________\n",
      "conv2d_9 (Conv2D)            (None, 16, 16, 64)        36928     \n",
      "_________________________________________________________________\n",
      "max_pooling2d_4 (MaxPooling2 (None, 8, 8, 64)          0         \n",
      "_________________________________________________________________\n",
      "conv2d_10 (Conv2D)           (None, 8, 8, 128)         73856     \n",
      "_________________________________________________________________\n",
      "conv2d_11 (Conv2D)           (None, 8, 8, 128)         147584    \n",
      "_________________________________________________________________\n",
      "max_pooling2d_5 (MaxPooling2 (None, 4, 4, 128)         0         \n",
      "_________________________________________________________________\n",
      "flatten_1 (Flatten)          (None, 2048)              0         \n",
      "_________________________________________________________________\n",
      "dense_2 (Dense)              (None, 40)                81960     \n",
      "_________________________________________________________________\n",
      "dense_3 (Dense)              (None, 46)                1886      \n",
      "=================================================================\n",
      "Total params: 370,278\n",
      "Trainable params: 370,278\n",
      "Non-trainable params: 0\n",
      "_________________________________________________________________\n"
     ]
    }
   ],
   "source": [
    "layers = [Conv2D(32, (3, 3), activation='relu', padding=\"same\", input_shape=(32 ,32,  1)),\n",
    "          Conv2D(32, (3, 3), activation='relu', padding=\"same\"),\n",
    "          MaxPooling2D((2, 2)),\n",
    "          Conv2D(64, (3, 3), activation='relu', padding=\"same\"),\n",
    "          Conv2D(64, (3, 3), activation='relu', padding=\"same\"),\n",
    "          MaxPooling2D((2, 2)),\n",
    "          Conv2D(128, (3, 3), activation='relu', padding=\"same\"),\n",
    "          Conv2D(128, (3, 3), activation='relu', padding=\"same\"),\n",
    "          MaxPooling2D((2, 2)),\n",
    "          Flatten(),\n",
    "          Dense(40, \"relu\"),\n",
    "          Dense(46, activation='softmax')\n",
    "         ]\n",
    "compile_kwargs = {\"loss\":\"categorical_crossentropy\", \"optimizer\":Adam(learning_rate=0.0001), \"metrics\":['accuracy']}\n",
    "modelc1 = generate_keras_model(Sequential(), layers, compile_kwargs)"
   ]
  },
  {
   "cell_type": "code",
   "execution_count": 17,
   "metadata": {},
   "outputs": [
    {
     "name": "stdout",
     "output_type": "stream",
     "text": [
      "WARNING:tensorflow:sample_weight modes were coerced from\n",
      "  ...\n",
      "    to  \n",
      "  ['...']\n",
      "WARNING:tensorflow:sample_weight modes were coerced from\n",
      "  ...\n",
      "    to  \n",
      "  ['...']\n",
      "Train for 25 steps, validate for 7 steps\n",
      "Epoch 1/200\n",
      "24/25 [===========================>..] - ETA: 0s - loss: 3.8230 - accuracy: 0.0367INFO:tensorflow:Assets written to: model_backups/choubenkyo/modelc1-01/assets\n",
      "25/25 [==============================] - 1s 60ms/step - loss: 3.8227 - accuracy: 0.0390 - val_loss: 3.8088 - val_accuracy: 0.0759\n",
      "Epoch 2/200\n",
      "24/25 [===========================>..] - ETA: 0s - loss: 3.7916 - accuracy: 0.0734INFO:tensorflow:Assets written to: model_backups/choubenkyo/modelc1-02/assets\n",
      "25/25 [==============================] - 1s 39ms/step - loss: 3.7922 - accuracy: 0.0717 - val_loss: 3.7262 - val_accuracy: 0.0938\n",
      "Epoch 3/200\n",
      "21/25 [========================>.....] - ETA: 0s - loss: 3.6958 - accuracy: 0.0997INFO:tensorflow:Assets written to: model_backups/choubenkyo/modelc1-03/assets\n",
      "25/25 [==============================] - 1s 39ms/step - loss: 3.6713 - accuracy: 0.1044 - val_loss: 3.4417 - val_accuracy: 0.0982\n",
      "Epoch 4/200\n",
      "20/25 [=======================>......] - ETA: 0s - loss: 3.3889 - accuracy: 0.1516INFO:tensorflow:Assets written to: model_backups/choubenkyo/modelc1-04/assets\n",
      "25/25 [==============================] - 1s 39ms/step - loss: 3.3477 - accuracy: 0.1585 - val_loss: 2.8311 - val_accuracy: 0.2991\n",
      "Epoch 5/200\n",
      "21/25 [========================>.....] - ETA: 0s - loss: 2.9617 - accuracy: 0.2574INFO:tensorflow:Assets written to: model_backups/choubenkyo/modelc1-05/assets\n",
      "25/25 [==============================] - 1s 42ms/step - loss: 2.8897 - accuracy: 0.2654 - val_loss: 2.2313 - val_accuracy: 0.4196\n",
      "Epoch 6/200\n",
      "21/25 [========================>.....] - ETA: 0s - loss: 2.5384 - accuracy: 0.3378INFO:tensorflow:Assets written to: model_backups/choubenkyo/modelc1-06/assets\n",
      "25/25 [==============================] - 1s 39ms/step - loss: 2.4944 - accuracy: 0.3459 - val_loss: 1.8020 - val_accuracy: 0.5134\n",
      "Epoch 7/200\n",
      "20/25 [=======================>......] - ETA: 0s - loss: 2.1145 - accuracy: 0.4378INFO:tensorflow:Assets written to: model_backups/choubenkyo/modelc1-07/assets\n",
      "25/25 [==============================] - 1s 39ms/step - loss: 2.0678 - accuracy: 0.4440 - val_loss: 1.3842 - val_accuracy: 0.6295\n",
      "Epoch 8/200\n",
      "20/25 [=======================>......] - ETA: 0s - loss: 1.8287 - accuracy: 0.5528INFO:tensorflow:Assets written to: model_backups/choubenkyo/modelc1-08/assets\n",
      "25/25 [==============================] - 1s 39ms/step - loss: 1.8002 - accuracy: 0.5509 - val_loss: 1.1693 - val_accuracy: 0.6741\n",
      "Epoch 9/200\n",
      "22/25 [=========================>....] - ETA: 0s - loss: 1.6179 - accuracy: 0.5680INFO:tensorflow:Assets written to: model_backups/choubenkyo/modelc1-09/assets\n",
      "25/25 [==============================] - 1s 43ms/step - loss: 1.6259 - accuracy: 0.5686 - val_loss: 1.0194 - val_accuracy: 0.6920\n",
      "Epoch 10/200\n",
      "24/25 [===========================>..] - ETA: 0s - loss: 1.3293 - accuracy: 0.6252INFO:tensorflow:Assets written to: model_backups/choubenkyo/modelc1-10/assets\n",
      "25/25 [==============================] - 1s 40ms/step - loss: 1.3374 - accuracy: 0.6201 - val_loss: 0.7509 - val_accuracy: 0.7500\n",
      "Epoch 11/200\n",
      "21/25 [========================>.....] - ETA: 0s - loss: 1.1794 - accuracy: 0.6462INFO:tensorflow:Assets written to: model_backups/choubenkyo/modelc1-11/assets\n",
      "25/25 [==============================] - 1s 39ms/step - loss: 1.1740 - accuracy: 0.6528 - val_loss: 0.6982 - val_accuracy: 0.7991\n",
      "Epoch 12/200\n",
      "21/25 [========================>.....] - ETA: 0s - loss: 1.0796 - accuracy: 0.7046INFO:tensorflow:Assets written to: model_backups/choubenkyo/modelc1-12/assets\n",
      "25/25 [==============================] - 1s 39ms/step - loss: 1.0863 - accuracy: 0.6969 - val_loss: 0.5507 - val_accuracy: 0.8259\n",
      "Epoch 13/200\n",
      "21/25 [========================>.....] - ETA: 0s - loss: 0.8800 - accuracy: 0.7766INFO:tensorflow:Assets written to: model_backups/choubenkyo/modelc1-13/assets\n",
      "25/25 [==============================] - 1s 41ms/step - loss: 0.8776 - accuracy: 0.7660 - val_loss: 0.4331 - val_accuracy: 0.8705\n",
      "Epoch 14/200\n",
      "20/25 [=======================>......] - ETA: 0s - loss: 0.7404 - accuracy: 0.8047INFO:tensorflow:Assets written to: model_backups/choubenkyo/modelc1-14/assets\n",
      "25/25 [==============================] - 1s 39ms/step - loss: 0.7860 - accuracy: 0.7836 - val_loss: 0.3634 - val_accuracy: 0.9107\n",
      "Epoch 15/200\n",
      "20/25 [=======================>......] - ETA: 0s - loss: 0.7914 - accuracy: 0.7795INFO:tensorflow:Assets written to: model_backups/choubenkyo/modelc1-15/assets\n",
      "25/25 [==============================] - 1s 39ms/step - loss: 0.7848 - accuracy: 0.7799 - val_loss: 0.3620 - val_accuracy: 0.8884\n",
      "Epoch 16/200\n",
      "20/25 [=======================>......] - ETA: 0s - loss: 0.6098 - accuracy: 0.8188INFO:tensorflow:Assets written to: model_backups/choubenkyo/modelc1-16/assets\n",
      "25/25 [==============================] - 1s 41ms/step - loss: 0.6251 - accuracy: 0.8138 - val_loss: 0.2494 - val_accuracy: 0.9330\n",
      "Epoch 17/200\n",
      "20/25 [=======================>......] - ETA: 0s - loss: 0.6140 - accuracy: 0.8047INFO:tensorflow:Assets written to: model_backups/choubenkyo/modelc1-17/assets\n",
      "25/25 [==============================] - 1s 39ms/step - loss: 0.5922 - accuracy: 0.8176 - val_loss: 0.2335 - val_accuracy: 0.9330\n",
      "Epoch 18/200\n",
      "21/25 [========================>.....] - ETA: 0s - loss: 0.5636 - accuracy: 0.8456INFO:tensorflow:Assets written to: model_backups/choubenkyo/modelc1-18/assets\n",
      "25/25 [==============================] - 1s 39ms/step - loss: 0.5694 - accuracy: 0.8403 - val_loss: 0.2209 - val_accuracy: 0.9330\n",
      "Epoch 19/200\n",
      "24/25 [===========================>..] - ETA: 0s - loss: 0.4810 - accuracy: 0.8585INFO:tensorflow:Assets written to: model_backups/choubenkyo/modelc1-19/assets\n",
      "25/25 [==============================] - 1s 40ms/step - loss: 0.4776 - accuracy: 0.8591 - val_loss: 0.2042 - val_accuracy: 0.9286\n",
      "Epoch 20/200\n",
      "24/25 [===========================>..] - ETA: 0s - loss: 0.4202 - accuracy: 0.8807INFO:tensorflow:Assets written to: model_backups/choubenkyo/modelc1-20/assets\n",
      "25/25 [==============================] - 1s 42ms/step - loss: 0.4204 - accuracy: 0.8805 - val_loss: 0.1767 - val_accuracy: 0.9509\n",
      "Epoch 21/200\n",
      "20/25 [=======================>......] - ETA: 0s - loss: 0.3857 - accuracy: 0.8945INFO:tensorflow:Assets written to: model_backups/choubenkyo/modelc1-21/assets\n",
      "25/25 [==============================] - 1s 39ms/step - loss: 0.4091 - accuracy: 0.8818 - val_loss: 0.1454 - val_accuracy: 0.9509\n",
      "Epoch 22/200\n",
      "24/25 [===========================>..] - ETA: 0s - loss: 0.3572 - accuracy: 0.9056INFO:tensorflow:Assets written to: model_backups/choubenkyo/modelc1-22/assets\n",
      "25/25 [==============================] - 1s 40ms/step - loss: 0.3472 - accuracy: 0.9082 - val_loss: 0.1715 - val_accuracy: 0.9375\n",
      "Epoch 23/200\n",
      "24/25 [===========================>..] - ETA: 0s - loss: 0.3563 - accuracy: 0.9030INFO:tensorflow:Assets written to: model_backups/choubenkyo/modelc1-23/assets\n",
      "25/25 [==============================] - 1s 39ms/step - loss: 0.3688 - accuracy: 0.9006 - val_loss: 0.2290 - val_accuracy: 0.9420\n",
      "Epoch 24/200\n",
      "23/25 [==========================>...] - ETA: 0s - loss: 0.3174 - accuracy: 0.9049INFO:tensorflow:Assets written to: model_backups/choubenkyo/modelc1-24/assets\n",
      "25/25 [==============================] - 1s 42ms/step - loss: 0.3119 - accuracy: 0.9094 - val_loss: 0.1088 - val_accuracy: 0.9688\n",
      "Epoch 25/200\n",
      "21/25 [========================>.....] - ETA: 0s - loss: 0.3409 - accuracy: 0.8973INFO:tensorflow:Assets written to: model_backups/choubenkyo/modelc1-25/assets\n",
      "25/25 [==============================] - 1s 40ms/step - loss: 0.3209 - accuracy: 0.9044 - val_loss: 0.1820 - val_accuracy: 0.9330\n",
      "Epoch 26/200\n",
      "24/25 [===========================>..] - ETA: 0s - loss: 0.3267 - accuracy: 0.9069INFO:tensorflow:Assets written to: model_backups/choubenkyo/modelc1-26/assets\n",
      "25/25 [==============================] - 1s 38ms/step - loss: 0.3186 - accuracy: 0.9094 - val_loss: 0.2239 - val_accuracy: 0.9152\n",
      "Epoch 27/200\n",
      "21/25 [========================>.....] - ETA: 0s - loss: 0.3111 - accuracy: 0.9160INFO:tensorflow:Assets written to: model_backups/choubenkyo/modelc1-27/assets\n",
      "25/25 [==============================] - 1s 39ms/step - loss: 0.3229 - accuracy: 0.9107 - val_loss: 0.1346 - val_accuracy: 0.9598\n",
      "Epoch 28/200\n",
      "21/25 [========================>.....] - ETA: 0s - loss: 0.2695 - accuracy: 0.9220INFO:tensorflow:Assets written to: model_backups/choubenkyo/modelc1-28/assets\n",
      "25/25 [==============================] - 1s 41ms/step - loss: 0.2763 - accuracy: 0.9258 - val_loss: 0.1074 - val_accuracy: 0.9598\n",
      "Epoch 29/200\n",
      "21/25 [========================>.....] - ETA: 0s - loss: 0.2293 - accuracy: 0.9256INFO:tensorflow:Assets written to: model_backups/choubenkyo/modelc1-29/assets\n",
      "25/25 [==============================] - 1s 39ms/step - loss: 0.2415 - accuracy: 0.9258 - val_loss: 0.0994 - val_accuracy: 0.9777\n",
      "Epoch 30/200\n",
      "20/25 [=======================>......] - ETA: 0s - loss: 0.1902 - accuracy: 0.9417INFO:tensorflow:Assets written to: model_backups/choubenkyo/modelc1-30/assets\n",
      "25/25 [==============================] - 1s 39ms/step - loss: 0.2170 - accuracy: 0.9409 - val_loss: 0.1212 - val_accuracy: 0.9464\n",
      "Epoch 31/200\n",
      "21/25 [========================>.....] - ETA: 0s - loss: 0.1922 - accuracy: 0.9370INFO:tensorflow:Assets written to: model_backups/choubenkyo/modelc1-31/assets\n",
      "25/25 [==============================] - 1s 41ms/step - loss: 0.1925 - accuracy: 0.9409 - val_loss: 0.1068 - val_accuracy: 0.9509\n",
      "Epoch 32/200\n",
      "20/25 [=======================>......] - ETA: 0s - loss: 0.1755 - accuracy: 0.9512INFO:tensorflow:Assets written to: model_backups/choubenkyo/modelc1-32/assets\n",
      "25/25 [==============================] - 1s 39ms/step - loss: 0.1840 - accuracy: 0.9472 - val_loss: 0.1034 - val_accuracy: 0.9643\n",
      "Epoch 33/200\n",
      "21/25 [========================>.....] - ETA: 0s - loss: 0.1600 - accuracy: 0.9435INFO:tensorflow:Assets written to: model_backups/choubenkyo/modelc1-33/assets\n",
      "25/25 [==============================] - 1s 38ms/step - loss: 0.1638 - accuracy: 0.9434 - val_loss: 0.1922 - val_accuracy: 0.9509\n",
      "Epoch 34/200\n",
      "21/25 [========================>.....] - ETA: 0s - loss: 0.2020 - accuracy: 0.9345INFO:tensorflow:Assets written to: model_backups/choubenkyo/modelc1-34/assets\n",
      "25/25 [==============================] - 1s 39ms/step - loss: 0.2013 - accuracy: 0.9312 - val_loss: 0.1525 - val_accuracy: 0.9598\n"
     ]
    }
   ],
   "source": [
    "backups = ModelCheckpoint(\"model_backups/choubenkyo/modelc1-{epoch:02d}\", monitor=\"val_loss\")\n",
    "stopping = EarlyStopping(monitor=\"val_accuracy\", min_delta=0, patience=5, restore_best_weights=True)\n",
    "\n",
    "resultsc1 = modelc1.fit(X_train_generator, epochs=200, steps_per_epoch=25, validation_data=X_val_generator, validation_steps=7, callbacks=[backups, stopping])"
   ]
  },
  {
   "cell_type": "code",
   "execution_count": 18,
   "metadata": {},
   "outputs": [
    {
     "data": {
      "image/png": "[encoded data removed]",
      "text/plain": [
       "<Figure size 1080x720 with 1 Axes>"
      ]
     },
     "metadata": {},
     "output_type": "display_data"
    },
    {
     "data": {
      "text/html": [
       "<div>\n",
       "<style scoped>\n",
       "    .dataframe tbody tr th:only-of-type {\n",
       "        vertical-align: middle;\n",
       "    }\n",
       "\n",
       "    .dataframe tbody tr th {\n",
       "        vertical-align: top;\n",
       "    }\n",
       "\n",
       "    .dataframe thead th {\n",
       "        text-align: right;\n",
       "    }\n",
       "</style>\n",
       "<table border=\"1\" class=\"dataframe\">\n",
       "  <thead>\n",
       "    <tr style=\"text-align: right;\">\n",
       "      <th></th>\n",
       "      <th>loss</th>\n",
       "      <th>accuracy</th>\n",
       "      <th>val_loss</th>\n",
       "      <th>val_accuracy</th>\n",
       "    </tr>\n",
       "  </thead>\n",
       "  <tbody>\n",
       "    <tr>\n",
       "      <th>29</th>\n",
       "      <td>0.217874</td>\n",
       "      <td>0.940880</td>\n",
       "      <td>0.121172</td>\n",
       "      <td>0.946429</td>\n",
       "    </tr>\n",
       "    <tr>\n",
       "      <th>30</th>\n",
       "      <td>0.193319</td>\n",
       "      <td>0.940880</td>\n",
       "      <td>0.106804</td>\n",
       "      <td>0.950893</td>\n",
       "    </tr>\n",
       "    <tr>\n",
       "      <th>31</th>\n",
       "      <td>0.184536</td>\n",
       "      <td>0.947170</td>\n",
       "      <td>0.103427</td>\n",
       "      <td>0.964286</td>\n",
       "    </tr>\n",
       "    <tr>\n",
       "      <th>32</th>\n",
       "      <td>0.163283</td>\n",
       "      <td>0.943396</td>\n",
       "      <td>0.192224</td>\n",
       "      <td>0.950893</td>\n",
       "    </tr>\n",
       "    <tr>\n",
       "      <th>33</th>\n",
       "      <td>0.201310</td>\n",
       "      <td>0.931250</td>\n",
       "      <td>0.152518</td>\n",
       "      <td>0.959821</td>\n",
       "    </tr>\n",
       "  </tbody>\n",
       "</table>\n",
       "</div>"
      ],
      "text/plain": [
       "        loss  accuracy  val_loss  val_accuracy\n",
       "29  0.217874  0.940880  0.121172      0.946429\n",
       "30  0.193319  0.940880  0.106804      0.950893\n",
       "31  0.184536  0.947170  0.103427      0.964286\n",
       "32  0.163283  0.943396  0.192224      0.950893\n",
       "33  0.201310  0.931250  0.152518      0.959821"
      ]
     },
     "execution_count": 18,
     "metadata": {},
     "output_type": "execute_result"
    }
   ],
   "source": [
    "plot_keras_fit_history(resultsc1, 0, common_plot_kwargs={\"style\": \"fivethirtyeight\"}).tail()"
   ]
  },
  {
   "cell_type": "code",
   "execution_count": 19,
   "metadata": {},
   "outputs": [
    {
     "name": "stdout",
     "output_type": "stream",
     "text": [
      "Accuracy: 0.90625\n",
      "Balanced Accuracy: 0.898550724637681\n",
      "CPU times: user 65.8 ms, sys: 13.2 ms, total: 79 ms\n",
      "Wall time: 77.4 ms\n"
     ]
    },
    {
     "name": "stderr",
     "output_type": "stream",
     "text": [
      "/opt/conda/lib/python3.7/site-packages/sklearn/metrics/_classification.py:1814: UserWarning: y_pred contains classes not in y_true\n",
      "  warnings.warn('y_pred contains classes not in y_true')\n"
     ]
    },
    {
     "data": {
      "text/plain": [
       "(0.90625, 0.898550724637681)"
      ]
     },
     "execution_count": 19,
     "metadata": {},
     "output_type": "execute_result"
    }
   ],
   "source": [
    "%%time\n",
    "test_batch = next(X_test_generator)\n",
    "image_class_evaluation(modelc1, test_batch[0], test_batch[1])"
   ]
  },
  {
   "cell_type": "markdown",
   "metadata": {},
   "source": [
    "### CNN With Transfer Learning"
   ]
  },
  {
   "cell_type": "code",
   "execution_count": 29,
   "metadata": {},
   "outputs": [],
   "source": [
    "modelkuzushiji = models.load_model('model_backups/kuzushiji/model9-21')"
   ]
  },
  {
   "cell_type": "code",
   "execution_count": 30,
   "metadata": {},
   "outputs": [
    {
     "name": "stdout",
     "output_type": "stream",
     "text": [
      "Model: \"sequential_4\"\n",
      "_________________________________________________________________\n",
      "Layer (type)                 Output Shape              Param #   \n",
      "=================================================================\n",
      "conv2d_12 (Conv2D)           (None, 32, 32, 32)        320       \n",
      "_________________________________________________________________\n",
      "conv2d_13 (Conv2D)           (None, 32, 32, 32)        9248      \n",
      "_________________________________________________________________\n",
      "max_pooling2d_6 (MaxPooling2 (None, 16, 16, 32)        0         \n",
      "_________________________________________________________________\n",
      "conv2d_14 (Conv2D)           (None, 16, 16, 64)        18496     \n",
      "_________________________________________________________________\n",
      "conv2d_15 (Conv2D)           (None, 16, 16, 64)        36928     \n",
      "_________________________________________________________________\n",
      "max_pooling2d_7 (MaxPooling2 (None, 8, 8, 64)          0         \n",
      "_________________________________________________________________\n",
      "conv2d_16 (Conv2D)           (None, 8, 8, 128)         73856     \n",
      "_________________________________________________________________\n",
      "conv2d_17 (Conv2D)           (None, 8, 8, 128)         147584    \n",
      "_________________________________________________________________\n",
      "max_pooling2d_8 (MaxPooling2 (None, 4, 4, 128)         0         \n",
      "_________________________________________________________________\n",
      "flatten_2 (Flatten)          (None, 2048)              0         \n",
      "_________________________________________________________________\n",
      "dense_8 (Dense)              (None, 40)                81960     \n",
      "_________________________________________________________________\n",
      "dense_9 (Dense)              (None, 46)                1886      \n",
      "=================================================================\n",
      "Total params: 370,278\n",
      "Trainable params: 305,286\n",
      "Non-trainable params: 64,992\n",
      "_________________________________________________________________\n"
     ]
    }
   ],
   "source": [
    "layers = modelkuzushiji.layers[:-2] + [Dense(40, \"relu\"), Dense(46, activation='softmax')]\n",
    "compile_kwargs = {\"loss\":\"categorical_crossentropy\", \"optimizer\":Adam(learning_rate=0.00005), \"metrics\":['accuracy']}\n",
    "modelc2 = generate_keras_model(Sequential(), layers, compile_kwargs)"
   ]
  },
  {
   "cell_type": "code",
   "execution_count": 31,
   "metadata": {},
   "outputs": [],
   "source": [
    "for layer in modelc2.layers[0:3]:\n",
    "    layer.trainable = False"
   ]
  },
  {
   "cell_type": "code",
   "execution_count": 32,
   "metadata": {},
   "outputs": [
    {
     "name": "stdout",
     "output_type": "stream",
     "text": [
      "WARNING:tensorflow:sample_weight modes were coerced from\n",
      "  ...\n",
      "    to  \n",
      "  ['...']\n",
      "WARNING:tensorflow:sample_weight modes were coerced from\n",
      "  ...\n",
      "    to  \n",
      "  ['...']\n",
      "Train for 20 steps, validate for 5 steps\n",
      "Epoch 1/200\n",
      "16/20 [=======================>......] - ETA: 0s - loss: 5.7479 - accuracy: 0.0118INFO:tensorflow:Assets written to: model_backups/choubenkyo/modelc2-01/assets\n",
      "20/20 [==============================] - 1s 64ms/step - loss: 5.4996 - accuracy: 0.0157 - val_loss: 4.5607 - val_accuracy: 0.0437\n",
      "Epoch 2/200\n",
      "16/20 [=======================>......] - ETA: 0s - loss: 4.2396 - accuracy: 0.0434INFO:tensorflow:Assets written to: model_backups/choubenkyo/modelc2-02/assets\n",
      "20/20 [==============================] - 1s 42ms/step - loss: 4.2354 - accuracy: 0.0378 - val_loss: 3.7387 - val_accuracy: 0.0625\n",
      "Epoch 3/200\n",
      "16/20 [=======================>......] - ETA: 0s - loss: 3.7544 - accuracy: 0.0750INFO:tensorflow:Assets written to: model_backups/choubenkyo/modelc2-03/assets\n",
      "20/20 [==============================] - 1s 47ms/step - loss: 3.7128 - accuracy: 0.0740 - val_loss: 3.3251 - val_accuracy: 0.1437\n",
      "Epoch 4/200\n",
      "16/20 [=======================>......] - ETA: 0s - loss: 3.3643 - accuracy: 0.1262INFO:tensorflow:Assets written to: model_backups/choubenkyo/modelc2-04/assets\n",
      "20/20 [==============================] - 1s 41ms/step - loss: 3.3593 - accuracy: 0.1213 - val_loss: 3.0193 - val_accuracy: 0.2250\n",
      "Epoch 5/200\n",
      "15/20 [=====================>........] - ETA: 0s - loss: 3.1006 - accuracy: 0.1937INFO:tensorflow:Assets written to: model_backups/choubenkyo/modelc2-05/assets\n",
      "20/20 [==============================] - 1s 42ms/step - loss: 3.0564 - accuracy: 0.2031 - val_loss: 2.7470 - val_accuracy: 0.3000\n",
      "Epoch 6/200\n",
      "19/20 [===========================>..] - ETA: 0s - loss: 2.8538 - accuracy: 0.2681INFO:tensorflow:Assets written to: model_backups/choubenkyo/modelc2-06/assets\n",
      "20/20 [==============================] - 1s 43ms/step - loss: 2.8462 - accuracy: 0.2656 - val_loss: 2.4766 - val_accuracy: 0.4375\n",
      "Epoch 7/200\n",
      "15/20 [=====================>........] - ETA: 0s - loss: 2.6450 - accuracy: 0.3221INFO:tensorflow:Assets written to: model_backups/choubenkyo/modelc2-07/assets\n",
      "20/20 [==============================] - 1s 42ms/step - loss: 2.6001 - accuracy: 0.3354 - val_loss: 2.2114 - val_accuracy: 0.4938\n",
      "Epoch 8/200\n",
      "16/20 [=======================>......] - ETA: 0s - loss: 2.4025 - accuracy: 0.4122INFO:tensorflow:Assets written to: model_backups/choubenkyo/modelc2-08/assets\n",
      "20/20 [==============================] - 1s 42ms/step - loss: 2.3825 - accuracy: 0.4142 - val_loss: 1.9506 - val_accuracy: 0.5312\n",
      "Epoch 9/200\n",
      "15/20 [=====================>........] - ETA: 0s - loss: 2.0883 - accuracy: 0.4716INFO:tensorflow:Assets written to: model_backups/choubenkyo/modelc2-09/assets\n",
      "20/20 [==============================] - 1s 42ms/step - loss: 2.0645 - accuracy: 0.4772 - val_loss: 1.7106 - val_accuracy: 0.6062\n",
      "Epoch 10/200\n",
      "16/20 [=======================>......] - ETA: 0s - loss: 1.8335 - accuracy: 0.5562INFO:tensorflow:Assets written to: model_backups/choubenkyo/modelc2-10/assets\n",
      "20/20 [==============================] - 1s 42ms/step - loss: 1.8557 - accuracy: 0.5543 - val_loss: 1.4948 - val_accuracy: 0.6438\n",
      "Epoch 11/200\n",
      "19/20 [===========================>..] - ETA: 0s - loss: 1.7050 - accuracy: 0.5705INFO:tensorflow:Assets written to: model_backups/choubenkyo/modelc2-11/assets\n",
      "20/20 [==============================] - 1s 42ms/step - loss: 1.6814 - accuracy: 0.5795 - val_loss: 1.3012 - val_accuracy: 0.6875\n",
      "Epoch 12/200\n",
      "15/20 [=====================>........] - ETA: 0s - loss: 1.5608 - accuracy: 0.6042INFO:tensorflow:Assets written to: model_backups/choubenkyo/modelc2-12/assets\n",
      "20/20 [==============================] - 1s 47ms/step - loss: 1.5092 - accuracy: 0.6268 - val_loss: 1.1276 - val_accuracy: 0.7125\n",
      "Epoch 13/200\n",
      "15/20 [=====================>........] - ETA: 0s - loss: 1.3196 - accuracy: 0.6458INFO:tensorflow:Assets written to: model_backups/choubenkyo/modelc2-13/assets\n",
      "20/20 [==============================] - 1s 43ms/step - loss: 1.3422 - accuracy: 0.6500 - val_loss: 0.9537 - val_accuracy: 0.7500\n",
      "Epoch 14/200\n",
      "16/20 [=======================>......] - ETA: 0s - loss: 1.1394 - accuracy: 0.7219INFO:tensorflow:Assets written to: model_backups/choubenkyo/modelc2-14/assets\n",
      "20/20 [==============================] - 1s 42ms/step - loss: 1.1359 - accuracy: 0.7307 - val_loss: 0.8319 - val_accuracy: 0.7812\n",
      "Epoch 15/200\n",
      "16/20 [=======================>......] - ETA: 0s - loss: 1.0251 - accuracy: 0.7363INFO:tensorflow:Assets written to: model_backups/choubenkyo/modelc2-15/assets\n",
      "20/20 [==============================] - 1s 42ms/step - loss: 0.9636 - accuracy: 0.7575 - val_loss: 0.7275 - val_accuracy: 0.8125\n",
      "Epoch 16/200\n",
      "16/20 [=======================>......] - ETA: 0s - loss: 0.8217 - accuracy: 0.8067INFO:tensorflow:Assets written to: model_backups/choubenkyo/modelc2-16/assets\n",
      "20/20 [==============================] - 1s 42ms/step - loss: 0.7776 - accuracy: 0.8173 - val_loss: 0.6363 - val_accuracy: 0.8375\n",
      "Epoch 17/200\n",
      "16/20 [=======================>......] - ETA: 0s - loss: 0.7268 - accuracy: 0.8320INFO:tensorflow:Assets written to: model_backups/choubenkyo/modelc2-17/assets\n",
      "20/20 [==============================] - 1s 41ms/step - loss: 0.7189 - accuracy: 0.8331 - val_loss: 0.5555 - val_accuracy: 0.8813\n",
      "Epoch 18/200\n",
      "15/20 [=====================>........] - ETA: 0s - loss: 0.6870 - accuracy: 0.8479INFO:tensorflow:Assets written to: model_backups/choubenkyo/modelc2-18/assets\n",
      "20/20 [==============================] - 1s 42ms/step - loss: 0.7038 - accuracy: 0.8331 - val_loss: 0.4747 - val_accuracy: 0.8813\n",
      "Epoch 19/200\n",
      "16/20 [=======================>......] - ETA: 0s - loss: 0.5789 - accuracy: 0.8757INFO:tensorflow:Assets written to: model_backups/choubenkyo/modelc2-19/assets\n",
      "20/20 [==============================] - 1s 41ms/step - loss: 0.5696 - accuracy: 0.8677 - val_loss: 0.4275 - val_accuracy: 0.8750\n",
      "Epoch 20/200\n",
      "16/20 [=======================>......] - ETA: 0s - loss: 0.5610 - accuracy: 0.8619INFO:tensorflow:Assets written to: model_backups/choubenkyo/modelc2-20/assets\n",
      "20/20 [==============================] - 1s 42ms/step - loss: 0.5523 - accuracy: 0.8567 - val_loss: 0.3684 - val_accuracy: 0.9000\n",
      "Epoch 21/200\n",
      "16/20 [=======================>......] - ETA: 0s - loss: 0.4478 - accuracy: 0.8718INFO:tensorflow:Assets written to: model_backups/choubenkyo/modelc2-21/assets\n",
      "20/20 [==============================] - 1s 46ms/step - loss: 0.4672 - accuracy: 0.8677 - val_loss: 0.3360 - val_accuracy: 0.9062\n",
      "Epoch 22/200\n",
      "16/20 [=======================>......] - ETA: 0s - loss: 0.4120 - accuracy: 0.9053INFO:tensorflow:Assets written to: model_backups/choubenkyo/modelc2-22/assets\n",
      "20/20 [==============================] - 1s 42ms/step - loss: 0.4172 - accuracy: 0.9008 - val_loss: 0.2923 - val_accuracy: 0.9312\n",
      "Epoch 23/200\n",
      "15/20 [=====================>........] - ETA: 0s - loss: 0.3860 - accuracy: 0.9021INFO:tensorflow:Assets written to: model_backups/choubenkyo/modelc2-23/assets\n",
      "20/20 [==============================] - 1s 42ms/step - loss: 0.3947 - accuracy: 0.9016 - val_loss: 0.2585 - val_accuracy: 0.9187\n",
      "Epoch 24/200\n",
      "15/20 [=====================>........] - ETA: 0s - loss: 0.3576 - accuracy: 0.9074INFO:tensorflow:Assets written to: model_backups/choubenkyo/modelc2-24/assets\n",
      "20/20 [==============================] - 1s 42ms/step - loss: 0.3470 - accuracy: 0.9118 - val_loss: 0.2176 - val_accuracy: 0.9250\n",
      "Epoch 25/200\n",
      "16/20 [=======================>......] - ETA: 0s - loss: 0.2751 - accuracy: 0.9428INFO:tensorflow:Assets written to: model_backups/choubenkyo/modelc2-25/assets\n",
      "20/20 [==============================] - 1s 42ms/step - loss: 0.2718 - accuracy: 0.9417 - val_loss: 0.1935 - val_accuracy: 0.9375\n",
      "Epoch 26/200\n",
      "16/20 [=======================>......] - ETA: 0s - loss: 0.2790 - accuracy: 0.9369INFO:tensorflow:Assets written to: model_backups/choubenkyo/modelc2-26/assets\n",
      "20/20 [==============================] - 1s 43ms/step - loss: 0.2759 - accuracy: 0.9354 - val_loss: 0.1733 - val_accuracy: 0.9500\n",
      "Epoch 27/200\n",
      "15/20 [=====================>........] - ETA: 0s - loss: 0.2407 - accuracy: 0.9474INFO:tensorflow:Assets written to: model_backups/choubenkyo/modelc2-27/assets\n",
      "20/20 [==============================] - 1s 43ms/step - loss: 0.2418 - accuracy: 0.9417 - val_loss: 0.1512 - val_accuracy: 0.9563\n",
      "Epoch 28/200\n",
      "19/20 [===========================>..] - ETA: 0s - loss: 0.2047 - accuracy: 0.9569INFO:tensorflow:Assets written to: model_backups/choubenkyo/modelc2-28/assets\n",
      "20/20 [==============================] - 1s 42ms/step - loss: 0.2017 - accuracy: 0.9591 - val_loss: 0.1537 - val_accuracy: 0.9563\n",
      "Epoch 29/200\n",
      "15/20 [=====================>........] - ETA: 0s - loss: 0.1882 - accuracy: 0.9579INFO:tensorflow:Assets written to: model_backups/choubenkyo/modelc2-29/assets\n",
      "20/20 [==============================] - 1s 42ms/step - loss: 0.2122 - accuracy: 0.9496 - val_loss: 0.1217 - val_accuracy: 0.9688\n",
      "Epoch 30/200\n",
      "19/20 [===========================>..] - ETA: 0s - loss: 0.1690 - accuracy: 0.9619INFO:tensorflow:Assets written to: model_backups/choubenkyo/modelc2-30/assets\n",
      "20/20 [==============================] - 1s 42ms/step - loss: 0.1666 - accuracy: 0.9622 - val_loss: 0.1095 - val_accuracy: 0.9750\n",
      "Epoch 31/200\n",
      "16/20 [=======================>......] - ETA: 0s - loss: 0.1628 - accuracy: 0.9625INFO:tensorflow:Assets written to: model_backups/choubenkyo/modelc2-31/assets\n",
      "20/20 [==============================] - 1s 47ms/step - loss: 0.1639 - accuracy: 0.9622 - val_loss: 0.1115 - val_accuracy: 0.9750\n",
      "Epoch 32/200\n",
      "15/20 [=====================>........] - ETA: 0s - loss: 0.1611 - accuracy: 0.9663INFO:tensorflow:Assets written to: model_backups/choubenkyo/modelc2-32/assets\n",
      "20/20 [==============================] - 1s 41ms/step - loss: 0.1755 - accuracy: 0.9575 - val_loss: 0.1036 - val_accuracy: 0.9750\n",
      "Epoch 33/200\n",
      "15/20 [=====================>........] - ETA: 0s - loss: 0.1332 - accuracy: 0.9771INFO:tensorflow:Assets written to: model_backups/choubenkyo/modelc2-33/assets\n",
      "20/20 [==============================] - 1s 43ms/step - loss: 0.1257 - accuracy: 0.9795 - val_loss: 0.1022 - val_accuracy: 0.9750\n",
      "Epoch 34/200\n",
      "19/20 [===========================>..] - ETA: 0s - loss: 0.1303 - accuracy: 0.9668INFO:tensorflow:Assets written to: model_backups/choubenkyo/modelc2-34/assets\n",
      "20/20 [==============================] - 1s 42ms/step - loss: 0.1337 - accuracy: 0.9669 - val_loss: 0.0904 - val_accuracy: 0.9750\n",
      "Epoch 35/200\n",
      "16/20 [=======================>......] - ETA: 0s - loss: 0.1301 - accuracy: 0.9746INFO:tensorflow:Assets written to: model_backups/choubenkyo/modelc2-35/assets\n",
      "20/20 [==============================] - 1s 42ms/step - loss: 0.1278 - accuracy: 0.9748 - val_loss: 0.0831 - val_accuracy: 0.9750\n"
     ]
    }
   ],
   "source": [
    "backups = ModelCheckpoint(\"model_backups/choubenkyo/modelc2-{epoch:02d}\", monitor=\"val_loss\")\n",
    "stopping = EarlyStopping(monitor=\"val_accuracy\", min_delta=0, patience=5, restore_best_weights=True)\n",
    "\n",
    "resultsc2 = modelc2.fit(X_train_generator, epochs=200, steps_per_epoch=20, validation_data=X_val_generator, validation_steps=5, callbacks=[backups, stopping])"
   ]
  },
  {
   "cell_type": "code",
   "execution_count": 33,
   "metadata": {},
   "outputs": [
    {
     "data": {
      "image/png": "[encoded data removed]",
      "text/plain": [
       "<Figure size 1080x720 with 1 Axes>"
      ]
     },
     "metadata": {},
     "output_type": "display_data"
    },
    {
     "data": {
      "text/html": [
       "<div>\n",
       "<style scoped>\n",
       "    .dataframe tbody tr th:only-of-type {\n",
       "        vertical-align: middle;\n",
       "    }\n",
       "\n",
       "    .dataframe tbody tr th {\n",
       "        vertical-align: top;\n",
       "    }\n",
       "\n",
       "    .dataframe thead th {\n",
       "        text-align: right;\n",
       "    }\n",
       "</style>\n",
       "<table border=\"1\" class=\"dataframe\">\n",
       "  <thead>\n",
       "    <tr style=\"text-align: right;\">\n",
       "      <th></th>\n",
       "      <th>loss</th>\n",
       "      <th>accuracy</th>\n",
       "      <th>val_loss</th>\n",
       "      <th>val_accuracy</th>\n",
       "    </tr>\n",
       "  </thead>\n",
       "  <tbody>\n",
       "    <tr>\n",
       "      <th>30</th>\n",
       "      <td>0.164688</td>\n",
       "      <td>0.962205</td>\n",
       "      <td>0.111463</td>\n",
       "      <td>0.975</td>\n",
       "    </tr>\n",
       "    <tr>\n",
       "      <th>31</th>\n",
       "      <td>0.176036</td>\n",
       "      <td>0.957480</td>\n",
       "      <td>0.103599</td>\n",
       "      <td>0.975</td>\n",
       "    </tr>\n",
       "    <tr>\n",
       "      <th>32</th>\n",
       "      <td>0.126237</td>\n",
       "      <td>0.979528</td>\n",
       "      <td>0.102238</td>\n",
       "      <td>0.975</td>\n",
       "    </tr>\n",
       "    <tr>\n",
       "      <th>33</th>\n",
       "      <td>0.134424</td>\n",
       "      <td>0.966929</td>\n",
       "      <td>0.090350</td>\n",
       "      <td>0.975</td>\n",
       "    </tr>\n",
       "    <tr>\n",
       "      <th>34</th>\n",
       "      <td>0.128607</td>\n",
       "      <td>0.974803</td>\n",
       "      <td>0.083062</td>\n",
       "      <td>0.975</td>\n",
       "    </tr>\n",
       "  </tbody>\n",
       "</table>\n",
       "</div>"
      ],
      "text/plain": [
       "        loss  accuracy  val_loss  val_accuracy\n",
       "30  0.164688  0.962205  0.111463         0.975\n",
       "31  0.176036  0.957480  0.103599         0.975\n",
       "32  0.126237  0.979528  0.102238         0.975\n",
       "33  0.134424  0.966929  0.090350         0.975\n",
       "34  0.128607  0.974803  0.083062         0.975"
      ]
     },
     "execution_count": 33,
     "metadata": {},
     "output_type": "execute_result"
    }
   ],
   "source": [
    "plot_keras_fit_history(resultsc2, 0, common_plot_kwargs={\"style\": \"fivethirtyeight\"}).tail()"
   ]
  },
  {
   "cell_type": "code",
   "execution_count": 34,
   "metadata": {},
   "outputs": [
    {
     "name": "stdout",
     "output_type": "stream",
     "text": [
      "Accuracy: 0.9375\n",
      "Balanced Accuracy: 0.9444444444444443\n",
      "CPU times: user 69 ms, sys: 3 ms, total: 72 ms\n",
      "Wall time: 69.6 ms\n"
     ]
    },
    {
     "name": "stderr",
     "output_type": "stream",
     "text": [
      "/opt/conda/lib/python3.7/site-packages/sklearn/metrics/_classification.py:1814: UserWarning: y_pred contains classes not in y_true\n",
      "  warnings.warn('y_pred contains classes not in y_true')\n"
     ]
    },
    {
     "data": {
      "text/plain": [
       "(0.9375, 0.9444444444444443)"
      ]
     },
     "execution_count": 34,
     "metadata": {},
     "output_type": "execute_result"
    }
   ],
   "source": [
    "%%time\n",
    "test_batch = next(X_test_generator)\n",
    "image_class_evaluation(modelc2, test_batch[0], test_batch[1])"
   ]
  },
  {
   "cell_type": "markdown",
   "metadata": {},
   "source": [
    "### The LSTM"
   ]
  },
  {
   "cell_type": "markdown",
   "metadata": {},
   "source": [
    "Before converting the data, the labels need to be cleaned up a bit."
   ]
  },
  {
   "cell_type": "code",
   "execution_count": 35,
   "metadata": {},
   "outputs": [],
   "source": [
    "#Creating a dictionary that will be used to map the character id to an index.\n",
    "class_list_label_dict = {key:value for key, value in class_list.reset_index()[[\"char_id\",\"index\"]].to_numpy()}\n",
    "\n",
    "#Mapping to the index so that each label is an integer.\n",
    "choubenkyo_labels = choubenkyo_raw_labels.map(class_list_label_dict)"
   ]
  },
  {
   "cell_type": "code",
   "execution_count": 36,
   "metadata": {},
   "outputs": [],
   "source": [
    "def preprocess_lstm_pipeline(array, labels, test_size=None, val_size=None, random_seed=None):\n",
    "\n",
    "    nobs, sequence_length, nfeatures = array.shape\n",
    "\n",
    "    #App provides possible values range from -1 to 1. This will standardize the data for machine learning, while\n",
    "    #also preserving information present in the relative size of a drawing.\n",
    "    scaled_array = (array.copy() + 1)/2\n",
    "    labels = labels.copy()\n",
    "    \n",
    "    array1d = scaled_array.reshape([nobs, -1])\n",
    "    \n",
    "    if test_size and val_size:\n",
    "        print(\"Performing a train, test, validation split.\")\n",
    "        X_int, X_test, y_int, y_test = train_test_split(array1d, labels, test_size=test_size, random_state=random_seed)\n",
    "        X_train, X_val, y_train, y_val = train_test_split(X_int, y_int, test_size=val_size, random_state=random_seed)\n",
    "        return X_train.reshape([-1, sequence_length, nfeatures]), X_val.reshape([-1, sequence_length, nfeatures]), X_test.reshape([-1, sequence_length, nfeatures]), to_categorical(y_train), to_categorical(y_val), to_categorical(y_test)\n",
    "    if test_size or val_size:\n",
    "        print(\"Performing a train, test split.\")\n",
    "        test_size = max([test_size, val_size])\n",
    "        X_train, X_test, y_train, y_test = train_test_split(array1d, labels, test_size=test_size, random_state=random_seed)\n",
    "        return X_train.reshape([-1, sequence_length, nfeatures]), X_test.reshape([-1, sequence_length, nfeatures]), to_categorical(y_train), to_categorical(y_test)\n",
    "    else:\n",
    "        print(\"Skipping train, test, split\")\n",
    "        return scaled_array, to_categorical(labels)\n",
    "    \n",
    "        #One hot encodes the labels in order to be fit to the lstm.\n",
    "    labels = to_categorical(labels.copy())"
   ]
  },
  {
   "cell_type": "code",
   "execution_count": 37,
   "metadata": {},
   "outputs": [
    {
     "name": "stdout",
     "output_type": "stream",
     "text": [
      "Performing a train, test, validation split.\n"
     ]
    }
   ],
   "source": [
    "X_train, X_val, X_test, y_train, y_val, y_test = preprocess_lstm_pipeline(choubenkyo_data, choubenkyo_labels, .2, .1, random_seed=SEED)"
   ]
  },
  {
   "cell_type": "code",
   "execution_count": 38,
   "metadata": {},
   "outputs": [],
   "source": [
    "class_weights = class_weight.compute_class_weight(\n",
    "           'balanced',\n",
    "            classes = np.unique(np.argmax(y_train, axis = 1)), \n",
    "            y = np.argmax(y_train, axis = 1))"
   ]
  },
  {
   "cell_type": "code",
   "execution_count": 39,
   "metadata": {},
   "outputs": [
    {
     "name": "stdout",
     "output_type": "stream",
     "text": [
      "Model: \"sequential_5\"\n",
      "_________________________________________________________________\n",
      "Layer (type)                 Output Shape              Param #   \n",
      "=================================================================\n",
      "lstm (LSTM)                  (None, 100)               72400     \n",
      "_________________________________________________________________\n",
      "dropout (Dropout)            (None, 100)               0         \n",
      "_________________________________________________________________\n",
      "dense_10 (Dense)             (None, 40)                4040      \n",
      "_________________________________________________________________\n",
      "dense_11 (Dense)             (None, 46)                1886      \n",
      "=================================================================\n",
      "Total params: 78,326\n",
      "Trainable params: 78,326\n",
      "Non-trainable params: 0\n",
      "_________________________________________________________________\n"
     ]
    }
   ],
   "source": [
    "layers = [LSTM(100, input_shape=(120,max_features)),\n",
    "          Dropout(0.1),\n",
    "          Dense(40, activation='relu'),\n",
    "          Dense(46, activation='softmax'),\n",
    "         ]\n",
    "compile_kwargs = {\"loss\":\"categorical_crossentropy\", \"optimizer\":Adam(learning_rate=0.0001), \"metrics\":['accuracy']}\n",
    "modelc3 = generate_keras_model(Sequential(), layers, compile_kwargs)"
   ]
  },
  {
   "cell_type": "code",
   "execution_count": 40,
   "metadata": {},
   "outputs": [
    {
     "name": "stdout",
     "output_type": "stream",
     "text": [
      "Train on 906 samples, validate on 101 samples\n",
      "Epoch 1/200\n",
      "900/906 [============================>.] - ETA: 0s - loss: 3.8313 - accuracy: 0.0256INFO:tensorflow:Assets written to: model_backups/kanji/modelc3-01/assets\n",
      "906/906 [==============================] - 4s 5ms/sample - loss: 3.8310 - accuracy: 0.0254 - val_loss: 3.8174 - val_accuracy: 0.0297\n",
      "Epoch 2/200\n",
      "870/906 [===========================>..] - ETA: 0s - loss: 3.8146 - accuracy: 0.0230INFO:tensorflow:Assets written to: model_backups/kanji/modelc3-02/assets\n",
      "906/906 [==============================] - 3s 4ms/sample - loss: 3.8122 - accuracy: 0.0221 - val_loss: 3.7941 - val_accuracy: 0.0198\n",
      "Epoch 3/200\n",
      "890/906 [============================>.] - ETA: 0s - loss: 3.7937 - accuracy: 0.0315INFO:tensorflow:Assets written to: model_backups/kanji/modelc3-03/assets\n",
      "906/906 [==============================] - 3s 3ms/sample - loss: 3.7944 - accuracy: 0.0309 - val_loss: 3.7642 - val_accuracy: 0.0396\n",
      "Epoch 4/200\n",
      "875/906 [===========================>..] - ETA: 0s - loss: 3.7108 - accuracy: 0.0617INFO:tensorflow:Assets written to: model_backups/kanji/modelc3-04/assets\n",
      "906/906 [==============================] - 3s 4ms/sample - loss: 3.7123 - accuracy: 0.0607 - val_loss: 3.6960 - val_accuracy: 0.0891\n",
      "Epoch 5/200\n",
      "890/906 [============================>.] - ETA: 0s - loss: 3.5755 - accuracy: 0.0787INFO:tensorflow:Assets written to: model_backups/kanji/modelc3-05/assets\n",
      "906/906 [==============================] - 3s 4ms/sample - loss: 3.5751 - accuracy: 0.0773 - val_loss: 3.5160 - val_accuracy: 0.1980\n",
      "Epoch 6/200\n",
      "865/906 [===========================>..] - ETA: 0s - loss: 3.4772 - accuracy: 0.0971INFO:tensorflow:Assets written to: model_backups/kanji/modelc3-06/assets\n",
      "906/906 [==============================] - 3s 3ms/sample - loss: 3.4900 - accuracy: 0.0938 - val_loss: 3.4834 - val_accuracy: 0.1485\n",
      "Epoch 7/200\n",
      "885/906 [============================>.] - ETA: 0s - loss: 3.3901 - accuracy: 0.1153INFO:tensorflow:Assets written to: model_backups/kanji/modelc3-07/assets\n",
      "906/906 [==============================] - 3s 4ms/sample - loss: 3.3907 - accuracy: 0.1159 - val_loss: 3.4006 - val_accuracy: 0.1881\n",
      "Epoch 8/200\n",
      "895/906 [============================>.] - ETA: 0s - loss: 3.2239 - accuracy: 0.1464INFO:tensorflow:Assets written to: model_backups/kanji/modelc3-08/assets\n",
      "906/906 [==============================] - 3s 3ms/sample - loss: 3.2208 - accuracy: 0.1457 - val_loss: 3.1806 - val_accuracy: 0.2178\n",
      "Epoch 9/200\n",
      "880/906 [============================>.] - ETA: 0s - loss: 3.1128 - accuracy: 0.1898INFO:tensorflow:Assets written to: model_backups/kanji/modelc3-09/assets\n",
      "906/906 [==============================] - 3s 4ms/sample - loss: 3.1180 - accuracy: 0.1887 - val_loss: 3.0300 - val_accuracy: 0.2376\n",
      "Epoch 10/200\n",
      "875/906 [===========================>..] - ETA: 0s - loss: 2.9228 - accuracy: 0.2103INFO:tensorflow:Assets written to: model_backups/kanji/modelc3-10/assets\n",
      "906/906 [==============================] - 3s 4ms/sample - loss: 2.9295 - accuracy: 0.2075 - val_loss: 2.8844 - val_accuracy: 0.2178\n",
      "Epoch 11/200\n",
      "875/906 [===========================>..] - ETA: 0s - loss: 2.7939 - accuracy: 0.2754INFO:tensorflow:Assets written to: model_backups/kanji/modelc3-11/assets\n",
      "906/906 [==============================] - 3s 3ms/sample - loss: 2.7900 - accuracy: 0.2748 - val_loss: 2.7430 - val_accuracy: 0.2871\n",
      "Epoch 12/200\n",
      "855/906 [===========================>..] - ETA: 0s - loss: 2.7678 - accuracy: 0.2351INFO:tensorflow:Assets written to: model_backups/kanji/modelc3-12/assets\n",
      "906/906 [==============================] - 3s 4ms/sample - loss: 2.7573 - accuracy: 0.2362 - val_loss: 2.6649 - val_accuracy: 0.3366\n",
      "Epoch 13/200\n",
      "875/906 [===========================>..] - ETA: 0s - loss: 2.5209 - accuracy: 0.3429INFO:tensorflow:Assets written to: model_backups/kanji/modelc3-13/assets\n",
      "906/906 [==============================] - 3s 3ms/sample - loss: 2.5149 - accuracy: 0.3455 - val_loss: 2.4678 - val_accuracy: 0.3861\n",
      "Epoch 14/200\n",
      "860/906 [===========================>..] - ETA: 0s - loss: 2.5724 - accuracy: 0.3023INFO:tensorflow:Assets written to: model_backups/kanji/modelc3-14/assets\n",
      "906/906 [==============================] - 3s 4ms/sample - loss: 2.5530 - accuracy: 0.3113 - val_loss: 2.3961 - val_accuracy: 0.2871\n",
      "Epoch 15/200\n",
      "905/906 [============================>.] - ETA: 0s - loss: 2.2604 - accuracy: 0.4011INFO:tensorflow:Assets written to: model_backups/kanji/modelc3-15/assets\n",
      "906/906 [==============================] - 3s 4ms/sample - loss: 2.2596 - accuracy: 0.4018 - val_loss: 2.1997 - val_accuracy: 0.3861\n",
      "Epoch 16/200\n",
      "870/906 [===========================>..] - ETA: 0s - loss: 2.1892 - accuracy: 0.3805INFO:tensorflow:Assets written to: model_backups/kanji/modelc3-16/assets\n",
      "906/906 [==============================] - 3s 3ms/sample - loss: 2.1782 - accuracy: 0.3852 - val_loss: 2.1078 - val_accuracy: 0.3762\n",
      "Epoch 17/200\n",
      "860/906 [===========================>..] - ETA: 0s - loss: 2.1301 - accuracy: 0.3930INFO:tensorflow:Assets written to: model_backups/kanji/modelc3-17/assets\n",
      "906/906 [==============================] - 3s 4ms/sample - loss: 2.1266 - accuracy: 0.3962 - val_loss: 2.1972 - val_accuracy: 0.3960\n",
      "Epoch 18/200\n",
      "885/906 [============================>.] - ETA: 0s - loss: 2.0841 - accuracy: 0.4056INFO:tensorflow:Assets written to: model_backups/kanji/modelc3-18/assets\n",
      "906/906 [==============================] - 3s 3ms/sample - loss: 2.0762 - accuracy: 0.4073 - val_loss: 1.9304 - val_accuracy: 0.4455\n",
      "Epoch 19/200\n",
      "855/906 [===========================>..] - ETA: 0s - loss: 1.8070 - accuracy: 0.4901INFO:tensorflow:Assets written to: model_backups/kanji/modelc3-19/assets\n",
      "906/906 [==============================] - 3s 4ms/sample - loss: 1.8132 - accuracy: 0.4901 - val_loss: 1.7979 - val_accuracy: 0.4653\n",
      "Epoch 20/200\n",
      "865/906 [===========================>..] - ETA: 0s - loss: 1.7292 - accuracy: 0.5121INFO:tensorflow:Assets written to: model_backups/kanji/modelc3-20/assets\n",
      "906/906 [==============================] - 3s 4ms/sample - loss: 1.7217 - accuracy: 0.5166 - val_loss: 1.6469 - val_accuracy: 0.5149\n",
      "Epoch 21/200\n",
      "880/906 [============================>.] - ETA: 0s - loss: 1.6535 - accuracy: 0.5330INFO:tensorflow:Assets written to: model_backups/kanji/modelc3-21/assets\n",
      "906/906 [==============================] - 3s 3ms/sample - loss: 1.6468 - accuracy: 0.5364 - val_loss: 1.7530 - val_accuracy: 0.4752\n",
      "Epoch 22/200\n",
      "860/906 [===========================>..] - ETA: 0s - loss: 1.6630 - accuracy: 0.5291INFO:tensorflow:Assets written to: model_backups/kanji/modelc3-22/assets\n",
      "906/906 [==============================] - 3s 4ms/sample - loss: 1.6802 - accuracy: 0.5221 - val_loss: 1.7933 - val_accuracy: 0.4752\n",
      "Epoch 23/200\n",
      "860/906 [===========================>..] - ETA: 0s - loss: 1.4932 - accuracy: 0.5814INFO:tensorflow:Assets written to: model_backups/kanji/modelc3-23/assets\n",
      "906/906 [==============================] - 3s 4ms/sample - loss: 1.4910 - accuracy: 0.5828 - val_loss: 1.4233 - val_accuracy: 0.6040\n",
      "Epoch 24/200\n",
      "855/906 [===========================>..] - ETA: 0s - loss: 1.4974 - accuracy: 0.5848INFO:tensorflow:Assets written to: model_backups/kanji/modelc3-24/assets\n",
      "906/906 [==============================] - 3s 3ms/sample - loss: 1.4993 - accuracy: 0.5806 - val_loss: 1.4796 - val_accuracy: 0.5644\n",
      "Epoch 25/200\n",
      "860/906 [===========================>..] - ETA: 0s - loss: 1.3543 - accuracy: 0.6384INFO:tensorflow:Assets written to: model_backups/kanji/modelc3-25/assets\n",
      "906/906 [==============================] - 3s 4ms/sample - loss: 1.3651 - accuracy: 0.6325 - val_loss: 1.4844 - val_accuracy: 0.5644\n",
      "Epoch 26/200\n",
      "890/906 [============================>.] - ETA: 0s - loss: 1.3753 - accuracy: 0.5966INFO:tensorflow:Assets written to: model_backups/kanji/modelc3-26/assets\n",
      "906/906 [==============================] - 3s 3ms/sample - loss: 1.3716 - accuracy: 0.5982 - val_loss: 1.2254 - val_accuracy: 0.6931\n",
      "Epoch 27/200\n",
      "865/906 [===========================>..] - ETA: 0s - loss: 1.2838 - accuracy: 0.6775INFO:tensorflow:Assets written to: model_backups/kanji/modelc3-27/assets\n",
      "906/906 [==============================] - 3s 4ms/sample - loss: 1.2710 - accuracy: 0.6832 - val_loss: 1.2209 - val_accuracy: 0.7030\n",
      "Epoch 28/200\n",
      "860/906 [===========================>..] - ETA: 0s - loss: 1.0835 - accuracy: 0.7500INFO:tensorflow:Assets written to: model_backups/kanji/modelc3-28/assets\n",
      "906/906 [==============================] - 3s 4ms/sample - loss: 1.0928 - accuracy: 0.7483 - val_loss: 1.9862 - val_accuracy: 0.3267\n",
      "Epoch 29/200\n",
      "895/906 [============================>.] - ETA: 0s - loss: 1.2041 - accuracy: 0.6626INFO:tensorflow:Assets written to: model_backups/kanji/modelc3-29/assets\n",
      "906/906 [==============================] - 3s 3ms/sample - loss: 1.2047 - accuracy: 0.6600 - val_loss: 1.1126 - val_accuracy: 0.7921\n",
      "Epoch 30/200\n",
      "870/906 [===========================>..] - ETA: 0s - loss: 1.0458 - accuracy: 0.7437INFO:tensorflow:Assets written to: model_backups/kanji/modelc3-30/assets\n",
      "906/906 [==============================] - 3s 4ms/sample - loss: 1.0470 - accuracy: 0.7428 - val_loss: 1.0907 - val_accuracy: 0.6931\n",
      "Epoch 31/200\n",
      "870/906 [===========================>..] - ETA: 0s - loss: 1.0242 - accuracy: 0.7425INFO:tensorflow:Assets written to: model_backups/kanji/modelc3-31/assets\n",
      "906/906 [==============================] - 3s 4ms/sample - loss: 1.0203 - accuracy: 0.7483 - val_loss: 1.0061 - val_accuracy: 0.7525\n",
      "Epoch 32/200\n",
      "875/906 [===========================>..] - ETA: 0s - loss: 0.9661 - accuracy: 0.7623INFO:tensorflow:Assets written to: model_backups/kanji/modelc3-32/assets\n",
      "906/906 [==============================] - 3s 3ms/sample - loss: 0.9618 - accuracy: 0.7649 - val_loss: 0.9889 - val_accuracy: 0.7723\n",
      "Epoch 33/200\n",
      "860/906 [===========================>..] - ETA: 0s - loss: 0.9741 - accuracy: 0.7605INFO:tensorflow:Assets written to: model_backups/kanji/modelc3-33/assets\n",
      "906/906 [==============================] - 3s 4ms/sample - loss: 0.9719 - accuracy: 0.7627 - val_loss: 0.9085 - val_accuracy: 0.8218\n",
      "Epoch 34/200\n",
      "870/906 [===========================>..] - ETA: 0s - loss: 0.8720 - accuracy: 0.8069INFO:tensorflow:Assets written to: model_backups/kanji/modelc3-34/assets\n",
      "906/906 [==============================] - 3s 3ms/sample - loss: 0.8909 - accuracy: 0.8002 - val_loss: 2.8583 - val_accuracy: 0.2376\n",
      "Epoch 35/200\n",
      "895/906 [============================>.] - ETA: 0s - loss: 3.2948 - accuracy: 0.1888INFO:tensorflow:Assets written to: model_backups/kanji/modelc3-35/assets\n",
      "906/906 [==============================] - 3s 4ms/sample - loss: 3.2835 - accuracy: 0.1909 - val_loss: 2.1392 - val_accuracy: 0.3564\n",
      "Epoch 36/200\n",
      "865/906 [===========================>..] - ETA: 0s - loss: 1.8715 - accuracy: 0.4659INFO:tensorflow:Assets written to: model_backups/kanji/modelc3-36/assets\n",
      "906/906 [==============================] - 3s 4ms/sample - loss: 1.8695 - accuracy: 0.4625 - val_loss: 1.4675 - val_accuracy: 0.5743\n",
      "Epoch 37/200\n",
      "895/906 [============================>.] - ETA: 0s - loss: 1.3880 - accuracy: 0.6279INFO:tensorflow:Assets written to: model_backups/kanji/modelc3-37/assets\n",
      "906/906 [==============================] - 3s 3ms/sample - loss: 1.3858 - accuracy: 0.6291 - val_loss: 1.3965 - val_accuracy: 0.5644\n",
      "Epoch 38/200\n",
      "900/906 [============================>.] - ETA: 0s - loss: 1.1693 - accuracy: 0.6944INFO:tensorflow:Assets written to: model_backups/kanji/modelc3-38/assets\n",
      "906/906 [==============================] - 3s 4ms/sample - loss: 1.1680 - accuracy: 0.6954 - val_loss: 1.1340 - val_accuracy: 0.6931\n",
      "Epoch 39/200\n",
      "870/906 [===========================>..] - ETA: 0s - loss: 1.1214 - accuracy: 0.6897INFO:tensorflow:Assets written to: model_backups/kanji/modelc3-39/assets\n",
      "906/906 [==============================] - 3s 3ms/sample - loss: 1.1061 - accuracy: 0.6965 - val_loss: 1.0834 - val_accuracy: 0.6535\n",
      "Epoch 40/200\n",
      "870/906 [===========================>..] - ETA: 0s - loss: 1.3221 - accuracy: 0.5920INFO:tensorflow:Assets written to: model_backups/kanji/modelc3-40/assets\n",
      "906/906 [==============================] - 3s 4ms/sample - loss: 1.3145 - accuracy: 0.5949 - val_loss: 0.9967 - val_accuracy: 0.7426\n",
      "Epoch 41/200\n",
      "865/906 [===========================>..] - ETA: 0s - loss: 0.9415 - accuracy: 0.7595INFO:tensorflow:Assets written to: model_backups/kanji/modelc3-41/assets\n",
      "906/906 [==============================] - 3s 4ms/sample - loss: 0.9302 - accuracy: 0.7649 - val_loss: 0.8210 - val_accuracy: 0.8416\n",
      "Epoch 42/200\n",
      "860/906 [===========================>..] - ETA: 0s - loss: 0.7892 - accuracy: 0.8244INFO:tensorflow:Assets written to: model_backups/kanji/modelc3-42/assets\n",
      "906/906 [==============================] - 3s 3ms/sample - loss: 0.7844 - accuracy: 0.8212 - val_loss: 0.8252 - val_accuracy: 0.8317\n",
      "Epoch 43/200\n",
      "865/906 [===========================>..] - ETA: 0s - loss: 0.7598 - accuracy: 0.8266INFO:tensorflow:Assets written to: model_backups/kanji/modelc3-43/assets\n",
      "906/906 [==============================] - 3s 4ms/sample - loss: 0.7603 - accuracy: 0.8267 - val_loss: 0.7786 - val_accuracy: 0.8317\n",
      "Epoch 44/200\n",
      "855/906 [===========================>..] - ETA: 0s - loss: 0.7113 - accuracy: 0.8433INFO:tensorflow:Assets written to: model_backups/kanji/modelc3-44/assets\n",
      "906/906 [==============================] - 3s 4ms/sample - loss: 0.7138 - accuracy: 0.8411 - val_loss: 0.7755 - val_accuracy: 0.8713\n",
      "Epoch 45/200\n",
      "880/906 [============================>.] - ETA: 0s - loss: 0.6409 - accuracy: 0.8693INFO:tensorflow:Assets written to: model_backups/kanji/modelc3-45/assets\n",
      "906/906 [==============================] - 3s 3ms/sample - loss: 0.6474 - accuracy: 0.8675 - val_loss: 0.9740 - val_accuracy: 0.6733\n",
      "Epoch 46/200\n",
      "880/906 [============================>.] - ETA: 0s - loss: 0.6281 - accuracy: 0.8682INFO:tensorflow:Assets written to: model_backups/kanji/modelc3-46/assets\n",
      "906/906 [==============================] - 3s 4ms/sample - loss: 0.6258 - accuracy: 0.8687 - val_loss: 0.6645 - val_accuracy: 0.8416\n",
      "Epoch 47/200\n",
      "880/906 [============================>.] - ETA: 0s - loss: 0.6104 - accuracy: 0.8648INFO:tensorflow:Assets written to: model_backups/kanji/modelc3-47/assets\n",
      "906/906 [==============================] - 3s 3ms/sample - loss: 0.6198 - accuracy: 0.8631 - val_loss: 0.7354 - val_accuracy: 0.8020\n",
      "Epoch 48/200\n",
      "905/906 [============================>.] - ETA: 0s - loss: 0.6046 - accuracy: 0.8652INFO:tensorflow:Assets written to: model_backups/kanji/modelc3-48/assets\n",
      "906/906 [==============================] - 3s 4ms/sample - loss: 0.6051 - accuracy: 0.8653 - val_loss: 0.7759 - val_accuracy: 0.8416\n",
      "Epoch 49/200\n",
      "860/906 [===========================>..] - ETA: 0s - loss: 0.6198 - accuracy: 0.8640INFO:tensorflow:Assets written to: model_backups/kanji/modelc3-49/assets\n",
      "906/906 [==============================] - 3s 4ms/sample - loss: 0.6217 - accuracy: 0.8598 - val_loss: 0.6078 - val_accuracy: 0.8515\n",
      "Epoch 50/200\n",
      "865/906 [===========================>..] - ETA: 0s - loss: 0.5122 - accuracy: 0.8925INFO:tensorflow:Assets written to: model_backups/kanji/modelc3-50/assets\n",
      "906/906 [==============================] - 3s 3ms/sample - loss: 0.5287 - accuracy: 0.8885 - val_loss: 0.6377 - val_accuracy: 0.8515\n",
      "Epoch 51/200\n",
      "880/906 [============================>.] - ETA: 0s - loss: 1.7574 - accuracy: 0.4636INFO:tensorflow:Assets written to: model_backups/kanji/modelc3-51/assets\n",
      "906/906 [==============================] - 3s 4ms/sample - loss: 1.7445 - accuracy: 0.4669 - val_loss: 1.0688 - val_accuracy: 0.6337\n",
      "Epoch 52/200\n",
      "860/906 [===========================>..] - ETA: 0s - loss: 0.8561 - accuracy: 0.7465INFO:tensorflow:Assets written to: model_backups/kanji/modelc3-52/assets\n",
      "906/906 [==============================] - 3s 3ms/sample - loss: 0.8399 - accuracy: 0.7539 - val_loss: 0.6447 - val_accuracy: 0.8317\n"
     ]
    }
   ],
   "source": [
    "backupsc3 = ModelCheckpoint(\"model_backups/kanji/modelc3-{epoch:02d}\", monitor=\"val_loss\")\n",
    "stopping = EarlyStopping(monitor=\"val_accuracy\", min_delta=0, patience=8, restore_best_weights=True)\n",
    "\n",
    "resultsc3 = modelc3.fit(X_train, y_train, epochs=200, batch_size=5, validation_data=(X_val, y_val), class_weight=class_weights, callbacks=[backupsc3, stopping])"
   ]
  },
  {
   "cell_type": "code",
   "execution_count": 41,
   "metadata": {},
   "outputs": [
    {
     "name": "stdout",
     "output_type": "stream",
     "text": [
      "Accuracy: 0.8611111111111112\n",
      "Balanced Accuracy: 0.8536231884057971\n",
      "CPU times: user 238 ms, sys: 5.02 ms, total: 243 ms\n",
      "Wall time: 212 ms\n"
     ]
    },
    {
     "data": {
      "text/plain": [
       "(0.8611111111111112, 0.8536231884057971)"
      ]
     },
     "execution_count": 41,
     "metadata": {},
     "output_type": "execute_result"
    }
   ],
   "source": [
    "%%time\n",
    "image_class_evaluation(modelc3, X_test, y_test)"
   ]
  },
  {
   "cell_type": "markdown",
   "metadata": {},
   "source": [
    "### LSTM Test 2"
   ]
  },
  {
   "cell_type": "code",
   "execution_count": 42,
   "metadata": {},
   "outputs": [
    {
     "name": "stdout",
     "output_type": "stream",
     "text": [
      "Model: \"sequential_6\"\n",
      "_________________________________________________________________\n",
      "Layer (type)                 Output Shape              Param #   \n",
      "=================================================================\n",
      "lstm_1 (LSTM)                (None, 200)               224800    \n",
      "_________________________________________________________________\n",
      "dropout_1 (Dropout)          (None, 200)               0         \n",
      "_________________________________________________________________\n",
      "dense_12 (Dense)             (None, 40)                8040      \n",
      "_________________________________________________________________\n",
      "dense_13 (Dense)             (None, 46)                1886      \n",
      "=================================================================\n",
      "Total params: 234,726\n",
      "Trainable params: 234,726\n",
      "Non-trainable params: 0\n",
      "_________________________________________________________________\n"
     ]
    }
   ],
   "source": [
    "layers = [LSTM(200, input_shape=(120,max_features)),\n",
    "          Dropout(0.1),\n",
    "          Dense(40, activation='relu'),\n",
    "          Dense(46, activation='softmax'),\n",
    "         ]\n",
    "compile_kwargs = {\"loss\":\"categorical_crossentropy\", \"optimizer\":Adam(learning_rate=0.0001), \"metrics\":['accuracy']}\n",
    "modelc4 = generate_keras_model(Sequential(), layers, compile_kwargs)"
   ]
  },
  {
   "cell_type": "code",
   "execution_count": 32,
   "metadata": {},
   "outputs": [
    {
     "name": "stdout",
     "output_type": "stream",
     "text": [
      "Train on 873 samples, validate on 98 samples\n",
      "Epoch 1/200\n",
      "850/873 [============================>.] - ETA: 0s - loss: 3.8296 - accuracy: 0.0259INFO:tensorflow:Assets written to: model_backups/kanji/modelc4-01/assets\n",
      "873/873 [==============================] - 4s 5ms/sample - loss: 3.8293 - accuracy: 0.0252 - val_loss: 3.8286 - val_accuracy: 0.0102\n",
      "Epoch 2/200\n",
      "865/873 [============================>.] - ETA: 0s - loss: 3.8060 - accuracy: 0.0266INFO:tensorflow:Assets written to: model_backups/kanji/modelc4-02/assets\n",
      "873/873 [==============================] - 3s 4ms/sample - loss: 3.8055 - accuracy: 0.0275 - val_loss: 3.7910 - val_accuracy: 0.0102\n",
      "Epoch 3/200\n",
      "840/873 [===========================>..] - ETA: 0s - loss: 3.7880 - accuracy: 0.0536INFO:tensorflow:Assets written to: model_backups/kanji/modelc4-03/assets\n",
      "873/873 [==============================] - 3s 4ms/sample - loss: 3.7844 - accuracy: 0.0538 - val_loss: 3.7502 - val_accuracy: 0.0510\n",
      "Epoch 4/200\n",
      "850/873 [============================>.] - ETA: 0s - loss: 3.7399 - accuracy: 0.0400INFO:tensorflow:Assets written to: model_backups/kanji/modelc4-04/assets\n",
      "873/873 [==============================] - 3s 4ms/sample - loss: 3.7427 - accuracy: 0.0389 - val_loss: 3.8110 - val_accuracy: 0.0000e+00\n",
      "Epoch 5/200\n",
      "830/873 [===========================>..] - ETA: 0s - loss: 3.7176 - accuracy: 0.0554INFO:tensorflow:Assets written to: model_backups/kanji/modelc4-05/assets\n",
      "873/873 [==============================] - 3s 4ms/sample - loss: 3.7196 - accuracy: 0.0550 - val_loss: 3.7532 - val_accuracy: 0.0306\n",
      "Epoch 6/200\n",
      "830/873 [===========================>..] - ETA: 0s - loss: 3.5294 - accuracy: 0.1108INFO:tensorflow:Assets written to: model_backups/kanji/modelc4-06/assets\n",
      "873/873 [==============================] - 3s 4ms/sample - loss: 3.5278 - accuracy: 0.1111 - val_loss: 3.8397 - val_accuracy: 0.0000e+00\n",
      "Epoch 7/200\n",
      "855/873 [============================>.] - ETA: 0s - loss: 3.3188 - accuracy: 0.1392INFO:tensorflow:Assets written to: model_backups/kanji/modelc4-07/assets\n",
      "873/873 [==============================] - 3s 4ms/sample - loss: 3.3125 - accuracy: 0.1397 - val_loss: 3.2377 - val_accuracy: 0.1122\n",
      "Epoch 8/200\n",
      "870/873 [============================>.] - ETA: 0s - loss: 3.0038 - accuracy: 0.1759INFO:tensorflow:Assets written to: model_backups/kanji/modelc4-08/assets\n",
      "873/873 [==============================] - 3s 4ms/sample - loss: 3.0027 - accuracy: 0.1764 - val_loss: 2.9797 - val_accuracy: 0.1531\n",
      "Epoch 9/200\n",
      "820/873 [===========================>..] - ETA: 0s - loss: 2.6920 - accuracy: 0.2024INFO:tensorflow:Assets written to: model_backups/kanji/modelc4-09/assets\n",
      "873/873 [==============================] - 3s 4ms/sample - loss: 2.6941 - accuracy: 0.2027 - val_loss: 2.7854 - val_accuracy: 0.2041\n",
      "Epoch 10/200\n",
      "865/873 [============================>.] - ETA: 0s - loss: 2.5282 - accuracy: 0.2682INFO:tensorflow:Assets written to: model_backups/kanji/modelc4-10/assets\n",
      "873/873 [==============================] - 3s 4ms/sample - loss: 2.5285 - accuracy: 0.2680 - val_loss: 2.5394 - val_accuracy: 0.1939\n",
      "Epoch 11/200\n",
      "860/873 [============================>.] - ETA: 0s - loss: 2.2187 - accuracy: 0.3628INFO:tensorflow:Assets written to: model_backups/kanji/modelc4-11/assets\n",
      "873/873 [==============================] - 3s 4ms/sample - loss: 2.2177 - accuracy: 0.3620 - val_loss: 2.2901 - val_accuracy: 0.3061\n",
      "Epoch 12/200\n",
      "835/873 [===========================>..] - ETA: 0s - loss: 1.9486 - accuracy: 0.4299INFO:tensorflow:Assets written to: model_backups/kanji/modelc4-12/assets\n",
      "873/873 [==============================] - 3s 4ms/sample - loss: 1.9353 - accuracy: 0.4353 - val_loss: 2.1969 - val_accuracy: 0.3571\n",
      "Epoch 13/200\n",
      "825/873 [===========================>..] - ETA: 0s - loss: 1.8432 - accuracy: 0.4521INFO:tensorflow:Assets written to: model_backups/kanji/modelc4-13/assets\n",
      "873/873 [==============================] - 3s 4ms/sample - loss: 1.8375 - accuracy: 0.4513 - val_loss: 2.1665 - val_accuracy: 0.4082\n",
      "Epoch 14/200\n",
      "865/873 [============================>.] - ETA: 0s - loss: 1.6536 - accuracy: 0.5133INFO:tensorflow:Assets written to: model_backups/kanji/modelc4-14/assets\n",
      "873/873 [==============================] - 3s 4ms/sample - loss: 1.6520 - accuracy: 0.5143 - val_loss: 1.7481 - val_accuracy: 0.5102\n",
      "Epoch 15/200\n",
      "870/873 [============================>.] - ETA: 0s - loss: 1.6520 - accuracy: 0.4747INFO:tensorflow:Assets written to: model_backups/kanji/modelc4-15/assets\n",
      "873/873 [==============================] - 3s 4ms/sample - loss: 1.6506 - accuracy: 0.4754 - val_loss: 1.7100 - val_accuracy: 0.5204\n",
      "Epoch 16/200\n",
      "825/873 [===========================>..] - ETA: 0s - loss: 1.3593 - accuracy: 0.5891INFO:tensorflow:Assets written to: model_backups/kanji/modelc4-16/assets\n",
      "873/873 [==============================] - 3s 4ms/sample - loss: 1.3455 - accuracy: 0.5979 - val_loss: 1.4397 - val_accuracy: 0.5816\n",
      "Epoch 17/200\n",
      "830/873 [===========================>..] - ETA: 0s - loss: 1.3678 - accuracy: 0.5928INFO:tensorflow:Assets written to: model_backups/kanji/modelc4-17/assets\n",
      "873/873 [==============================] - 3s 4ms/sample - loss: 1.3535 - accuracy: 0.5968 - val_loss: 1.3971 - val_accuracy: 0.6633\n",
      "Epoch 18/200\n",
      "825/873 [===========================>..] - ETA: 0s - loss: 1.2660 - accuracy: 0.6352INFO:tensorflow:Assets written to: model_backups/kanji/modelc4-18/assets\n",
      "873/873 [==============================] - 3s 4ms/sample - loss: 1.2563 - accuracy: 0.6346 - val_loss: 1.5575 - val_accuracy: 0.5204\n",
      "Epoch 19/200\n",
      "850/873 [============================>.] - ETA: 0s - loss: 1.0576 - accuracy: 0.6894INFO:tensorflow:Assets written to: model_backups/kanji/modelc4-19/assets\n",
      "873/873 [==============================] - 3s 4ms/sample - loss: 1.0669 - accuracy: 0.6850 - val_loss: 1.2118 - val_accuracy: 0.6837\n",
      "Epoch 20/200\n",
      "835/873 [===========================>..] - ETA: 0s - loss: 0.9999 - accuracy: 0.7054INFO:tensorflow:Assets written to: model_backups/kanji/modelc4-20/assets\n",
      "873/873 [==============================] - 3s 4ms/sample - loss: 1.0074 - accuracy: 0.7022 - val_loss: 1.2538 - val_accuracy: 0.6122\n",
      "Epoch 21/200\n",
      "865/873 [============================>.] - ETA: 0s - loss: 0.8762 - accuracy: 0.7618INFO:tensorflow:Assets written to: model_backups/kanji/modelc4-21/assets\n",
      "873/873 [==============================] - 3s 4ms/sample - loss: 0.8776 - accuracy: 0.7606 - val_loss: 1.0039 - val_accuracy: 0.7347\n",
      "Epoch 22/200\n",
      "820/873 [===========================>..] - ETA: 0s - loss: 1.1070 - accuracy: 0.6573INFO:tensorflow:Assets written to: model_backups/kanji/modelc4-22/assets\n",
      "873/873 [==============================] - 3s 4ms/sample - loss: 1.0976 - accuracy: 0.6632 - val_loss: 0.9164 - val_accuracy: 0.7959\n",
      "Epoch 23/200\n",
      "835/873 [===========================>..] - ETA: 0s - loss: 1.0195 - accuracy: 0.6922INFO:tensorflow:Assets written to: model_backups/kanji/modelc4-23/assets\n",
      "873/873 [==============================] - 3s 4ms/sample - loss: 1.0419 - accuracy: 0.6838 - val_loss: 1.1340 - val_accuracy: 0.6735\n",
      "Epoch 24/200\n",
      "860/873 [============================>.] - ETA: 0s - loss: 0.7862 - accuracy: 0.7884INFO:tensorflow:Assets written to: model_backups/kanji/modelc4-24/assets\n",
      "873/873 [==============================] - 3s 4ms/sample - loss: 0.7838 - accuracy: 0.7904 - val_loss: 0.7486 - val_accuracy: 0.8265\n",
      "Epoch 25/200\n",
      "820/873 [===========================>..] - ETA: 0s - loss: 0.7060 - accuracy: 0.8232INFO:tensorflow:Assets written to: model_backups/kanji/modelc4-25/assets\n",
      "873/873 [==============================] - 3s 4ms/sample - loss: 0.7071 - accuracy: 0.8225 - val_loss: 1.0099 - val_accuracy: 0.7551\n",
      "Epoch 26/200\n",
      "865/873 [============================>.] - ETA: 0s - loss: 0.6430 - accuracy: 0.8439INFO:tensorflow:Assets written to: model_backups/kanji/modelc4-26/assets\n",
      "873/873 [==============================] - 3s 4ms/sample - loss: 0.6432 - accuracy: 0.8442 - val_loss: 0.7650 - val_accuracy: 0.7755\n",
      "Epoch 27/200\n",
      "830/873 [===========================>..] - ETA: 0s - loss: 0.6448 - accuracy: 0.8253INFO:tensorflow:Assets written to: model_backups/kanji/modelc4-27/assets\n",
      "873/873 [==============================] - 3s 4ms/sample - loss: 0.6422 - accuracy: 0.8282 - val_loss: 0.6534 - val_accuracy: 0.8367\n",
      "Epoch 28/200\n",
      "840/873 [===========================>..] - ETA: 0s - loss: 0.5797 - accuracy: 0.8464INFO:tensorflow:Assets written to: model_backups/kanji/modelc4-28/assets\n",
      "873/873 [==============================] - 3s 4ms/sample - loss: 0.5906 - accuracy: 0.8419 - val_loss: 0.8039 - val_accuracy: 0.7755\n",
      "Epoch 29/200\n",
      "845/873 [============================>.] - ETA: 0s - loss: 0.5782 - accuracy: 0.8284INFO:tensorflow:Assets written to: model_backups/kanji/modelc4-29/assets\n",
      "873/873 [==============================] - 3s 4ms/sample - loss: 0.5713 - accuracy: 0.8339 - val_loss: 0.5763 - val_accuracy: 0.8469\n",
      "Epoch 30/200\n",
      "855/873 [============================>.] - ETA: 0s - loss: 0.5351 - accuracy: 0.8713INFO:tensorflow:Assets written to: model_backups/kanji/modelc4-30/assets\n",
      "873/873 [==============================] - 3s 4ms/sample - loss: 0.5406 - accuracy: 0.8683 - val_loss: 0.7874 - val_accuracy: 0.7755\n",
      "Epoch 31/200\n",
      "820/873 [===========================>..] - ETA: 0s - loss: 0.5557 - accuracy: 0.8488INFO:tensorflow:Assets written to: model_backups/kanji/modelc4-31/assets\n",
      "873/873 [==============================] - 3s 4ms/sample - loss: 0.5519 - accuracy: 0.8499 - val_loss: 0.4742 - val_accuracy: 0.8878\n",
      "Epoch 32/200\n",
      "830/873 [===========================>..] - ETA: 0s - loss: 0.3750 - accuracy: 0.9157INFO:tensorflow:Assets written to: model_backups/kanji/modelc4-32/assets\n",
      "873/873 [==============================] - 3s 4ms/sample - loss: 0.3785 - accuracy: 0.9141 - val_loss: 0.5356 - val_accuracy: 0.9184\n",
      "Epoch 33/200\n",
      "870/873 [============================>.] - ETA: 0s - loss: 0.4180 - accuracy: 0.8966INFO:tensorflow:Assets written to: model_backups/kanji/modelc4-33/assets\n",
      "873/873 [==============================] - 3s 4ms/sample - loss: 0.4175 - accuracy: 0.8969 - val_loss: 0.5164 - val_accuracy: 0.8776\n",
      "Epoch 34/200\n",
      "830/873 [===========================>..] - ETA: 0s - loss: 0.4120 - accuracy: 0.8916INFO:tensorflow:Assets written to: model_backups/kanji/modelc4-34/assets\n",
      "873/873 [==============================] - 3s 4ms/sample - loss: 0.4035 - accuracy: 0.8946 - val_loss: 0.4157 - val_accuracy: 0.8980\n",
      "Epoch 35/200\n",
      "820/873 [===========================>..] - ETA: 0s - loss: 0.3839 - accuracy: 0.8988INFO:tensorflow:Assets written to: model_backups/kanji/modelc4-35/assets\n",
      "873/873 [==============================] - 3s 4ms/sample - loss: 0.3913 - accuracy: 0.8969 - val_loss: 0.5776 - val_accuracy: 0.8469\n",
      "Epoch 36/200\n",
      "865/873 [============================>.] - ETA: 0s - loss: 0.3806 - accuracy: 0.8855INFO:tensorflow:Assets written to: model_backups/kanji/modelc4-36/assets\n",
      "873/873 [==============================] - 3s 4ms/sample - loss: 0.3801 - accuracy: 0.8866 - val_loss: 0.5703 - val_accuracy: 0.8776\n",
      "Epoch 37/200\n",
      "845/873 [============================>.] - ETA: 0s - loss: 0.3612 - accuracy: 0.8959INFO:tensorflow:Assets written to: model_backups/kanji/modelc4-37/assets\n",
      "873/873 [==============================] - 3s 4ms/sample - loss: 0.3607 - accuracy: 0.8946 - val_loss: 0.4317 - val_accuracy: 0.8980\n",
      "Epoch 38/200\n",
      "860/873 [============================>.] - ETA: 0s - loss: 0.2350 - accuracy: 0.9465INFO:tensorflow:Assets written to: model_backups/kanji/modelc4-38/assets\n",
      "873/873 [==============================] - 3s 4ms/sample - loss: 0.2367 - accuracy: 0.9439 - val_loss: 0.5570 - val_accuracy: 0.8878\n",
      "Epoch 39/200\n",
      "830/873 [===========================>..] - ETA: 0s - loss: 0.6922 - accuracy: 0.8024INFO:tensorflow:Assets written to: model_backups/kanji/modelc4-39/assets\n",
      "873/873 [==============================] - 3s 4ms/sample - loss: 0.7006 - accuracy: 0.8007 - val_loss: 1.5445 - val_accuracy: 0.4898\n",
      "Epoch 40/200\n",
      "870/873 [============================>.] - ETA: 0s - loss: 0.5854 - accuracy: 0.8299INFO:tensorflow:Assets written to: model_backups/kanji/modelc4-40/assets\n",
      "873/873 [==============================] - 3s 4ms/sample - loss: 0.5843 - accuracy: 0.8305 - val_loss: 0.5073 - val_accuracy: 0.8980\n"
     ]
    }
   ],
   "source": [
    "backups = ModelCheckpoint(\"model_backups/kanji/modelc4-{epoch:02d}\", monitor=\"val_loss\")\n",
    "stopping = EarlyStopping(monitor=\"val_accuracy\", min_delta=0, patience=8, restore_best_weights=True)\n",
    "\n",
    "resultsc4 = modelc4.fit(X_train, y_train, epochs=200, batch_size=5, validation_data=(X_val, y_val), class_weight=class_weights, callbacks=[backups, stopping])"
   ]
  },
  {
   "cell_type": "code",
   "execution_count": 33,
   "metadata": {},
   "outputs": [
    {
     "name": "stdout",
     "output_type": "stream",
     "text": [
      "Accuracy: 0.9176954732510288\n",
      "Balanced Accuracy: 0.9166313932980596\n",
      "CPU times: user 67.6 ms, sys: 20.9 ms, total: 88.5 ms\n",
      "Wall time: 61.2 ms\n"
     ]
    },
    {
     "data": {
      "text/plain": [
       "(0.9176954732510288, 0.9166313932980596)"
      ]
     },
     "execution_count": 33,
     "metadata": {},
     "output_type": "execute_result"
    }
   ],
   "source": [
    "%%time\n",
    "image_class_evaluation(modelc3, X_test, y_test)"
   ]
  },
  {
   "cell_type": "markdown",
   "metadata": {},
   "source": [
    "### CNN Full test"
   ]
  },
  {
   "cell_type": "code",
   "execution_count": 31,
   "metadata": {},
   "outputs": [],
   "source": [
    "train_generator = ImageDataGenerator(rescale=1./255,\n",
    "                                     rotation_range=4,\n",
    "                                   width_shift_range=0.1, \n",
    "                                   height_shift_range=0.1, \n",
    "                                   shear_range=0.3, \n",
    "                                   zoom_range=0.1, \n",
    "                                   horizontal_flip=False)\n",
    "test_generator = ImageDataGenerator(rescale=1./255)"
   ]
  },
  {
   "cell_type": "code",
   "execution_count": 32,
   "metadata": {},
   "outputs": [
    {
     "name": "stdout",
     "output_type": "stream",
     "text": [
      "Found 1519 images belonging to 108 classes.\n",
      "Found 445 images belonging to 108 classes.\n",
      "Found 278 images belonging to 108 classes.\n"
     ]
    }
   ],
   "source": [
    "X_train_generator = train_generator.flow_from_directory(rendered_split_paths[\"train\"], target_size=(32, 32), color_mode='grayscale', seed=SEED, batch_size = 32)\n",
    "X_val_generator = test_generator.flow_from_directory(rendered_split_paths[\"val\"], target_size=(32, 32), color_mode='grayscale', seed=SEED, batch_size = 32)\n",
    "X_test_generator = test_generator.flow_from_directory(rendered_split_paths[\"test\"], target_size=(32, 32), color_mode='grayscale', seed=SEED, batch_size = 32)"
   ]
  },
  {
   "cell_type": "code",
   "execution_count": 33,
   "metadata": {},
   "outputs": [
    {
     "name": "stdout",
     "output_type": "stream",
     "text": [
      "Model: \"sequential_5\"\n",
      "_________________________________________________________________\n",
      "Layer (type)                 Output Shape              Param #   \n",
      "=================================================================\n",
      "conv2d_24 (Conv2D)           (None, 32, 32, 32)        320       \n",
      "_________________________________________________________________\n",
      "conv2d_25 (Conv2D)           (None, 32, 32, 32)        9248      \n",
      "_________________________________________________________________\n",
      "max_pooling2d_12 (MaxPooling (None, 16, 16, 32)        0         \n",
      "_________________________________________________________________\n",
      "conv2d_26 (Conv2D)           (None, 16, 16, 64)        18496     \n",
      "_________________________________________________________________\n",
      "conv2d_27 (Conv2D)           (None, 16, 16, 64)        36928     \n",
      "_________________________________________________________________\n",
      "max_pooling2d_13 (MaxPooling (None, 8, 8, 64)          0         \n",
      "_________________________________________________________________\n",
      "conv2d_28 (Conv2D)           (None, 8, 8, 128)         73856     \n",
      "_________________________________________________________________\n",
      "conv2d_29 (Conv2D)           (None, 8, 8, 128)         147584    \n",
      "_________________________________________________________________\n",
      "max_pooling2d_14 (MaxPooling (None, 4, 4, 128)         0         \n",
      "_________________________________________________________________\n",
      "flatten_4 (Flatten)          (None, 2048)              0         \n",
      "_________________________________________________________________\n",
      "dense_10 (Dense)             (None, 46)                94254     \n",
      "_________________________________________________________________\n",
      "dense_11 (Dense)             (None, 108)               5076      \n",
      "=================================================================\n",
      "Total params: 385,762\n",
      "Trainable params: 385,762\n",
      "Non-trainable params: 0\n",
      "_________________________________________________________________\n"
     ]
    }
   ],
   "source": [
    "layers = [Conv2D(32, (3, 3), activation='relu', padding=\"same\", input_shape=(32 ,32,  1)),\n",
    "          Conv2D(32, (3, 3), activation='relu', padding=\"same\"),\n",
    "          MaxPooling2D((2, 2)),\n",
    "          Conv2D(64, (3, 3), activation='relu', padding=\"same\"),\n",
    "          Conv2D(64, (3, 3), activation='relu', padding=\"same\"),\n",
    "          MaxPooling2D((2, 2)),\n",
    "          Conv2D(128, (3, 3), activation='relu', padding=\"same\"),\n",
    "          Conv2D(128, (3, 3), activation='relu', padding=\"same\"),\n",
    "          MaxPooling2D((2, 2)),\n",
    "          Flatten(),\n",
    "          Dense(46, \"relu\"),\n",
    "          Dense(108, activation='softmax')\n",
    "         ]\n",
    "compile_kwargs = {\"loss\":\"categorical_crossentropy\", \"optimizer\":Adam(learning_rate=0.0001), \"metrics\":['accuracy']}\n",
    "modelc5 = generate_keras_model(Sequential(), layers, compile_kwargs)"
   ]
  },
  {
   "cell_type": "code",
   "execution_count": 36,
   "metadata": {},
   "outputs": [
    {
     "name": "stdout",
     "output_type": "stream",
     "text": [
      "WARNING:tensorflow:sample_weight modes were coerced from\n",
      "  ...\n",
      "    to  \n",
      "  ['...']\n",
      "WARNING:tensorflow:sample_weight modes were coerced from\n",
      "  ...\n",
      "    to  \n",
      "  ['...']\n",
      "Train for 47 steps, validate for 13 steps\n",
      "Epoch 1/200\n",
      "43/47 [==========================>...] - ETA: 0s - loss: 0.6656 - accuracy: 0.8035INFO:tensorflow:Assets written to: model_backups/choubenkyo/modelc5-01/assets\n",
      "47/47 [==============================] - 1s 29ms/step - loss: 0.6694 - accuracy: 0.8016 - val_loss: 0.5793 - val_accuracy: 0.8173\n",
      "Epoch 2/200\n",
      "45/47 [===========================>..] - ETA: 0s - loss: 0.6272 - accuracy: 0.8011INFO:tensorflow:Assets written to: model_backups/choubenkyo/modelc5-02/assets\n",
      "47/47 [==============================] - 1s 27ms/step - loss: 0.6216 - accuracy: 0.8030 - val_loss: 0.5157 - val_accuracy: 0.8245\n",
      "Epoch 3/200\n",
      "44/47 [===========================>..] - ETA: 0s - loss: 0.6362 - accuracy: 0.8052INFO:tensorflow:Assets written to: model_backups/choubenkyo/modelc5-03/assets\n",
      "47/47 [==============================] - 1s 27ms/step - loss: 0.6391 - accuracy: 0.8063 - val_loss: 0.5165 - val_accuracy: 0.8269\n",
      "Epoch 4/200\n",
      "43/47 [==========================>...] - ETA: 0s - loss: 0.6303 - accuracy: 0.8028INFO:tensorflow:Assets written to: model_backups/choubenkyo/modelc5-04/assets\n",
      "47/47 [==============================] - 1s 27ms/step - loss: 0.6281 - accuracy: 0.8036 - val_loss: 0.5816 - val_accuracy: 0.8173\n",
      "Epoch 5/200\n",
      "43/47 [==========================>...] - ETA: 0s - loss: 0.5755 - accuracy: 0.8153INFO:tensorflow:Assets written to: model_backups/choubenkyo/modelc5-05/assets\n",
      "47/47 [==============================] - 1s 27ms/step - loss: 0.5639 - accuracy: 0.8191 - val_loss: 0.5360 - val_accuracy: 0.8053\n",
      "Epoch 6/200\n",
      "43/47 [==========================>...] - ETA: 0s - loss: 0.5685 - accuracy: 0.8205INFO:tensorflow:Assets written to: model_backups/choubenkyo/modelc5-06/assets\n",
      "47/47 [==============================] - 1s 30ms/step - loss: 0.5792 - accuracy: 0.8151 - val_loss: 0.5218 - val_accuracy: 0.8269\n",
      "Epoch 7/200\n",
      "44/47 [===========================>..] - ETA: 0s - loss: 0.5547 - accuracy: 0.8239INFO:tensorflow:Assets written to: model_backups/choubenkyo/modelc5-07/assets\n",
      "47/47 [==============================] - 1s 27ms/step - loss: 0.5500 - accuracy: 0.8252 - val_loss: 0.4702 - val_accuracy: 0.8365\n",
      "Epoch 8/200\n",
      "42/47 [=========================>....] - ETA: 0s - loss: 0.5095 - accuracy: 0.8297INFO:tensorflow:Assets written to: model_backups/choubenkyo/modelc5-08/assets\n",
      "47/47 [==============================] - 1s 27ms/step - loss: 0.5112 - accuracy: 0.8325 - val_loss: 0.4893 - val_accuracy: 0.8510\n",
      "Epoch 9/200\n",
      "44/47 [===========================>..] - ETA: 0s - loss: 0.5150 - accuracy: 0.8325INFO:tensorflow:Assets written to: model_backups/choubenkyo/modelc5-09/assets\n",
      "47/47 [==============================] - 1s 27ms/step - loss: 0.5024 - accuracy: 0.8346 - val_loss: 0.4477 - val_accuracy: 0.8558\n",
      "Epoch 10/200\n",
      "46/47 [============================>.] - ETA: 0s - loss: 0.4568 - accuracy: 0.8454INFO:tensorflow:Assets written to: model_backups/choubenkyo/modelc5-10/assets\n",
      "47/47 [==============================] - 1s 29ms/step - loss: 0.4597 - accuracy: 0.8447 - val_loss: 0.4430 - val_accuracy: 0.8630\n",
      "Epoch 11/200\n",
      "46/47 [============================>.] - ETA: 0s - loss: 0.4539 - accuracy: 0.8488INFO:tensorflow:Assets written to: model_backups/choubenkyo/modelc5-11/assets\n",
      "47/47 [==============================] - 1s 27ms/step - loss: 0.4536 - accuracy: 0.8500 - val_loss: 0.4407 - val_accuracy: 0.8630\n",
      "Epoch 12/200\n",
      "46/47 [============================>.] - ETA: 0s - loss: 0.4390 - accuracy: 0.8619INFO:tensorflow:Assets written to: model_backups/choubenkyo/modelc5-12/assets\n",
      "47/47 [==============================] - 1s 28ms/step - loss: 0.4337 - accuracy: 0.8635 - val_loss: 0.4779 - val_accuracy: 0.8606\n",
      "Epoch 13/200\n",
      "43/47 [==========================>...] - ETA: 0s - loss: 0.3933 - accuracy: 0.8823INFO:tensorflow:Assets written to: model_backups/choubenkyo/modelc5-13/assets\n",
      "47/47 [==============================] - 1s 27ms/step - loss: 0.4044 - accuracy: 0.8763 - val_loss: 0.4311 - val_accuracy: 0.8726\n",
      "Epoch 14/200\n",
      "44/47 [===========================>..] - ETA: 0s - loss: 0.4405 - accuracy: 0.8629INFO:tensorflow:Assets written to: model_backups/choubenkyo/modelc5-14/assets\n",
      "47/47 [==============================] - 1s 30ms/step - loss: 0.4363 - accuracy: 0.8642 - val_loss: 0.4248 - val_accuracy: 0.8750\n",
      "Epoch 15/200\n",
      "42/47 [=========================>....] - ETA: 0s - loss: 0.4242 - accuracy: 0.8621INFO:tensorflow:Assets written to: model_backups/choubenkyo/modelc5-15/assets\n",
      "47/47 [==============================] - 1s 27ms/step - loss: 0.4190 - accuracy: 0.8662 - val_loss: 0.4238 - val_accuracy: 0.8678\n",
      "Epoch 16/200\n",
      "46/47 [============================>.] - ETA: 0s - loss: 0.4236 - accuracy: 0.8675INFO:tensorflow:Assets written to: model_backups/choubenkyo/modelc5-16/assets\n",
      "47/47 [==============================] - 1s 27ms/step - loss: 0.4263 - accuracy: 0.8668 - val_loss: 0.4452 - val_accuracy: 0.8534\n",
      "Epoch 17/200\n",
      "45/47 [===========================>..] - ETA: 0s - loss: 0.3897 - accuracy: 0.8707INFO:tensorflow:Assets written to: model_backups/choubenkyo/modelc5-17/assets\n",
      "47/47 [==============================] - 1s 27ms/step - loss: 0.3923 - accuracy: 0.8682 - val_loss: 0.4114 - val_accuracy: 0.8894\n",
      "Epoch 18/200\n",
      "43/47 [==========================>...] - ETA: 0s - loss: 0.3559 - accuracy: 0.8808INFO:tensorflow:Assets written to: model_backups/choubenkyo/modelc5-18/assets\n",
      "47/47 [==============================] - 1s 28ms/step - loss: 0.3575 - accuracy: 0.8796 - val_loss: 0.3819 - val_accuracy: 0.8750\n",
      "Epoch 19/200\n",
      "44/47 [===========================>..] - ETA: 0s - loss: 0.3624 - accuracy: 0.8800INFO:tensorflow:Assets written to: model_backups/choubenkyo/modelc5-19/assets\n",
      "47/47 [==============================] - 1s 29ms/step - loss: 0.3602 - accuracy: 0.8823 - val_loss: 0.3604 - val_accuracy: 0.8894\n",
      "Epoch 20/200\n",
      "46/47 [============================>.] - ETA: 0s - loss: 0.3346 - accuracy: 0.8866INFO:tensorflow:Assets written to: model_backups/choubenkyo/modelc5-20/assets\n",
      "47/47 [==============================] - 1s 28ms/step - loss: 0.3409 - accuracy: 0.8857 - val_loss: 0.4355 - val_accuracy: 0.8606\n",
      "Epoch 21/200\n",
      "44/47 [===========================>..] - ETA: 0s - loss: 0.3117 - accuracy: 0.8986INFO:tensorflow:Assets written to: model_backups/choubenkyo/modelc5-21/assets\n",
      "47/47 [==============================] - 1s 27ms/step - loss: 0.3162 - accuracy: 0.8964 - val_loss: 0.4069 - val_accuracy: 0.8822\n",
      "Epoch 22/200\n",
      "45/47 [===========================>..] - ETA: 0s - loss: 0.3426 - accuracy: 0.8812INFO:tensorflow:Assets written to: model_backups/choubenkyo/modelc5-22/assets\n",
      "47/47 [==============================] - 1s 27ms/step - loss: 0.3384 - accuracy: 0.8830 - val_loss: 0.3538 - val_accuracy: 0.8894\n"
     ]
    }
   ],
   "source": [
    "backups = ModelCheckpoint(\"model_backups/choubenkyo/modelc5-{epoch:02d}\", monitor=\"val_loss\")\n",
    "stopping = EarlyStopping(monitor=\"val_accuracy\", min_delta=0, patience=5, restore_best_weights=True)\n",
    "\n",
    "resultsc5 = modelc5.fit(X_train_generator, epochs=200, steps_per_epoch=47, validation_data=X_val_generator, validation_steps=13, callbacks=[backups, stopping])"
   ]
  },
  {
   "cell_type": "code",
   "execution_count": 37,
   "metadata": {},
   "outputs": [
    {
     "name": "stdout",
     "output_type": "stream",
     "text": [
      "Accuracy: 0.8125\n",
      "Balanced Accuracy: 0.8214285714285714\n",
      "CPU times: user 62.1 ms, sys: 2.04 ms, total: 64.2 ms\n",
      "Wall time: 63.6 ms\n"
     ]
    },
    {
     "name": "stderr",
     "output_type": "stream",
     "text": [
      "/opt/conda/lib/python3.7/site-packages/sklearn/metrics/_classification.py:1814: UserWarning: y_pred contains classes not in y_true\n",
      "  warnings.warn('y_pred contains classes not in y_true')\n"
     ]
    },
    {
     "data": {
      "text/plain": [
       "(0.8125, 0.8214285714285714)"
      ]
     },
     "execution_count": 37,
     "metadata": {},
     "output_type": "execute_result"
    }
   ],
   "source": [
    "%%time\n",
    "test_batch = next(X_test_generator)\n",
    "image_class_evaluation(modelc5, test_batch[0], test_batch[1])"
   ]
  },
  {
   "cell_type": "markdown",
   "metadata": {},
   "source": [
    "### CNN Transfer full test"
   ]
  },
  {
   "cell_type": "code",
   "execution_count": 48,
   "metadata": {},
   "outputs": [],
   "source": [
    "modelkuzushiji = models.load_model('model_backups/kuzushiji/model9-21')"
   ]
  },
  {
   "cell_type": "code",
   "execution_count": 49,
   "metadata": {},
   "outputs": [
    {
     "name": "stdout",
     "output_type": "stream",
     "text": [
      "Model: \"sequential_9\"\n",
      "_________________________________________________________________\n",
      "Layer (type)                 Output Shape              Param #   \n",
      "=================================================================\n",
      "conv2d_12 (Conv2D)           (None, 32, 32, 32)        320       \n",
      "_________________________________________________________________\n",
      "conv2d_13 (Conv2D)           (None, 32, 32, 32)        9248      \n",
      "_________________________________________________________________\n",
      "max_pooling2d_6 (MaxPooling2 (None, 16, 16, 32)        0         \n",
      "_________________________________________________________________\n",
      "conv2d_14 (Conv2D)           (None, 16, 16, 64)        18496     \n",
      "_________________________________________________________________\n",
      "conv2d_15 (Conv2D)           (None, 16, 16, 64)        36928     \n",
      "_________________________________________________________________\n",
      "max_pooling2d_7 (MaxPooling2 (None, 8, 8, 64)          0         \n",
      "_________________________________________________________________\n",
      "conv2d_16 (Conv2D)           (None, 8, 8, 128)         73856     \n",
      "_________________________________________________________________\n",
      "conv2d_17 (Conv2D)           (None, 8, 8, 128)         147584    \n",
      "_________________________________________________________________\n",
      "max_pooling2d_8 (MaxPooling2 (None, 4, 4, 128)         0         \n",
      "_________________________________________________________________\n",
      "flatten_2 (Flatten)          (None, 2048)              0         \n",
      "_________________________________________________________________\n",
      "dense_18 (Dense)             (None, 46)                94254     \n",
      "_________________________________________________________________\n",
      "dense_19 (Dense)             (None, 108)               5076      \n",
      "=================================================================\n",
      "Total params: 385,762\n",
      "Trainable params: 320,770\n",
      "Non-trainable params: 64,992\n",
      "_________________________________________________________________\n"
     ]
    }
   ],
   "source": [
    "layers = modelkuzushiji.layers[:-2] + [Dense(46, \"relu\"), Dense(108, activation='softmax')]\n",
    "compile_kwargs = {\"loss\":\"categorical_crossentropy\", \"optimizer\":Adam(learning_rate=0.00005), \"metrics\":['accuracy']}\n",
    "modelc6 = generate_keras_model(Sequential(), layers, compile_kwargs)"
   ]
  },
  {
   "cell_type": "code",
   "execution_count": 50,
   "metadata": {},
   "outputs": [],
   "source": [
    "for layer in modelc6.layers[0:3]:\n",
    "    layer.trainable = False"
   ]
  },
  {
   "cell_type": "code",
   "execution_count": 51,
   "metadata": {},
   "outputs": [
    {
     "name": "stdout",
     "output_type": "stream",
     "text": [
      "WARNING:tensorflow:sample_weight modes were coerced from\n",
      "  ...\n",
      "    to  \n",
      "  ['...']\n",
      "WARNING:tensorflow:sample_weight modes were coerced from\n",
      "  ...\n",
      "    to  \n",
      "  ['...']\n",
      "Train for 47 steps, validate for 13 steps\n",
      "Epoch 1/200\n",
      "46/47 [============================>.] - ETA: 0s - loss: 5.4112 - accuracy: 0.0096INFO:tensorflow:Assets written to: model_backups/choubenkyo/modelc6-01/assets\n",
      "47/47 [==============================] - 2s 34ms/step - loss: 5.3954 - accuracy: 0.0101 - val_loss: 4.7671 - val_accuracy: 0.0168\n",
      "Epoch 2/200\n",
      "44/47 [===========================>..] - ETA: 0s - loss: 4.6527 - accuracy: 0.0173INFO:tensorflow:Assets written to: model_backups/choubenkyo/modelc6-02/assets\n",
      "47/47 [==============================] - 1s 24ms/step - loss: 4.6444 - accuracy: 0.0182 - val_loss: 4.3785 - val_accuracy: 0.0697\n",
      "Epoch 3/200\n",
      "45/47 [===========================>..] - ETA: 0s - loss: 4.3409 - accuracy: 0.0534INFO:tensorflow:Assets written to: model_backups/choubenkyo/modelc6-03/assets\n",
      "47/47 [==============================] - 1s 24ms/step - loss: 4.3376 - accuracy: 0.0558 - val_loss: 4.0984 - val_accuracy: 0.0938\n",
      "Epoch 4/200\n",
      "45/47 [===========================>..] - ETA: 0s - loss: 4.0971 - accuracy: 0.0878INFO:tensorflow:Assets written to: model_backups/choubenkyo/modelc6-04/assets\n",
      "47/47 [==============================] - 1s 24ms/step - loss: 4.0918 - accuracy: 0.0854 - val_loss: 3.7820 - val_accuracy: 0.1490\n",
      "Epoch 5/200\n",
      "45/47 [===========================>..] - ETA: 0s - loss: 3.7618 - accuracy: 0.1581INFO:tensorflow:Assets written to: model_backups/choubenkyo/modelc6-05/assets\n",
      "47/47 [==============================] - 1s 24ms/step - loss: 3.7494 - accuracy: 0.1621 - val_loss: 3.4224 - val_accuracy: 0.2284\n",
      "Epoch 6/200\n",
      "45/47 [===========================>..] - ETA: 0s - loss: 3.4498 - accuracy: 0.2167INFO:tensorflow:Assets written to: model_backups/choubenkyo/modelc6-06/assets\n",
      "47/47 [==============================] - 1s 24ms/step - loss: 3.4530 - accuracy: 0.2161 - val_loss: 3.0547 - val_accuracy: 0.3053\n",
      "Epoch 7/200\n",
      "46/47 [============================>.] - ETA: 0s - loss: 3.1129 - accuracy: 0.2887INFO:tensorflow:Assets written to: model_backups/choubenkyo/modelc6-07/assets\n",
      "47/47 [==============================] - 1s 24ms/step - loss: 3.1112 - accuracy: 0.2912 - val_loss: 2.7187 - val_accuracy: 0.3606\n",
      "Epoch 8/200\n",
      "46/47 [============================>.] - ETA: 0s - loss: 2.7925 - accuracy: 0.3540INFO:tensorflow:Assets written to: model_backups/choubenkyo/modelc6-08/assets\n",
      "47/47 [==============================] - 1s 24ms/step - loss: 2.7862 - accuracy: 0.3557 - val_loss: 2.4082 - val_accuracy: 0.4327\n",
      "Epoch 9/200\n",
      "46/47 [============================>.] - ETA: 0s - loss: 2.5256 - accuracy: 0.4082INFO:tensorflow:Assets written to: model_backups/choubenkyo/modelc6-09/assets\n",
      "47/47 [==============================] - 1s 26ms/step - loss: 2.5209 - accuracy: 0.4082 - val_loss: 2.1302 - val_accuracy: 0.4928\n",
      "Epoch 10/200\n",
      "45/47 [===========================>..] - ETA: 0s - loss: 2.2443 - accuracy: 0.4673INFO:tensorflow:Assets written to: model_backups/choubenkyo/modelc6-10/assets\n",
      "47/47 [==============================] - 1s 24ms/step - loss: 2.2309 - accuracy: 0.4701 - val_loss: 1.8837 - val_accuracy: 0.5721\n",
      "Epoch 11/200\n",
      "45/47 [===========================>..] - ETA: 0s - loss: 1.9641 - accuracy: 0.5327INFO:tensorflow:Assets written to: model_backups/choubenkyo/modelc6-11/assets\n",
      "47/47 [==============================] - 1s 24ms/step - loss: 1.9719 - accuracy: 0.5326 - val_loss: 1.6524 - val_accuracy: 0.5986\n",
      "Epoch 12/200\n",
      "46/47 [============================>.] - ETA: 0s - loss: 1.7173 - accuracy: 0.5890INFO:tensorflow:Assets written to: model_backups/choubenkyo/modelc6-12/assets\n",
      "47/47 [==============================] - 1s 24ms/step - loss: 1.7127 - accuracy: 0.5891 - val_loss: 1.4697 - val_accuracy: 0.6538\n",
      "Epoch 13/200\n",
      "45/47 [===========================>..] - ETA: 0s - loss: 1.5188 - accuracy: 0.6261INFO:tensorflow:Assets written to: model_backups/choubenkyo/modelc6-13/assets\n",
      "47/47 [==============================] - 1s 25ms/step - loss: 1.5222 - accuracy: 0.6241 - val_loss: 1.3107 - val_accuracy: 0.6923\n",
      "Epoch 14/200\n",
      "42/47 [=========================>....] - ETA: 0s - loss: 1.3489 - accuracy: 0.6745INFO:tensorflow:Assets written to: model_backups/choubenkyo/modelc6-14/assets\n",
      "47/47 [==============================] - 1s 24ms/step - loss: 1.3529 - accuracy: 0.6711 - val_loss: 1.1605 - val_accuracy: 0.7188\n",
      "Epoch 15/200\n",
      "44/47 [===========================>..] - ETA: 0s - loss: 1.2037 - accuracy: 0.7103INFO:tensorflow:Assets written to: model_backups/choubenkyo/modelc6-15/assets\n",
      "47/47 [==============================] - 1s 24ms/step - loss: 1.2028 - accuracy: 0.7095 - val_loss: 1.0545 - val_accuracy: 0.7452\n",
      "Epoch 16/200\n",
      "45/47 [===========================>..] - ETA: 0s - loss: 1.0799 - accuracy: 0.7252INFO:tensorflow:Assets written to: model_backups/choubenkyo/modelc6-16/assets\n",
      "47/47 [==============================] - 1s 24ms/step - loss: 1.0846 - accuracy: 0.7229 - val_loss: 0.9598 - val_accuracy: 0.7572\n",
      "Epoch 17/200\n",
      "45/47 [===========================>..] - ETA: 0s - loss: 1.0013 - accuracy: 0.7259INFO:tensorflow:Assets written to: model_backups/choubenkyo/modelc6-17/assets\n",
      "47/47 [==============================] - 1s 26ms/step - loss: 0.9988 - accuracy: 0.7270 - val_loss: 0.8582 - val_accuracy: 0.7596\n",
      "Epoch 18/200\n",
      "46/47 [============================>.] - ETA: 0s - loss: 0.8911 - accuracy: 0.7684INFO:tensorflow:Assets written to: model_backups/choubenkyo/modelc6-18/assets\n",
      "47/47 [==============================] - 1s 24ms/step - loss: 0.8865 - accuracy: 0.7693 - val_loss: 0.7700 - val_accuracy: 0.7885\n",
      "Epoch 19/200\n",
      "46/47 [============================>.] - ETA: 0s - loss: 0.7939 - accuracy: 0.7812INFO:tensorflow:Assets written to: model_backups/choubenkyo/modelc6-19/assets\n",
      "47/47 [==============================] - 1s 26ms/step - loss: 0.7897 - accuracy: 0.7846 - val_loss: 0.6921 - val_accuracy: 0.7957\n",
      "Epoch 20/200\n",
      "46/47 [============================>.] - ETA: 0s - loss: 0.7150 - accuracy: 0.8041INFO:tensorflow:Assets written to: model_backups/choubenkyo/modelc6-20/assets\n",
      "47/47 [==============================] - 1s 24ms/step - loss: 0.7102 - accuracy: 0.8050 - val_loss: 0.6387 - val_accuracy: 0.7957\n",
      "Epoch 21/200\n",
      "43/47 [==========================>...] - ETA: 0s - loss: 0.6398 - accuracy: 0.8219INFO:tensorflow:Assets written to: model_backups/choubenkyo/modelc6-21/assets\n",
      "47/47 [==============================] - 1s 24ms/step - loss: 0.6493 - accuracy: 0.8204 - val_loss: 0.5789 - val_accuracy: 0.8197\n",
      "Epoch 22/200\n",
      "43/47 [==========================>...] - ETA: 0s - loss: 0.5769 - accuracy: 0.8396INFO:tensorflow:Assets written to: model_backups/choubenkyo/modelc6-22/assets\n",
      "47/47 [==============================] - 1s 24ms/step - loss: 0.5581 - accuracy: 0.8467 - val_loss: 0.5524 - val_accuracy: 0.8269\n",
      "Epoch 23/200\n",
      "44/47 [===========================>..] - ETA: 0s - loss: 0.5382 - accuracy: 0.8483INFO:tensorflow:Assets written to: model_backups/choubenkyo/modelc6-23/assets\n",
      "47/47 [==============================] - 1s 24ms/step - loss: 0.5308 - accuracy: 0.8500 - val_loss: 0.4929 - val_accuracy: 0.8413\n",
      "Epoch 24/200\n",
      "45/47 [===========================>..] - ETA: 0s - loss: 0.5274 - accuracy: 0.8451INFO:tensorflow:Assets written to: model_backups/choubenkyo/modelc6-24/assets\n",
      "47/47 [==============================] - 1s 24ms/step - loss: 0.5294 - accuracy: 0.8457 - val_loss: 0.4479 - val_accuracy: 0.8606\n",
      "Epoch 25/200\n",
      "44/47 [===========================>..] - ETA: 0s - loss: 0.4327 - accuracy: 0.8778INFO:tensorflow:Assets written to: model_backups/choubenkyo/modelc6-25/assets\n",
      "47/47 [==============================] - 1s 24ms/step - loss: 0.4332 - accuracy: 0.8790 - val_loss: 0.4384 - val_accuracy: 0.8582\n",
      "Epoch 26/200\n",
      "45/47 [===========================>..] - ETA: 0s - loss: 0.4174 - accuracy: 0.8791INFO:tensorflow:Assets written to: model_backups/choubenkyo/modelc6-26/assets\n",
      "47/47 [==============================] - 1s 24ms/step - loss: 0.4150 - accuracy: 0.8790 - val_loss: 0.4190 - val_accuracy: 0.8726\n",
      "Epoch 27/200\n",
      "45/47 [===========================>..] - ETA: 0s - loss: 0.4001 - accuracy: 0.8883INFO:tensorflow:Assets written to: model_backups/choubenkyo/modelc6-27/assets\n",
      "47/47 [==============================] - 1s 24ms/step - loss: 0.4011 - accuracy: 0.8863 - val_loss: 0.4144 - val_accuracy: 0.8534\n",
      "Epoch 28/200\n",
      "42/47 [=========================>....] - ETA: 0s - loss: 0.3398 - accuracy: 0.8990INFO:tensorflow:Assets written to: model_backups/choubenkyo/modelc6-28/assets\n",
      "47/47 [==============================] - 1s 24ms/step - loss: 0.3425 - accuracy: 0.8985 - val_loss: 0.3728 - val_accuracy: 0.8774\n",
      "Epoch 29/200\n",
      "42/47 [=========================>....] - ETA: 0s - loss: 0.3732 - accuracy: 0.8877INFO:tensorflow:Assets written to: model_backups/choubenkyo/modelc6-29/assets\n",
      "47/47 [==============================] - 1s 24ms/step - loss: 0.3805 - accuracy: 0.8857 - val_loss: 0.3780 - val_accuracy: 0.8702\n",
      "Epoch 30/200\n",
      "44/47 [===========================>..] - ETA: 0s - loss: 0.3085 - accuracy: 0.9166INFO:tensorflow:Assets written to: model_backups/choubenkyo/modelc6-30/assets\n",
      "47/47 [==============================] - 1s 26ms/step - loss: 0.3025 - accuracy: 0.9186 - val_loss: 0.3635 - val_accuracy: 0.8678\n",
      "Epoch 31/200\n",
      "42/47 [=========================>....] - ETA: 0s - loss: 0.2857 - accuracy: 0.9152INFO:tensorflow:Assets written to: model_backups/choubenkyo/modelc6-31/assets\n",
      "47/47 [==============================] - 1s 24ms/step - loss: 0.2895 - accuracy: 0.9146 - val_loss: 0.3506 - val_accuracy: 0.8726\n",
      "Epoch 32/200\n",
      "44/47 [===========================>..] - ETA: 0s - loss: 0.2896 - accuracy: 0.9101INFO:tensorflow:Assets written to: model_backups/choubenkyo/modelc6-32/assets\n",
      "47/47 [==============================] - 1s 24ms/step - loss: 0.2814 - accuracy: 0.9139 - val_loss: 0.3429 - val_accuracy: 0.8822\n",
      "Epoch 33/200\n",
      "43/47 [==========================>...] - ETA: 0s - loss: 0.2734 - accuracy: 0.9286INFO:tensorflow:Assets written to: model_backups/choubenkyo/modelc6-33/assets\n",
      "47/47 [==============================] - 1s 24ms/step - loss: 0.2739 - accuracy: 0.9274 - val_loss: 0.3173 - val_accuracy: 0.8894\n",
      "Epoch 34/200\n",
      "45/47 [===========================>..] - ETA: 0s - loss: 0.2341 - accuracy: 0.9403INFO:tensorflow:Assets written to: model_backups/choubenkyo/modelc6-34/assets\n",
      "47/47 [==============================] - 1s 24ms/step - loss: 0.2381 - accuracy: 0.9395 - val_loss: 0.3247 - val_accuracy: 0.8870\n",
      "Epoch 35/200\n",
      "46/47 [============================>.] - ETA: 0s - loss: 0.2431 - accuracy: 0.9244INFO:tensorflow:Assets written to: model_backups/choubenkyo/modelc6-35/assets\n",
      "47/47 [==============================] - 1s 24ms/step - loss: 0.2409 - accuracy: 0.9247 - val_loss: 0.3045 - val_accuracy: 0.8846\n",
      "Epoch 36/200\n",
      "44/47 [===========================>..] - ETA: 0s - loss: 0.2404 - accuracy: 0.9238INFO:tensorflow:Assets written to: model_backups/choubenkyo/modelc6-36/assets\n",
      "47/47 [==============================] - 1s 24ms/step - loss: 0.2395 - accuracy: 0.9220 - val_loss: 0.2911 - val_accuracy: 0.8990\n",
      "Epoch 37/200\n",
      "45/47 [===========================>..] - ETA: 0s - loss: 0.2092 - accuracy: 0.9431INFO:tensorflow:Assets written to: model_backups/choubenkyo/modelc6-37/assets\n",
      "47/47 [==============================] - 1s 24ms/step - loss: 0.2102 - accuracy: 0.9435 - val_loss: 0.2890 - val_accuracy: 0.9062\n",
      "Epoch 38/200\n",
      "45/47 [===========================>..] - ETA: 0s - loss: 0.1935 - accuracy: 0.9438INFO:tensorflow:Assets written to: model_backups/choubenkyo/modelc6-38/assets\n",
      "47/47 [==============================] - 1s 24ms/step - loss: 0.1938 - accuracy: 0.9442 - val_loss: 0.2928 - val_accuracy: 0.8894\n",
      "Epoch 39/200\n",
      "44/47 [===========================>..] - ETA: 0s - loss: 0.1919 - accuracy: 0.9432INFO:tensorflow:Assets written to: model_backups/choubenkyo/modelc6-39/assets\n",
      "47/47 [==============================] - 1s 26ms/step - loss: 0.1991 - accuracy: 0.9408 - val_loss: 0.2865 - val_accuracy: 0.9111\n",
      "Epoch 40/200\n",
      "43/47 [==========================>...] - ETA: 0s - loss: 0.1731 - accuracy: 0.9500INFO:tensorflow:Assets written to: model_backups/choubenkyo/modelc6-40/assets\n",
      "47/47 [==============================] - 1s 24ms/step - loss: 0.1768 - accuracy: 0.9489 - val_loss: 0.2901 - val_accuracy: 0.9038\n",
      "Epoch 41/200\n",
      "46/47 [============================>.] - ETA: 0s - loss: 0.1778 - accuracy: 0.9471INFO:tensorflow:Assets written to: model_backups/choubenkyo/modelc6-41/assets\n",
      "47/47 [==============================] - 1s 24ms/step - loss: 0.1769 - accuracy: 0.9469 - val_loss: 0.2564 - val_accuracy: 0.9111\n",
      "Epoch 42/200\n",
      "46/47 [============================>.] - ETA: 0s - loss: 0.1863 - accuracy: 0.9409INFO:tensorflow:Assets written to: model_backups/choubenkyo/modelc6-42/assets\n",
      "47/47 [==============================] - 1s 24ms/step - loss: 0.1834 - accuracy: 0.9422 - val_loss: 0.2603 - val_accuracy: 0.9062\n",
      "Epoch 43/200\n",
      "45/47 [===========================>..] - ETA: 0s - loss: 0.1664 - accuracy: 0.9522INFO:tensorflow:Assets written to: model_backups/choubenkyo/modelc6-43/assets\n",
      "47/47 [==============================] - 1s 24ms/step - loss: 0.1640 - accuracy: 0.9536 - val_loss: 0.2695 - val_accuracy: 0.9062\n",
      "Epoch 44/200\n",
      "45/47 [===========================>..] - ETA: 0s - loss: 0.1678 - accuracy: 0.9480INFO:tensorflow:Assets written to: model_backups/choubenkyo/modelc6-44/assets\n",
      "47/47 [==============================] - 1s 24ms/step - loss: 0.1636 - accuracy: 0.9496 - val_loss: 0.2406 - val_accuracy: 0.9207\n",
      "Epoch 45/200\n",
      "44/47 [===========================>..] - ETA: 0s - loss: 0.1581 - accuracy: 0.9569INFO:tensorflow:Assets written to: model_backups/choubenkyo/modelc6-45/assets\n",
      "47/47 [==============================] - 1s 24ms/step - loss: 0.1583 - accuracy: 0.9563 - val_loss: 0.2394 - val_accuracy: 0.9183\n",
      "Epoch 46/200\n",
      "44/47 [===========================>..] - ETA: 0s - loss: 0.1443 - accuracy: 0.9561INFO:tensorflow:Assets written to: model_backups/choubenkyo/modelc6-46/assets\n",
      "47/47 [==============================] - 1s 24ms/step - loss: 0.1409 - accuracy: 0.9583 - val_loss: 0.2440 - val_accuracy: 0.9207\n",
      "Epoch 47/200\n",
      "44/47 [===========================>..] - ETA: 0s - loss: 0.1266 - accuracy: 0.9655INFO:tensorflow:Assets written to: model_backups/choubenkyo/modelc6-47/assets\n",
      "47/47 [==============================] - 1s 24ms/step - loss: 0.1273 - accuracy: 0.9657 - val_loss: 0.2450 - val_accuracy: 0.9183\n",
      "Epoch 48/200\n",
      "43/47 [==========================>...] - ETA: 0s - loss: 0.1402 - accuracy: 0.9536INFO:tensorflow:Assets written to: model_backups/choubenkyo/modelc6-48/assets\n",
      "47/47 [==============================] - 1s 24ms/step - loss: 0.1371 - accuracy: 0.9549 - val_loss: 0.2474 - val_accuracy: 0.9159\n",
      "Epoch 49/200\n",
      "44/47 [===========================>..] - ETA: 0s - loss: 0.1306 - accuracy: 0.9583INFO:tensorflow:Assets written to: model_backups/choubenkyo/modelc6-49/assets\n",
      "47/47 [==============================] - 1s 27ms/step - loss: 0.1350 - accuracy: 0.9583 - val_loss: 0.2579 - val_accuracy: 0.9159\n"
     ]
    }
   ],
   "source": [
    "backups = ModelCheckpoint(\"model_backups/choubenkyo/modelc6-{epoch:02d}\", monitor=\"val_loss\")\n",
    "stopping = EarlyStopping(monitor=\"val_accuracy\", min_delta=0, patience=5, restore_best_weights=True)\n",
    "\n",
    "resultsc6 = modelc6.fit(X_train_generator, epochs=200, steps_per_epoch=47, validation_data=X_val_generator, validation_steps=13, callbacks=[backups, stopping])"
   ]
  },
  {
   "cell_type": "code",
   "execution_count": 52,
   "metadata": {},
   "outputs": [
    {
     "name": "stdout",
     "output_type": "stream",
     "text": [
      "Accuracy: 0.90625\n",
      "Balanced Accuracy: 0.8928571428571429\n",
      "CPU times: user 74.1 ms, sys: 8.23 ms, total: 82.3 ms\n",
      "Wall time: 80.1 ms\n"
     ]
    },
    {
     "name": "stderr",
     "output_type": "stream",
     "text": [
      "/opt/conda/lib/python3.7/site-packages/sklearn/metrics/_classification.py:1814: UserWarning: y_pred contains classes not in y_true\n",
      "  warnings.warn('y_pred contains classes not in y_true')\n"
     ]
    },
    {
     "data": {
      "text/plain": [
       "(0.90625, 0.8928571428571429)"
      ]
     },
     "execution_count": 52,
     "metadata": {},
     "output_type": "execute_result"
    }
   ],
   "source": [
    "%%time\n",
    "test_batch = next(X_test_generator)\n",
    "image_class_evaluation(modelc6, test_batch[0], test_batch[1])"
   ]
  },
  {
   "cell_type": "markdown",
   "metadata": {},
   "source": [
    "### Full LSTM"
   ]
  },
  {
   "cell_type": "code",
   "execution_count": 53,
   "metadata": {},
   "outputs": [],
   "source": [
    "#Creating a dictionary that will be used to map the character id to an index.\n",
    "class_list_label_dict = {key:value for key, value in class_list.reset_index()[[\"char_id\",\"index\"]].to_numpy()}\n",
    "\n",
    "#Mapping to the index so that each label is an integer.\n",
    "choubenkyo_labels = choubenkyo_raw_labels.map(class_list_label_dict)"
   ]
  },
  {
   "cell_type": "code",
   "execution_count": 62,
   "metadata": {},
   "outputs": [
    {
     "name": "stdout",
     "output_type": "stream",
     "text": [
      "Model: \"sequential_12\"\n",
      "_________________________________________________________________\n",
      "Layer (type)                 Output Shape              Param #   \n",
      "=================================================================\n",
      "lstm_2 (LSTM)                (None, 200)               224800    \n",
      "_________________________________________________________________\n",
      "dropout_2 (Dropout)          (None, 200)               0         \n",
      "_________________________________________________________________\n",
      "dense_24 (Dense)             (None, 48)                9648      \n",
      "_________________________________________________________________\n",
      "dense_25 (Dense)             (None, 108)               5292      \n",
      "=================================================================\n",
      "Total params: 239,740\n",
      "Trainable params: 239,740\n",
      "Non-trainable params: 0\n",
      "_________________________________________________________________\n"
     ]
    }
   ],
   "source": [
    "layers = [LSTM(200, input_shape=(120,max_features)),\n",
    "          Dropout(0.1),\n",
    "          Dense(48, activation='relu'),\n",
    "          Dense(108, activation='softmax'),\n",
    "         ]\n",
    "compile_kwargs = {\"loss\":\"categorical_crossentropy\", \"optimizer\":Adam(learning_rate=0.0001), \"metrics\":['accuracy']}\n",
    "modelc7 = generate_keras_model(Sequential(), layers, compile_kwargs)"
   ]
  },
  {
   "cell_type": "code",
   "execution_count": 63,
   "metadata": {},
   "outputs": [
    {
     "name": "stdout",
     "output_type": "stream",
     "text": [
      "Train on 2037 samples, validate on 227 samples\n",
      "Epoch 1/200\n",
      "2010/2037 [============================>.] - ETA: 0s - loss: 4.6813 - accuracy: 0.0104INFO:tensorflow:Assets written to: model_backups/kanji/modelc7-01/assets\n",
      "2037/2037 [==============================] - 6s 3ms/sample - loss: 4.6812 - accuracy: 0.0103 - val_loss: 4.6715 - val_accuracy: 0.0220\n",
      "Epoch 2/200\n",
      "2005/2037 [============================>.] - ETA: 0s - loss: 4.6615 - accuracy: 0.0130INFO:tensorflow:Assets written to: model_backups/kanji/modelc7-02/assets\n",
      "2037/2037 [==============================] - 4s 2ms/sample - loss: 4.6605 - accuracy: 0.0128 - val_loss: 4.6420 - val_accuracy: 0.0088\n",
      "Epoch 3/200\n",
      "1995/2037 [============================>.] - ETA: 0s - loss: 4.6110 - accuracy: 0.0256INFO:tensorflow:Assets written to: model_backups/kanji/modelc7-03/assets\n",
      "2037/2037 [==============================] - 5s 2ms/sample - loss: 4.6154 - accuracy: 0.0255 - val_loss: 4.7641 - val_accuracy: 0.0176\n",
      "Epoch 4/200\n",
      "2010/2037 [============================>.] - ETA: 0s - loss: 4.4739 - accuracy: 0.0368INFO:tensorflow:Assets written to: model_backups/kanji/modelc7-04/assets\n",
      "2037/2037 [==============================] - 4s 2ms/sample - loss: 4.4751 - accuracy: 0.0363 - val_loss: 4.3879 - val_accuracy: 0.0617\n",
      "Epoch 5/200\n",
      "1990/2037 [============================>.] - ETA: 0s - loss: 4.2196 - accuracy: 0.0704INFO:tensorflow:Assets written to: model_backups/kanji/modelc7-05/assets\n",
      "2037/2037 [==============================] - 5s 2ms/sample - loss: 4.2161 - accuracy: 0.0707 - val_loss: 4.0162 - val_accuracy: 0.0793\n",
      "Epoch 6/200\n",
      "2030/2037 [============================>.] - ETA: 0s - loss: 3.8264 - accuracy: 0.1143INFO:tensorflow:Assets written to: model_backups/kanji/modelc7-06/assets\n",
      "2037/2037 [==============================] - 5s 2ms/sample - loss: 3.8257 - accuracy: 0.1149 - val_loss: 3.5696 - val_accuracy: 0.1189\n",
      "Epoch 7/200\n",
      "1995/2037 [============================>.] - ETA: 0s - loss: 3.4203 - accuracy: 0.1684INFO:tensorflow:Assets written to: model_backups/kanji/modelc7-07/assets\n",
      "2037/2037 [==============================] - 5s 2ms/sample - loss: 3.4123 - accuracy: 0.1708 - val_loss: 3.2679 - val_accuracy: 0.1938\n",
      "Epoch 8/200\n",
      "2000/2037 [============================>.] - ETA: 0s - loss: 2.9570 - accuracy: 0.2390INFO:tensorflow:Assets written to: model_backups/kanji/modelc7-08/assets\n",
      "2037/2037 [==============================] - 4s 2ms/sample - loss: 2.9492 - accuracy: 0.2440 - val_loss: 3.1088 - val_accuracy: 0.1806\n",
      "Epoch 9/200\n",
      "2010/2037 [============================>.] - ETA: 0s - loss: 2.6193 - accuracy: 0.3065INFO:tensorflow:Assets written to: model_backups/kanji/modelc7-09/assets\n",
      "2037/2037 [==============================] - 5s 2ms/sample - loss: 2.6184 - accuracy: 0.3078 - val_loss: 2.4785 - val_accuracy: 0.3216\n",
      "Epoch 10/200\n",
      "2015/2037 [============================>.] - ETA: 0s - loss: 2.2861 - accuracy: 0.3767INFO:tensorflow:Assets written to: model_backups/kanji/modelc7-10/assets\n",
      "2037/2037 [==============================] - 5s 2ms/sample - loss: 2.2839 - accuracy: 0.3765 - val_loss: 2.1444 - val_accuracy: 0.4493\n",
      "Epoch 11/200\n",
      "2010/2037 [============================>.] - ETA: 0s - loss: 2.1230 - accuracy: 0.4080INFO:tensorflow:Assets written to: model_backups/kanji/modelc7-11/assets\n",
      "2037/2037 [==============================] - 5s 2ms/sample - loss: 2.1177 - accuracy: 0.4099 - val_loss: 2.1801 - val_accuracy: 0.3789\n",
      "Epoch 12/200\n",
      "1990/2037 [============================>.] - ETA: 0s - loss: 1.8036 - accuracy: 0.5055INFO:tensorflow:Assets written to: model_backups/kanji/modelc7-12/assets\n",
      "2037/2037 [==============================] - 5s 2ms/sample - loss: 1.8027 - accuracy: 0.5032 - val_loss: 1.8095 - val_accuracy: 0.4581\n",
      "Epoch 13/200\n",
      "2010/2037 [============================>.] - ETA: 0s - loss: 1.6223 - accuracy: 0.5478INFO:tensorflow:Assets written to: model_backups/kanji/modelc7-13/assets\n",
      "2037/2037 [==============================] - 5s 2ms/sample - loss: 1.6236 - accuracy: 0.5454 - val_loss: 1.6338 - val_accuracy: 0.5154\n",
      "Epoch 14/200\n",
      "2010/2037 [============================>.] - ETA: 0s - loss: 1.4343 - accuracy: 0.5836INFO:tensorflow:Assets written to: model_backups/kanji/modelc7-14/assets\n",
      "2037/2037 [==============================] - 5s 2ms/sample - loss: 1.4297 - accuracy: 0.5857 - val_loss: 1.4064 - val_accuracy: 0.6388\n",
      "Epoch 15/200\n",
      "2000/2037 [============================>.] - ETA: 0s - loss: 1.3501 - accuracy: 0.6125INFO:tensorflow:Assets written to: model_backups/kanji/modelc7-15/assets\n",
      "2037/2037 [==============================] - 5s 2ms/sample - loss: 1.3523 - accuracy: 0.6087 - val_loss: 1.7366 - val_accuracy: 0.4449\n",
      "Epoch 16/200\n",
      "2005/2037 [============================>.] - ETA: 0s - loss: 1.2543 - accuracy: 0.6399INFO:tensorflow:Assets written to: model_backups/kanji/modelc7-16/assets\n",
      "2037/2037 [==============================] - 5s 2ms/sample - loss: 1.2566 - accuracy: 0.6397 - val_loss: 1.3838 - val_accuracy: 0.6167\n",
      "Epoch 17/200\n",
      "2005/2037 [============================>.] - ETA: 0s - loss: 1.1780 - accuracy: 0.6653INFO:tensorflow:Assets written to: model_backups/kanji/modelc7-17/assets\n",
      "2037/2037 [==============================] - 5s 2ms/sample - loss: 1.1757 - accuracy: 0.6662 - val_loss: 1.2921 - val_accuracy: 0.6476\n",
      "Epoch 18/200\n",
      "1995/2037 [============================>.] - ETA: 0s - loss: 1.0689 - accuracy: 0.6967INFO:tensorflow:Assets written to: model_backups/kanji/modelc7-18/assets\n",
      "2037/2037 [==============================] - 5s 2ms/sample - loss: 1.0667 - accuracy: 0.6966 - val_loss: 1.0772 - val_accuracy: 0.7313\n",
      "Epoch 19/200\n",
      "2005/2037 [============================>.] - ETA: 0s - loss: 0.9542 - accuracy: 0.7287INFO:tensorflow:Assets written to: model_backups/kanji/modelc7-19/assets\n",
      "2037/2037 [==============================] - 5s 2ms/sample - loss: 0.9507 - accuracy: 0.7300 - val_loss: 1.0574 - val_accuracy: 0.7313\n",
      "Epoch 20/200\n",
      "2035/2037 [============================>.] - ETA: 0s - loss: 0.9651 - accuracy: 0.7263INFO:tensorflow:Assets written to: model_backups/kanji/modelc7-20/assets\n",
      "2037/2037 [==============================] - 5s 2ms/sample - loss: 0.9649 - accuracy: 0.7266 - val_loss: 1.1533 - val_accuracy: 0.7004\n",
      "Epoch 21/200\n",
      "2005/2037 [============================>.] - ETA: 0s - loss: 0.8312 - accuracy: 0.7641INFO:tensorflow:Assets written to: model_backups/kanji/modelc7-21/assets\n",
      "2037/2037 [==============================] - 4s 2ms/sample - loss: 0.8314 - accuracy: 0.7634 - val_loss: 1.0623 - val_accuracy: 0.7225\n",
      "Epoch 22/200\n",
      "2005/2037 [============================>.] - ETA: 0s - loss: 0.7370 - accuracy: 0.8000INFO:tensorflow:Assets written to: model_backups/kanji/modelc7-22/assets\n",
      "2037/2037 [==============================] - 5s 2ms/sample - loss: 0.7390 - accuracy: 0.7982 - val_loss: 1.3612 - val_accuracy: 0.6079\n",
      "Epoch 23/200\n",
      "2015/2037 [============================>.] - ETA: 0s - loss: 0.8757 - accuracy: 0.7419INFO:tensorflow:Assets written to: model_backups/kanji/modelc7-23/assets\n",
      "2037/2037 [==============================] - 5s 2ms/sample - loss: 0.8739 - accuracy: 0.7423 - val_loss: 0.8987 - val_accuracy: 0.7753\n",
      "Epoch 24/200\n",
      "2025/2037 [============================>.] - ETA: 0s - loss: 0.6675 - accuracy: 0.8148INFO:tensorflow:Assets written to: model_backups/kanji/modelc7-24/assets\n",
      "2037/2037 [==============================] - 5s 2ms/sample - loss: 0.6666 - accuracy: 0.8154 - val_loss: 0.8579 - val_accuracy: 0.7665\n",
      "Epoch 25/200\n",
      "2030/2037 [============================>.] - ETA: 0s - loss: 0.6840 - accuracy: 0.7985INFO:tensorflow:Assets written to: model_backups/kanji/modelc7-25/assets\n",
      "2037/2037 [==============================] - 5s 2ms/sample - loss: 0.6842 - accuracy: 0.7987 - val_loss: 1.3541 - val_accuracy: 0.6167\n",
      "Epoch 26/200\n",
      "2000/2037 [============================>.] - ETA: 0s - loss: 0.6346 - accuracy: 0.8165INFO:tensorflow:Assets written to: model_backups/kanji/modelc7-26/assets\n",
      "2037/2037 [==============================] - 4s 2ms/sample - loss: 0.6334 - accuracy: 0.8184 - val_loss: 0.7012 - val_accuracy: 0.8502\n",
      "Epoch 27/200\n",
      "2015/2037 [============================>.] - ETA: 0s - loss: 0.6155 - accuracy: 0.8253INFO:tensorflow:Assets written to: model_backups/kanji/modelc7-27/assets\n",
      "2037/2037 [==============================] - 5s 2ms/sample - loss: 0.6138 - accuracy: 0.8257 - val_loss: 0.8042 - val_accuracy: 0.8018\n",
      "Epoch 28/200\n",
      "2020/2037 [============================>.] - ETA: 0s - loss: 0.5231 - accuracy: 0.8490INFO:tensorflow:Assets written to: model_backups/kanji/modelc7-28/assets\n",
      "2037/2037 [==============================] - 4s 2ms/sample - loss: 0.5235 - accuracy: 0.8478 - val_loss: 0.6122 - val_accuracy: 0.8546\n",
      "Epoch 29/200\n",
      "2000/2037 [============================>.] - ETA: 0s - loss: 0.5991 - accuracy: 0.8195INFO:tensorflow:Assets written to: model_backups/kanji/modelc7-29/assets\n",
      "2037/2037 [==============================] - 5s 2ms/sample - loss: 0.5999 - accuracy: 0.8189 - val_loss: 1.0585 - val_accuracy: 0.7048\n",
      "Epoch 30/200\n",
      "2025/2037 [============================>.] - ETA: 0s - loss: 0.6152 - accuracy: 0.8193INFO:tensorflow:Assets written to: model_backups/kanji/modelc7-30/assets\n",
      "2037/2037 [==============================] - 5s 2ms/sample - loss: 0.6133 - accuracy: 0.8198 - val_loss: 0.7409 - val_accuracy: 0.8194\n",
      "Epoch 31/200\n",
      "2000/2037 [============================>.] - ETA: 0s - loss: 0.5243 - accuracy: 0.8480INFO:tensorflow:Assets written to: model_backups/kanji/modelc7-31/assets\n",
      "2037/2037 [==============================] - 5s 2ms/sample - loss: 0.5222 - accuracy: 0.8488 - val_loss: 0.6752 - val_accuracy: 0.8370\n",
      "Epoch 32/200\n",
      "2015/2037 [============================>.] - ETA: 0s - loss: 0.4320 - accuracy: 0.8804INFO:tensorflow:Assets written to: model_backups/kanji/modelc7-32/assets\n",
      "2037/2037 [==============================] - 5s 2ms/sample - loss: 0.4322 - accuracy: 0.8797 - val_loss: 0.6024 - val_accuracy: 0.8811\n",
      "Epoch 33/200\n",
      "2030/2037 [============================>.] - ETA: 0s - loss: 0.4285 - accuracy: 0.8759INFO:tensorflow:Assets written to: model_backups/kanji/modelc7-33/assets\n",
      "2037/2037 [==============================] - 5s 2ms/sample - loss: 0.4289 - accuracy: 0.8758 - val_loss: 0.6480 - val_accuracy: 0.8326\n",
      "Epoch 34/200\n",
      "2005/2037 [============================>.] - ETA: 0s - loss: 0.5442 - accuracy: 0.8329INFO:tensorflow:Assets written to: model_backups/kanji/modelc7-34/assets\n",
      "2037/2037 [==============================] - 4s 2ms/sample - loss: 0.5427 - accuracy: 0.8331 - val_loss: 0.7624 - val_accuracy: 0.8106\n",
      "Epoch 35/200\n",
      "1990/2037 [============================>.] - ETA: 0s - loss: 0.5740 - accuracy: 0.8342INFO:tensorflow:Assets written to: model_backups/kanji/modelc7-35/assets\n",
      "2037/2037 [==============================] - 5s 2ms/sample - loss: 0.5761 - accuracy: 0.8336 - val_loss: 0.8275 - val_accuracy: 0.8238\n",
      "Epoch 36/200\n",
      "2005/2037 [============================>.] - ETA: 0s - loss: 0.3862 - accuracy: 0.8848INFO:tensorflow:Assets written to: model_backups/kanji/modelc7-36/assets\n",
      "2037/2037 [==============================] - 5s 2ms/sample - loss: 0.3836 - accuracy: 0.8851 - val_loss: 0.5851 - val_accuracy: 0.8502\n",
      "Epoch 37/200\n",
      "2010/2037 [============================>.] - ETA: 0s - loss: 0.4607 - accuracy: 0.8637INFO:tensorflow:Assets written to: model_backups/kanji/modelc7-37/assets\n",
      "2037/2037 [==============================] - 5s 2ms/sample - loss: 0.4659 - accuracy: 0.8625 - val_loss: 0.8618 - val_accuracy: 0.8326\n",
      "Epoch 38/200\n",
      "2020/2037 [============================>.] - ETA: 0s - loss: 0.4326 - accuracy: 0.8668INFO:tensorflow:Assets written to: model_backups/kanji/modelc7-38/assets\n",
      "2037/2037 [==============================] - 5s 2ms/sample - loss: 0.4314 - accuracy: 0.8670 - val_loss: 0.5352 - val_accuracy: 0.8987\n",
      "Epoch 39/200\n",
      "2025/2037 [============================>.] - ETA: 0s - loss: 0.4368 - accuracy: 0.8746INFO:tensorflow:Assets written to: model_backups/kanji/modelc7-39/assets\n",
      "2037/2037 [==============================] - 5s 2ms/sample - loss: 0.4389 - accuracy: 0.8738 - val_loss: 0.4952 - val_accuracy: 0.9031\n",
      "Epoch 40/200\n",
      "2005/2037 [============================>.] - ETA: 0s - loss: 0.3730 - accuracy: 0.8958INFO:tensorflow:Assets written to: model_backups/kanji/modelc7-40/assets\n",
      "2037/2037 [==============================] - 5s 2ms/sample - loss: 0.3706 - accuracy: 0.8964 - val_loss: 0.5698 - val_accuracy: 0.8943\n",
      "Epoch 41/200\n",
      "1995/2037 [============================>.] - ETA: 0s - loss: 0.3438 - accuracy: 0.9008INFO:tensorflow:Assets written to: model_backups/kanji/modelc7-41/assets\n",
      "2037/2037 [==============================] - 5s 2ms/sample - loss: 0.3452 - accuracy: 0.9003 - val_loss: 0.5397 - val_accuracy: 0.8899\n",
      "Epoch 42/200\n",
      "2025/2037 [============================>.] - ETA: 0s - loss: 0.3533 - accuracy: 0.8968INFO:tensorflow:Assets written to: model_backups/kanji/modelc7-42/assets\n",
      "2037/2037 [==============================] - 5s 2ms/sample - loss: 0.3579 - accuracy: 0.8949 - val_loss: 0.6111 - val_accuracy: 0.8811\n",
      "Epoch 43/200\n",
      "2035/2037 [============================>.] - ETA: 0s - loss: 0.4586 - accuracy: 0.8570INFO:tensorflow:Assets written to: model_backups/kanji/modelc7-43/assets\n",
      "2037/2037 [==============================] - 4s 2ms/sample - loss: 0.4582 - accuracy: 0.8571 - val_loss: 0.5041 - val_accuracy: 0.8943\n",
      "Epoch 44/200\n",
      "1985/2037 [============================>.] - ETA: 0s - loss: 0.3536 - accuracy: 0.8922INFO:tensorflow:Assets written to: model_backups/kanji/modelc7-44/assets\n",
      "2037/2037 [==============================] - 5s 2ms/sample - loss: 0.3637 - accuracy: 0.8886 - val_loss: 0.8233 - val_accuracy: 0.7357\n",
      "Epoch 45/200\n",
      "2015/2037 [============================>.] - ETA: 0s - loss: 0.3665 - accuracy: 0.8938INFO:tensorflow:Assets written to: model_backups/kanji/modelc7-45/assets\n",
      "2037/2037 [==============================] - 5s 2ms/sample - loss: 0.3654 - accuracy: 0.8940 - val_loss: 0.5377 - val_accuracy: 0.8943\n",
      "Epoch 46/200\n",
      "2000/2037 [============================>.] - ETA: 0s - loss: 0.3190 - accuracy: 0.9085INFO:tensorflow:Assets written to: model_backups/kanji/modelc7-46/assets\n",
      "2037/2037 [==============================] - 5s 2ms/sample - loss: 0.3177 - accuracy: 0.9092 - val_loss: 0.6222 - val_accuracy: 0.8634\n",
      "Epoch 47/200\n",
      "2035/2037 [============================>.] - ETA: 0s - loss: 0.5002 - accuracy: 0.8472INFO:tensorflow:Assets written to: model_backups/kanji/modelc7-47/assets\n",
      "2037/2037 [==============================] - 4s 2ms/sample - loss: 0.4998 - accuracy: 0.8473 - val_loss: 0.4987 - val_accuracy: 0.8899\n"
     ]
    }
   ],
   "source": [
    "backups = ModelCheckpoint(\"model_backups/kanji/modelc7-{epoch:02d}\", monitor=\"val_loss\")\n",
    "stopping = EarlyStopping(monitor=\"val_accuracy\", min_delta=0, patience=8, restore_best_weights=True)\n",
    "\n",
    "resultsc7 = modelc7.fit(X_train, y_train, epochs=200, batch_size=5, validation_data=(X_val, y_val), class_weight=class_weights, callbacks=[backups, stopping])"
   ]
  },
  {
   "cell_type": "code",
   "execution_count": 65,
   "metadata": {},
   "outputs": [
    {
     "name": "stdout",
     "output_type": "stream",
     "text": [
      "Accuracy: 0.8765432098765432\n",
      "Balanced Accuracy: 0.8944444444444444\n",
      "CPU times: user 307 ms, sys: 28 ms, total: 335 ms\n",
      "Wall time: 271 ms\n"
     ]
    },
    {
     "data": {
      "text/plain": [
       "(0.8765432098765432, 0.8944444444444444)"
      ]
     },
     "execution_count": 65,
     "metadata": {},
     "output_type": "execute_result"
    }
   ],
   "source": [
    "%%time\n",
    "image_class_evaluation(modelc7, X_test, y_test)"
   ]
  },
  {
   "cell_type": "code",
   "execution_count": null,
   "metadata": {},
   "outputs": [],
   "source": []
  }
 ],
 "metadata": {
  "kernelspec": {
   "display_name": "Python 3",
   "language": "python",
   "name": "python3"
  },
  "language_info": {
   "codemirror_mode": {
    "name": "ipython",
    "version": 3
   },
   "file_extension": ".py",
   "mimetype": "text/x-python",
   "name": "python",
   "nbconvert_exporter": "python",
   "pygments_lexer": "ipython3",
   "version": "3.7.6"
  }
 },
 "nbformat": 4,
 "nbformat_minor": 4
}
