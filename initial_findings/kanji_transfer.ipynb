{
 "cells": [
  {
   "cell_type": "markdown",
   "metadata": {},
   "source": [
    "# Creating a Character Dataset for Transfer Learning"
   ]
  },
  {
   "cell_type": "markdown",
   "metadata": {},
   "source": [
    "Since it appeared that there was a lack of of simpler models trained with the a single color channel, I decided to explore the merits of creating one from scratch using unutilized data in the dataset and supplementing it with the publicly available [EMNIST dataset](https://www.nist.gov/itl/products-and-services/emnist-dataset) (an extension of [the MNIST database of handwritten digits](http://yann.lecun.com/exdb/mnist/))"
   ]
  },
  {
   "cell_type": "markdown",
   "metadata": {},
   "source": [
    "## Imports"
   ]
  },
  {
   "cell_type": "code",
   "execution_count": 1,
   "metadata": {},
   "outputs": [],
   "source": [
    "#Library imports\n",
    "import re\n",
    "import os\n",
    "import sys\n",
    "import shutil\n",
    "import time\n",
    "import math\n",
    "import random\n",
    "import warnings\n",
    "import numpy as np\n",
    "import pandas as pd\n",
    "import seaborn as sns\n",
    "import matplotlib.pyplot as plt\n",
    "#import matplotlib.font_manager as fm\n",
    "\n",
    "from IPython.display import Image, display\n",
    "from sklearn.dummy import DummyClassifier\n",
    "from sklearn.model_selection import train_test_split\n",
    "from sklearn.utils import class_weight\n",
    "\n",
    "from tensorflow.keras import models, Input\n",
    "from tensorflow.keras.preprocessing.image import ImageDataGenerator, array_to_img, img_to_array, load_img\n",
    "from tensorflow.keras.utils import to_categorical\n",
    "from tensorflow.keras.models import Sequential\n",
    "from tensorflow.keras import initializers\n",
    "from tensorflow.keras.optimizers import Adam\n",
    "from tensorflow.keras.layers import Dense, LSTM, Dropout, Conv2D, MaxPooling2D, Flatten\n",
    "from tensorflow.keras.callbacks import EarlyStopping, ModelCheckpoint\n",
    "from tensorflow.keras.regularizers import l1, l2\n",
    "\n",
    "\n",
    "# Allows access to scripts and modules relative to the parent directory.\n",
    "parent = os.path.dirname(os.getcwd())\n",
    "sys.path.append(parent)\n",
    "\n",
    "\n",
    "#User Created functions\n",
    "\n",
    "from cleaning_functions import *\n",
    "from eda_functions import *\n",
    "from modeling_functions import *\n",
    "from setup_functions import *\n",
    "\n",
    "from random_lumberjacks.src.random_lumberjacks.model.model_classes import *\n",
    "from random_lumberjacks.src.random_lumberjacks.visualization.visualization_functions import *\n",
    "\n",
    "#Notebook arguments\n",
    "%matplotlib inline"
   ]
  },
  {
   "cell_type": "code",
   "execution_count": 2,
   "metadata": {},
   "outputs": [
    {
     "name": "stderr",
     "output_type": "stream",
     "text": [
      "/home/anacuda/work/nyc-mhtn-ds-021720/japanese_text_classifiers/setup_functions.py:23: MatplotlibDeprecationWarning: \n",
      "The createFontList function was deprecated in Matplotlib 3.2 and will be removed two minor releases later. Use FontManager.addfont instead.\n",
      "  font_list = fm.createFontList(font_files)\n"
     ]
    }
   ],
   "source": [
    "#Without this block the Japanese font's won't display properly in Matplotlib.Set to your font directory.\n",
    "extend_matplotlib_fonts(\"/usr/share/fonts/\")"
   ]
  },
  {
   "cell_type": "code",
   "execution_count": 3,
   "metadata": {},
   "outputs": [],
   "source": [
    "#Device specific gpu deterministic arguments\n",
    "from tensorflow import config as tfconfig\n",
    "physical_devices = tfconfig.list_physical_devices('GPU')\n",
    "tfconfig.experimental.set_memory_growth(physical_devices[0], enable=True)\n",
    "os.environ['TF_DETERMINISTIC_OPS'] = '1'"
   ]
  },
  {
   "cell_type": "code",
   "execution_count": 4,
   "metadata": {},
   "outputs": [],
   "source": [
    "#Sets random seeds to allow for reproducable results.\n",
    "from tensorflow import random as tfrandom\n",
    "SEED=127\n",
    "os.environ['PYTHONHASHSEED']=str(SEED)\n",
    "random.seed(SEED)\n",
    "np.random.seed(SEED)\n",
    "tfrandom.set_seed(SEED)"
   ]
  },
  {
   "cell_type": "markdown",
   "metadata": {},
   "source": [
    "## Organizing and splitting the data"
   ]
  },
  {
   "cell_type": "markdown",
   "metadata": {},
   "source": [
    "### Kuzushiji Kanji"
   ]
  },
  {
   "cell_type": "markdown",
   "metadata": {},
   "source": [
    "The Kuzushiji Kanji dataset is an especially attractive choice for transfer learning because of the myriad of character classifiers it provides which will enhance the generality of the lower convolutional layers."
   ]
  },
  {
   "cell_type": "code",
   "execution_count": 5,
   "metadata": {},
   "outputs": [],
   "source": [
    "#Creates relative paths for the source directory and the destination when duplicates of the images are split into training/testing groups\n",
    "orig_kuzushiji_kanji_dir = 'data/kuzushiji49/kkanji2'\n",
    "split_kanji_dir = \"data/kuzushiji49/kanji_transfer\""
   ]
  },
  {
   "cell_type": "markdown",
   "metadata": {},
   "source": [
    "However the strong imbalance of this dataset combined with the low ratio of observations to classes make this dataset challenging to use. In many classes, observations are so scarce that this data would be unusable for standalone predictions."
   ]
  },
  {
   "cell_type": "code",
   "execution_count": 216,
   "metadata": {},
   "outputs": [
    {
     "data": {
      "text/html": [
       "<div>\n",
       "<style scoped>\n",
       "    .dataframe tbody tr th:only-of-type {\n",
       "        vertical-align: middle;\n",
       "    }\n",
       "\n",
       "    .dataframe tbody tr th {\n",
       "        vertical-align: top;\n",
       "    }\n",
       "\n",
       "    .dataframe thead th {\n",
       "        text-align: right;\n",
       "    }\n",
       "</style>\n",
       "<table border=\"1\" class=\"dataframe\">\n",
       "  <thead>\n",
       "    <tr style=\"text-align: right;\">\n",
       "      <th></th>\n",
       "      <th>folder</th>\n",
       "      <th>count</th>\n",
       "      <th>char</th>\n",
       "    </tr>\n",
       "  </thead>\n",
       "  <tbody>\n",
       "    <tr>\n",
       "      <th>0</th>\n",
       "      <td>U+5375</td>\n",
       "      <td>197</td>\n",
       "      <td>卵</td>\n",
       "    </tr>\n",
       "    <tr>\n",
       "      <th>1</th>\n",
       "      <td>U+5BC6</td>\n",
       "      <td>30</td>\n",
       "      <td>密</td>\n",
       "    </tr>\n",
       "    <tr>\n",
       "      <th>2</th>\n",
       "      <td>U+85A6</td>\n",
       "      <td>6</td>\n",
       "      <td>薦</td>\n",
       "    </tr>\n",
       "    <tr>\n",
       "      <th>3</th>\n",
       "      <td>U+8DE1</td>\n",
       "      <td>109</td>\n",
       "      <td>跡</td>\n",
       "    </tr>\n",
       "    <tr>\n",
       "      <th>4</th>\n",
       "      <td>U+7409</td>\n",
       "      <td>2</td>\n",
       "      <td>琉</td>\n",
       "    </tr>\n",
       "    <tr>\n",
       "      <th>...</th>\n",
       "      <td>...</td>\n",
       "      <td>...</td>\n",
       "      <td>...</td>\n",
       "    </tr>\n",
       "    <tr>\n",
       "      <th>3827</th>\n",
       "      <td>U+5B63</td>\n",
       "      <td>37</td>\n",
       "      <td>季</td>\n",
       "    </tr>\n",
       "    <tr>\n",
       "      <th>3828</th>\n",
       "      <td>U+75B3</td>\n",
       "      <td>2</td>\n",
       "      <td>疳</td>\n",
       "    </tr>\n",
       "    <tr>\n",
       "      <th>3829</th>\n",
       "      <td>U+9322</td>\n",
       "      <td>9</td>\n",
       "      <td>錢</td>\n",
       "    </tr>\n",
       "    <tr>\n",
       "      <th>3830</th>\n",
       "      <td>U+675C</td>\n",
       "      <td>12</td>\n",
       "      <td>杜</td>\n",
       "    </tr>\n",
       "    <tr>\n",
       "      <th>3831</th>\n",
       "      <td>U+5EFC</td>\n",
       "      <td>3</td>\n",
       "      <td>廼</td>\n",
       "    </tr>\n",
       "  </tbody>\n",
       "</table>\n",
       "<p>3832 rows × 3 columns</p>\n",
       "</div>"
      ],
      "text/plain": [
       "      folder  count char\n",
       "0     U+5375    197    卵\n",
       "1     U+5BC6     30    密\n",
       "2     U+85A6      6    薦\n",
       "3     U+8DE1    109    跡\n",
       "4     U+7409      2    琉\n",
       "...      ...    ...  ...\n",
       "3827  U+5B63     37    季\n",
       "3828  U+75B3      2    疳\n",
       "3829  U+9322      9    錢\n",
       "3830  U+675C     12    杜\n",
       "3831  U+5EFC      3    廼\n",
       "\n",
       "[3832 rows x 3 columns]"
      ]
     },
     "execution_count": 216,
     "metadata": {},
     "output_type": "execute_result"
    }
   ],
   "source": [
    "directory_sizes = [[directory, len(os.listdir(f\"{orig_kuzushiji_kanji_dir}/{directory}\"))] for directory in os.listdir(orig_kuzushiji_kanji_dir)]\n",
    "directory_counts = pd.DataFrame(directory_sizes, columns=[\"folder\", \"count\"])\n",
    "directory_counts[\"char\"] = directory_counts[\"folder\"].map(lambda x: chr(int(x[2:], 16)))\n",
    "directory_counts"
   ]
  },
  {
   "cell_type": "markdown",
   "metadata": {},
   "source": [
    "I needed to maximize the amount of data without hindering the predictive strength of the data, so I plotted how the size of the dataset changes across different thresholds of minimum observations per class."
   ]
  },
  {
   "cell_type": "code",
   "execution_count": 205,
   "metadata": {},
   "outputs": [],
   "source": [
    "#Creates a dataframe that examines the trade off between total observations available and minimum observations per class\n",
    "#to better determine the minimum cutoff needed to include a classifier.\n",
    "sizes = [[i, directory_counts[directory_counts[\"count\"] >= i][\"count\"].size, directory_counts[directory_counts[\"count\"] >= i][\"count\"].sum()] for i in np.arange(1, 1769)]\n",
    "sizes = pd.DataFrame(sizes, columns = [\"min\", \"classes\", \"total_chars\"]).set_index(\"min\")"
   ]
  },
  {
   "cell_type": "code",
   "execution_count": 206,
   "metadata": {},
   "outputs": [
    {
     "data": {
      "text/plain": [
       "<matplotlib.axes._subplots.AxesSubplot at 0x7f9d99aebf90>"
      ]
     },
     "execution_count": 206,
     "metadata": {},
     "output_type": "execute_result"
    },
    {
     "data": {
      "image/png": "[encoded data removed]",
      "text/plain": [
       "<Figure size 1080x720 with 1 Axes>"
      ]
     },
     "metadata": {
      "needs_background": "light"
     },
     "output_type": "display_data"
    }
   ],
   "source": [
    "sizes.plot(figsize=(15,10))"
   ]
  },
  {
   "cell_type": "markdown",
   "metadata": {},
   "source": [
    "By filtering out the categories with less than 10 observations, 1566 classes remain."
   ]
  },
  {
   "cell_type": "code",
   "execution_count": 208,
   "metadata": {},
   "outputs": [
    {
     "data": {
      "text/plain": [
       "classes          1566\n",
       "total_chars    133480\n",
       "Name: 10, dtype: int64"
      ]
     },
     "execution_count": 208,
     "metadata": {},
     "output_type": "execute_result"
    }
   ],
   "source": [
    "sizes.loc[10]"
   ]
  },
  {
   "cell_type": "markdown",
   "metadata": {},
   "source": [
    "I duplicate those files and send them to their own respective train, test, and validation paths within their own class subdirectories."
   ]
  },
  {
   "cell_type": "code",
   "execution_count": 8,
   "metadata": {},
   "outputs": [],
   "source": [
    "#Creates path references for the soon to be created train, validation, and split directories.\n",
    "kanji_train = os.path.join(split_kanji_dir, \"train\")\n",
    "kanji_val = os.path.join(split_kanji_dir, \"val\")\n",
    "kanji_test = os.path.join(split_kanji_dir, \"test\")"
   ]
  },
  {
   "cell_type": "code",
   "execution_count": 330,
   "metadata": {},
   "outputs": [],
   "source": [
    "#Creates the directories.\n",
    "os.makedirs(kanji_train)\n",
    "os.makedirs(kanji_val)\n",
    "os.makedirs(kanji_test)"
   ]
  },
  {
   "cell_type": "code",
   "execution_count": 331,
   "metadata": {},
   "outputs": [],
   "source": [
    "# Creates directories for the classes that meet the threshold.\n",
    "kanji_dir_list = directory_counts[directory_counts[\"count\"] >= 10][\"folder\"].to_numpy().tolist()"
   ]
  },
  {
   "cell_type": "code",
   "execution_count": null,
   "metadata": {},
   "outputs": [],
   "source": [
    "# A simple split for the image files within their own locations. The characters don't seem to have any order to them within\n",
    "# their class directories so no random influences were added to the split.\n",
    "for directory in kanji_dir_list:\n",
    "    paths = image_path_extractor(directory, orig_kuzushiji_kanji_dir, random_seed=SEED)\n",
    "    train, val, test = image_path_list_train_test_split(paths, .7, .1)\n",
    "    \n",
    "    # Copies the files to their new locations.\n",
    "    image_path_copier(train, orig_kuzushiji_kanji_dir, kanji_train, directory)\n",
    "    image_path_copier(val, orig_kuzushiji_kanji_dir, kanji_val, directory)\n",
    "    image_path_copier(test, orig_kuzushiji_kanji_dir, kanji_test, directory)"
   ]
  },
  {
   "cell_type": "markdown",
   "metadata": {},
   "source": [
    "The remaining kanji characters with less than 10 observations might be useful in their aggregate form as a class of their own. Ideally, it would likely be more optimal to group similar kanji to divide this class and while making logical connections for the classifier, but it would be a major sacrifice to time to examine the classes individually."
   ]
  },
  {
   "cell_type": "code",
   "execution_count": 333,
   "metadata": {},
   "outputs": [
    {
     "data": {
      "text/plain": [
       "6944"
      ]
     },
     "execution_count": 333,
     "metadata": {},
     "output_type": "execute_result"
    }
   ],
   "source": [
    "sizes.loc[1][\"total_chars\"]-sizes.loc[10][\"total_chars\"]"
   ]
  },
  {
   "cell_type": "code",
   "execution_count": 334,
   "metadata": {},
   "outputs": [
    {
     "name": "stdout",
     "output_type": "stream",
     "text": [
      "4860 files copied to data/kuzushiji49/kanji_transfer/train/other\n",
      "1389 files copied to data/kuzushiji49/kanji_transfer/val/other\n",
      "695 files copied to data/kuzushiji49/kanji_transfer/test/other\n"
     ]
    }
   ],
   "source": [
    "other_dirs = directory_counts[directory_counts[\"count\"] < 10][\"folder\"].to_numpy().tolist()\n",
    "other_paths = image_path_extractor(other_dirs, orig_kuzushiji_kanji_dir, random_seed=SEED)\n",
    "\n",
    "train, val, test = image_path_list_train_test_split(other_paths, .7, .1)\n",
    "\n",
    "#Copies the files to their new subdirectories.\n",
    "image_path_copier(train, orig_kuzushiji_kanji_dir, kanji_train, \"other\")\n",
    "image_path_copier(val, orig_kuzushiji_kanji_dir, kanji_val, \"other\")\n",
    "image_path_copier(test, orig_kuzushiji_kanji_dir, kanji_test, \"other\")"
   ]
  },
  {
   "cell_type": "markdown",
   "metadata": {},
   "source": [
    "### EMNIST"
   ]
  },
  {
   "cell_type": "markdown",
   "metadata": {},
   "source": [
    "The kanji dataset is not that large even with the readdition of the dropped classes. Also the written strokes of Hiragana and Kanji are more different from one another to a greater degree than something like Katakana and Kanji. It's hard to quantify but Hiragana has a more curved look and feel to it.\n",
    "\n",
    "For those reasons I also brought in the [EMNIST ByMerge dataset](https://www.nist.gov/itl/products-and-services/emnist-dataset). By including the vastly different western character set, I hoped to increase the model's ability to generalize. What set's the bymerge dataset apart from the othes is that the letters are grouped together when there is significant visual overlap (ie C vs c). This model is just to create a strong convolutional base so those points of contention are better avoided."
   ]
  },
  {
   "cell_type": "code",
   "execution_count": 162,
   "metadata": {},
   "outputs": [],
   "source": [
    "#Imports the data\n",
    "emnist_train_data = parse_emnist(\"data/emnist/emnist-bymerge-train-images-idx3-ubyte.gz\")\n",
    "emnist_train_labels = parse_emnist(\"data/emnist/emnist-bymerge-train-labels-idx1-ubyte.gz\", offset=8, isimg=False)\n",
    "emnist_test_data = parse_emnist(\"data/emnist/emnist-bymerge-test-images-idx3-ubyte.gz\")\n",
    "emnist_test_labels = parse_emnist(\"data/emnist/emnist-bymerge-test-labels-idx1-ubyte.gz\", offset=8, isimg=False)"
   ]
  },
  {
   "cell_type": "code",
   "execution_count": 163,
   "metadata": {},
   "outputs": [],
   "source": [
    "# Pads the images to go from 28x28 to 32x32 to avoid cropping/arififacts being introduced from the random transformations.\n",
    "emnist_train_data = pad_raster_edges(emnist_train_data, 2, 2)\n",
    "emnist_test_data = pad_raster_edges(emnist_test_data, 2, 2)"
   ]
  },
  {
   "cell_type": "code",
   "execution_count": 164,
   "metadata": {},
   "outputs": [
    {
     "name": "stdout",
     "output_type": "stream",
     "text": [
      "There are 47 unique values with 0 nan values making up 0.0%\n",
      "38304-1 --5.49%\n",
      "36020-7 --5.16%\n",
      "35285-3 --5.06%\n",
      "34618-0 --4.96%\n",
      "34307-2 --4.92%\n",
      "34150-6 --4.89%\n",
      "33924-8 --4.86%\n",
      "33882-9 --4.85%\n",
      "33656-4 --4.82%\n",
      "31280-5 --4.48%\n",
      "27664-24 --3.96%\n",
      "24657-39 --3.53%\n",
      "23509-28 --3.37%\n",
      "20381-21 --2.92%\n",
      "18248-46 --2.61%\n",
      "15388-30 --2.20%\n",
      "14733-18 --2.11%\n",
      "14060-45 --2.01%\n",
      "12963-12 --1.86%\n",
      "11612-22 --1.66%\n",
      "11444-43 --1.64%\n",
      "10748-25 --1.54%\n",
      "10152-38 --1.45%\n",
      "10009-36 --1.43%\n",
      "9766-29 --1.40%\n",
      "9098-15 --1.30%\n",
      "8682-42 --1.24%\n",
      "8237-23 --1.18%\n",
      "7588-31 --1.09%\n",
      "7403-32 --1.06%\n",
      "7092-34 --1.02%\n",
      "6411-10 --0.92%\n",
      "5689-19 --0.82%\n",
      "5598-33 --0.80%\n",
      "5416-35 --0.78%\n",
      "5080-37 --0.73%\n",
      "5047-27 --0.72%\n",
      "4998-20 --0.72%\n",
      "4925-14 --0.71%\n",
      "4606-13 --0.66%\n",
      "3874-11 --0.56%\n",
      "3693-41 --0.53%\n",
      "3097-17 --0.44%\n",
      "2966-44 --0.42%\n",
      "2603-26 --0.37%\n",
      "2535-40 --0.36%\n",
      "2534-16 --0.36%\n"
     ]
    }
   ],
   "source": [
    "full_value_counts(pd.DataFrame(emnist_train_labels), 0)"
   ]
  },
  {
   "cell_type": "markdown",
   "metadata": {},
   "source": [
    "The amount of observations in this dataset vastly exceed the observations in the kanji set. To prevent these observations from overwhelming the rest of the data, I've downsampled to the lowest value since, 2534 observations is still significant in comparison."
   ]
  },
  {
   "cell_type": "code",
   "execution_count": 165,
   "metadata": {},
   "outputs": [
    {
     "name": "stdout",
     "output_type": "stream",
     "text": [
      "performing downsample\n",
      "performing downsample\n"
     ]
    }
   ],
   "source": [
    "#My resample function requires each observation to be a vector, so the images are reshaped before resampling\n",
    "emnist_train_data, emnist_train_labels = preprocess_raster_resampling(images_to_1d(emnist_train_data), emnist_train_labels, \"downsample\", random_state=SEED)\n",
    "emnist_test_data, emnist_test_labels = preprocess_raster_resampling(images_to_1d(emnist_test_data), emnist_test_labels, \"downsample\", random_state=SEED)\n",
    "\n",
    "#Creates a validation set\n",
    "emnist_train_X, emnist_val_X, emnist_train_y, emnist_val_y = train_test_split(emnist_train_data, emnist_train_labels, test_size=.2, random_state=SEED)\n",
    "\n",
    "# Restoring the original shape while explicitly adding it's color channel.\n",
    "emnist_train_X = images_to_1d(emnist_train_X, 32, 32, 1, inverse=True)\n",
    "emnist_val_X = images_to_1d(emnist_val_X, 32, 32, 1, inverse=True)\n",
    "emnist_test_data = images_to_1d(emnist_test_data, 32, 32, 1, inverse=True)"
   ]
  },
  {
   "cell_type": "code",
   "execution_count": 180,
   "metadata": {},
   "outputs": [],
   "source": [
    "# Exports the splits to their respective directories. These groups will be identifiable with the emnist prefix to their directories. \n",
    "emist_pref = \"emnist_\"\n",
    "export_numpy_array_to_images(emnist_train_X, emnist_train_y, kanji_train, emist_pref)\n",
    "export_numpy_array_to_images(emnist_val_X, emnist_val_y, kanji_val, emist_pref)\n",
    "export_numpy_array_to_images(emnist_test_data, emnist_test_labels, kanji_test, emist_pref)"
   ]
  },
  {
   "cell_type": "markdown",
   "metadata": {},
   "source": [
    "### Obsolete Kana\n"
   ]
  },
  {
   "cell_type": "markdown",
   "metadata": {},
   "source": [
    "Finally, it might help to add in those obsolete observations from the hiragana set to build a more robust base for transfer learning. The proprocessing at this stage will be with a lighter touch since it will be heppening after the image sets are exported and reimported with the rest of the images."
   ]
  },
  {
   "cell_type": "code",
   "execution_count": 200,
   "metadata": {},
   "outputs": [],
   "source": [
    "# Importing the datasets\n",
    "obs_kana_train_data = np.load(\"data/kuzushiji49/train/k49-train-imgs.npz\")['arr_0']\n",
    "obs_kana_train_labels = np.load(\"data/kuzushiji49/train/k49-train-labels.npz\")['arr_0']\n",
    "obs_kana_test_data = np.load(\"data/kuzushiji49/test/k49-test-imgs.npz\")['arr_0']\n",
    "obs_kana_test_labels = np.load(\"data/kuzushiji49/test/k49-test-labels.npz\")['arr_0']\n",
    "\n",
    "# Eliminating the classes that are already used in the main model.\n",
    "obsolete_mask_train = (obs_kana_train_labels == 44) | (obs_kana_train_labels == 45) | (obs_kana_train_labels == 48)\n",
    "obsolete_mask_test = (obs_kana_test_labels == 44) | (obs_kana_test_labels == 45) | (obs_kana_test_labels == 48)\n",
    "obs_kana_train_data, obs_kana_train_labels = obs_kana_train_data[obsolete_mask_train], obs_kana_train_labels[obsolete_mask_train]\n",
    "obs_kana_test_data, obs_kana_test_labels = obs_kana_test_data[obsolete_mask_test], obs_kana_test_labels[obsolete_mask_test]\n",
    "\n",
    "# Match kanji folder structure by replacing the key with the unicode value.\n",
    "to_replace, unicode_sym = 44, \"U+3090\"\n",
    "obs_kana_train_labels, obs_kana_test_labels = np.where(obs_kana_train_labels == to_replace, unicode_sym, obs_kana_train_labels), np.where(obs_kana_test_labels == to_replace, unicode_sym, obs_kana_test_labels)\n",
    "\n",
    "to_replace, unicode_sym = \"45\", \"U+3091\"\n",
    "obs_kana_train_labels, obs_kana_test_labels = np.where(obs_kana_train_labels == to_replace, unicode_sym, obs_kana_train_labels), np.where(obs_kana_test_labels == to_replace, unicode_sym, obs_kana_test_labels)\n",
    "\n",
    "to_replace, unicode_sym = \"48\", \"U+309E\"\n",
    "obs_kana_train_labels, obs_kana_test_labels = np.where(obs_kana_train_labels == to_replace, unicode_sym, obs_kana_train_labels), np.where(obs_kana_test_labels == to_replace, unicode_sym, obs_kana_test_labels)\n",
    "\n",
    "#Adding the padding to make all images 32x32 and allow for edge buffer during transformations.\n",
    "obs_kana_train_data = pad_raster_edges(obs_kana_train_data, 2, 2)\n",
    "obs_kana_test_data = pad_raster_edges(obs_kana_test_data, 2, 2)\n",
    "\n",
    "#Creates a validation set\n",
    "obs_kana_train_X, obs_kana_val_X, obs_kana_train_y, obs_kana_val_y = train_test_split(obs_kana_train_data, obs_kana_train_labels, test_size=.2, random_state=SEED)\n",
    "\n",
    "# Restoring the original shape while explicitly adding it's color channel.\n",
    "obs_kana_train_X = images_to_1d(obs_kana_train_X, 32, 32, 1, inverse=True)\n",
    "obs_kana_val_X = images_to_1d(obs_kana_val_X, 32, 32, 1, inverse=True)\n",
    "obs_kana_test_data = images_to_1d(obs_kana_test_data, 32, 32, 1, inverse=True)"
   ]
  },
  {
   "cell_type": "code",
   "execution_count": 203,
   "metadata": {},
   "outputs": [],
   "source": [
    "export_numpy_array_to_images(obs_kana_train_X, obs_kana_train_y, kanji_train)\n",
    "export_numpy_array_to_images(obs_kana_val_X, obs_kana_val_y, kanji_val)\n",
    "export_numpy_array_to_images(obs_kana_test_data, obs_kana_test_labels, kanji_test)"
   ]
  },
  {
   "cell_type": "markdown",
   "metadata": {},
   "source": [
    "## Preprossessing"
   ]
  },
  {
   "cell_type": "code",
   "execution_count": 6,
   "metadata": {},
   "outputs": [],
   "source": [
    "train_generator = ImageDataGenerator(rescale=1./255,\n",
    "                                     rotation_range=4,\n",
    "                                   width_shift_range=0.1, \n",
    "                                   height_shift_range=0.1, \n",
    "                                   shear_range=0.3, \n",
    "                                   zoom_range=0.1, \n",
    "                                   horizontal_flip=False)\n",
    "test_generator = ImageDataGenerator(rescale=1./255)"
   ]
  },
  {
   "cell_type": "code",
   "execution_count": 17,
   "metadata": {},
   "outputs": [
    {
     "name": "stdout",
     "output_type": "stream",
     "text": [
      "Found 196357 images belonging to 1617 classes.\n",
      "Found 52741 images belonging to 1617 classes.\n",
      "Found 34967 images belonging to 1617 classes.\n"
     ]
    }
   ],
   "source": [
    "X_train_generator = train_generator.flow_from_directory(kanji_train, target_size=(32, 32), color_mode='grayscale', seed=SEED, batch_size = 32)\n",
    "X_val_generator = test_generator.flow_from_directory(kanji_val, target_size=(32, 32), color_mode='grayscale', seed=SEED, batch_size = 32)\n",
    "X_test_generator = test_generator.flow_from_directory(kanji_test, target_size=(32, 32), color_mode='grayscale', seed=SEED, batch_size = 34967)"
   ]
  },
  {
   "cell_type": "markdown",
   "metadata": {},
   "source": [
    "## Modeling"
   ]
  },
  {
   "cell_type": "markdown",
   "metadata": {},
   "source": [
    "### Baseline Predictor"
   ]
  },
  {
   "cell_type": "markdown",
   "metadata": {},
   "source": [
    "While the models in this notebook are intended for transfer learning, it is still good to see how effective it is in predicting across all of the many classes."
   ]
  },
  {
   "cell_type": "code",
   "execution_count": 11,
   "metadata": {},
   "outputs": [
    {
     "name": "stdout",
     "output_type": "stream",
     "text": [
      "Found 196357 images belonging to 1617 classes.\n",
      "Found 34967 images belonging to 1617 classes.\n",
      "Accuracy: 0.007292590156433208\n",
      "Balanced Accuracy: 0.00047269533690137645\n"
     ]
    },
    {
     "data": {
      "text/plain": [
       "(0.007292590156433208, 0.00047269533690137645)"
      ]
     },
     "execution_count": 11,
     "metadata": {},
     "output_type": "execute_result"
    }
   ],
   "source": [
    "X_dummy_train_generator = train_generator.flow_from_directory(kanji_train, target_size=(32, 32), color_mode='grayscale', seed=SEED, batch_size = 196357)\n",
    "X_dummy_test_generator = test_generator.flow_from_directory(kanji_test, target_size=(32, 32), color_mode='grayscale', seed=SEED, batch_size = 34967)\n",
    "\n",
    "dummmy_train, dummy_test = next(X_dummy_train_generator), next(X_dummy_test_generator)\n",
    "\n",
    "dummy_X_train, dummy_y_train = dummmy_train[0], np.argmax(dummmy_train[1], axis=1)\n",
    "dummy_X_test, dummy_y_test = dummy_test[0], np.argmax(dummy_test[1], axis=1)\n",
    "\n",
    "baseline_predictor = DummyClassifier(strategy=\"stratified\", random_state=SEED)\n",
    "baseline_predictor.fit(dummy_X_train, dummy_y_train)\n",
    "y_hat = baseline_predictor.predict(dummy_X_test)\n",
    "image_class_accuracy_scores(dummy_y_test, y_hat)"
   ]
  },
  {
   "cell_type": "markdown",
   "metadata": {},
   "source": [
    "### The CNN for Transfer Learning"
   ]
  },
  {
   "cell_type": "code",
   "execution_count": 18,
   "metadata": {},
   "outputs": [
    {
     "name": "stderr",
     "output_type": "stream",
     "text": [
      "/opt/conda/lib/python3.7/site-packages/sklearn/utils/validation.py:71: FutureWarning: Pass classes=[   0    1    2 ... 1614 1615 1616], y=[   0    0    0 ... 1616 1616 1616] as keyword args. From version 0.25 passing these as positional arguments will result in an error\n",
      "  FutureWarning)\n"
     ]
    }
   ],
   "source": [
    "class_weights = class_weight.compute_class_weight(\n",
    "           'balanced',\n",
    "            np.unique(X_train_generator.classes), \n",
    "            X_train_generator.classes)"
   ]
  },
  {
   "cell_type": "code",
   "execution_count": 19,
   "metadata": {},
   "outputs": [
    {
     "name": "stdout",
     "output_type": "stream",
     "text": [
      "Model: \"sequential_2\"\n",
      "_________________________________________________________________\n",
      "Layer (type)                 Output Shape              Param #   \n",
      "=================================================================\n",
      "conv2d_12 (Conv2D)           (None, 32, 32, 32)        320       \n",
      "_________________________________________________________________\n",
      "conv2d_13 (Conv2D)           (None, 32, 32, 32)        9248      \n",
      "_________________________________________________________________\n",
      "max_pooling2d_6 (MaxPooling2 (None, 16, 16, 32)        0         \n",
      "_________________________________________________________________\n",
      "conv2d_14 (Conv2D)           (None, 16, 16, 64)        18496     \n",
      "_________________________________________________________________\n",
      "conv2d_15 (Conv2D)           (None, 16, 16, 64)        36928     \n",
      "_________________________________________________________________\n",
      "max_pooling2d_7 (MaxPooling2 (None, 8, 8, 64)          0         \n",
      "_________________________________________________________________\n",
      "conv2d_16 (Conv2D)           (None, 8, 8, 128)         73856     \n",
      "_________________________________________________________________\n",
      "conv2d_17 (Conv2D)           (None, 8, 8, 128)         147584    \n",
      "_________________________________________________________________\n",
      "max_pooling2d_8 (MaxPooling2 (None, 4, 4, 128)         0         \n",
      "_________________________________________________________________\n",
      "flatten_2 (Flatten)          (None, 2048)              0         \n",
      "_________________________________________________________________\n",
      "dense_4 (Dense)              (None, 1000)              2049000   \n",
      "_________________________________________________________________\n",
      "dense_5 (Dense)              (None, 1617)              1618617   \n",
      "=================================================================\n",
      "Total params: 3,954,049\n",
      "Trainable params: 3,954,049\n",
      "Non-trainable params: 0\n",
      "_________________________________________________________________\n"
     ]
    }
   ],
   "source": [
    "layers = [Conv2D(32, (3, 3), activation='relu', padding=\"same\", input_shape=(32 ,32,  1)),\n",
    "          Conv2D(32, (3, 3), activation='relu', padding=\"same\"),\n",
    "          MaxPooling2D((2, 2)),\n",
    "          Conv2D(64, (3, 3), activation='relu', padding=\"same\"),\n",
    "          Conv2D(64, (3, 3), activation='relu', padding=\"same\"),\n",
    "          MaxPooling2D((2, 2)),\n",
    "          Conv2D(128, (3, 3), activation='relu', padding=\"same\"),\n",
    "          Conv2D(128, (3, 3), activation='relu', padding=\"same\"),\n",
    "          MaxPooling2D((2, 2)),\n",
    "          Flatten(),\n",
    "          Dense(1000, \"relu\"),\n",
    "          Dense(1617, activation='softmax')\n",
    "         ]\n",
    "compile_kwargs = {\"loss\":\"categorical_crossentropy\", \"optimizer\":Adam(learning_rate=0.0001), \"metrics\":['accuracy']}\n",
    "modelk1 = generate_keras_model(Sequential(), layers, compile_kwargs)"
   ]
  },
  {
   "cell_type": "code",
   "execution_count": null,
   "metadata": {},
   "outputs": [],
   "source": [
    "backups = ModelCheckpoint(\"model_backups/kanji/modelk1-{epoch:02d}\", monitor=\"val_loss\")\n",
    "stopping = EarlyStopping(monitor=\"val_accuracy\", min_delta=0, patience=5, restore_best_weights=True)\n",
    "\n",
    "resultsk1 = modelk1.fit(X_train_generator, epochs=200, steps_per_epoch=6136, validation_data=X_val_generator, validation_steps=1648, class_weight=class_weights, callbacks=[backups, stopping])"
   ]
  },
  {
   "cell_type": "code",
   "execution_count": 24,
   "metadata": {},
   "outputs": [
    {
     "data": {
      "image/png": "[encoded data removed]",
      "text/plain": [
       "<Figure size 1080x720 with 1 Axes>"
      ]
     },
     "metadata": {},
     "output_type": "display_data"
    },
    {
     "data": {
      "text/html": [
       "<div>\n",
       "<style scoped>\n",
       "    .dataframe tbody tr th:only-of-type {\n",
       "        vertical-align: middle;\n",
       "    }\n",
       "\n",
       "    .dataframe tbody tr th {\n",
       "        vertical-align: top;\n",
       "    }\n",
       "\n",
       "    .dataframe thead th {\n",
       "        text-align: right;\n",
       "    }\n",
       "</style>\n",
       "<table border=\"1\" class=\"dataframe\">\n",
       "  <thead>\n",
       "    <tr style=\"text-align: right;\">\n",
       "      <th></th>\n",
       "      <th>loss</th>\n",
       "      <th>accuracy</th>\n",
       "      <th>val_loss</th>\n",
       "      <th>val_accuracy</th>\n",
       "    </tr>\n",
       "  </thead>\n",
       "  <tbody>\n",
       "    <tr>\n",
       "      <th>29</th>\n",
       "      <td>0.127199</td>\n",
       "      <td>0.950353</td>\n",
       "      <td>0.513492</td>\n",
       "      <td>0.891630</td>\n",
       "    </tr>\n",
       "    <tr>\n",
       "      <th>30</th>\n",
       "      <td>0.125590</td>\n",
       "      <td>0.950699</td>\n",
       "      <td>0.525429</td>\n",
       "      <td>0.889013</td>\n",
       "    </tr>\n",
       "    <tr>\n",
       "      <th>31</th>\n",
       "      <td>0.122895</td>\n",
       "      <td>0.952400</td>\n",
       "      <td>0.485153</td>\n",
       "      <td>0.895783</td>\n",
       "    </tr>\n",
       "    <tr>\n",
       "      <th>32</th>\n",
       "      <td>0.120332</td>\n",
       "      <td>0.952563</td>\n",
       "      <td>0.523881</td>\n",
       "      <td>0.894911</td>\n",
       "    </tr>\n",
       "    <tr>\n",
       "      <th>33</th>\n",
       "      <td>0.117031</td>\n",
       "      <td>0.953811</td>\n",
       "      <td>0.493380</td>\n",
       "      <td>0.895290</td>\n",
       "    </tr>\n",
       "  </tbody>\n",
       "</table>\n",
       "</div>"
      ],
      "text/plain": [
       "        loss  accuracy  val_loss  val_accuracy\n",
       "29  0.127199  0.950353  0.513492      0.891630\n",
       "30  0.125590  0.950699  0.525429      0.889013\n",
       "31  0.122895  0.952400  0.485153      0.895783\n",
       "32  0.120332  0.952563  0.523881      0.894911\n",
       "33  0.117031  0.953811  0.493380      0.895290"
      ]
     },
     "execution_count": 24,
     "metadata": {},
     "output_type": "execute_result"
    }
   ],
   "source": [
    "plot_keras_fit_history(resultsk1, 0, common_plot_kwargs={\"style\": \"fivethirtyeight\"}).tail()"
   ]
  },
  {
   "cell_type": "code",
   "execution_count": 23,
   "metadata": {},
   "outputs": [
    {
     "name": "stdout",
     "output_type": "stream",
     "text": [
      "Accuracy: 0.8908971315812051\n",
      "Balanced Accuracy: 0.7681570807141194\n"
     ]
    },
    {
     "data": {
      "text/plain": [
       "(0.8908971315812051, 0.7681570807141194)"
      ]
     },
     "execution_count": 23,
     "metadata": {},
     "output_type": "execute_result"
    }
   ],
   "source": [
    "test_batch = next(X_test_generator)\n",
    "image_class_evaluation(modelk1, test_batch[0], test_batch[1])"
   ]
  },
  {
   "cell_type": "code",
   "execution_count": null,
   "metadata": {},
   "outputs": [],
   "source": []
  }
 ],
 "metadata": {
  "kernelspec": {
   "display_name": "Python 3",
   "language": "python",
   "name": "python3"
  },
  "language_info": {
   "codemirror_mode": {
    "name": "ipython",
    "version": 3
   },
   "file_extension": ".py",
   "mimetype": "text/x-python",
   "name": "python",
   "nbconvert_exporter": "python",
   "pygments_lexer": "ipython3",
   "version": "3.7.6"
  }
 },
 "nbformat": 4,
 "nbformat_minor": 4
}
